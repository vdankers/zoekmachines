{
 "cells": [
  {
   "cell_type": "code",
   "execution_count": 1,
   "metadata": {
    "collapsed": true
   },
   "outputs": [],
   "source": [
    "# Assignment  Practice Text classification with Naive Bayes "
   ]
  },
  {
   "cell_type": "markdown",
   "metadata": {},
   "source": [
    "## Notebook made by   (If not filled in correctly: 0 pts for assignment)\n",
    "\n",
    "__Name(s)__: Adriaan de Vries, Max Briel, Verna Dankers\n",
    "\n",
    "__Student id(s)__ : 10795227, 10606513, 10761225\n",
    "\n",
    "### Pledge (taken from [Coursera's Honor Code](https://www.coursera.org/about/terms/honorcode) )\n",
    "\n",
    "\n",
    "\n",
    "Put here a selfie with your photo where you hold a signed paper with the following text: (if this is team work, put two selfies here). The link must be to some place on the web, not to a local file. **Assignments without the selfies will not be graded and receive 0 points.**\n",
    "\n",
    "> My answers to homework, quizzes and exams will be my own work (except for assignments that explicitly permit collaboration).\n",
    "\n",
    ">I will not make solutions to homework, quizzes or exams available to anyone else. This includes both solutions written by me, as well as any official solutions provided by the course staff.\n",
    "\n",
    ">I will not engage in any other activities that will dishonestly improve my results or dishonestly improve/hurt the results of others.\n",
    "\n",
    "<img width=30% src=\"http://i63.tinypic.com/2itj1ic.jpg\" border=\"0\">\n",
    "<img width=30% src='http://oi63.tinypic.com/2q3srh3.jpg'/>\n",
    "<img width=30% src='https://photos-2.dropbox.com/t/2/AAAtQkhxn93mSdCo78Akm_JrjGbR8ihz98WUkZ3kW8bZvA/12/3591884/jpeg/32x32/1/_/1/2/code.jpg/ENyV2wIYhmIgBygH/NmAVceS-6YjoIXKP3nEG6mMUSaAD7WRrf76MHAXLRIc?size=1600x1200&size_mode=3'/>"
   ]
  },
  {
   "cell_type": "markdown",
   "metadata": {},
   "source": [
    "# Practice Text classification with Naive Bayes  \n",
    "        \n",
    "        \n",
    "        \n",
    "<h3>Abstract</h3>\n",
    "<p>We will do text classification on a collection of Dutch parliamentary questions.\n",
    "    The website <a href=\"https://zoek.officielebekendmakingen.nl/zoeken/parlementaire_documenten\">officielebekendmakingen.nl</a>lets you search in \"kamervragen\".\n",
    "    You can donwload\n",
    "    <a href='http://data.politicalmashup.nl/kamervragen/PoliDocs_Kamervragen.zip'>this zipfile with Kamervragen in XML</a>\n",
    "    to see some of the  data in XML format. \n",
    "    It also contains style sheets to show the XML well in a browser.  \n",
    "    The <a href='http://maartenmarx.nl/teaching/zoekmachines/LectureNotes/MySQL/'>MYSQL directory</a> contains an <a href='http://maartenmarx.nl/teaching/zoekmachines/LectureNotes/MySQL/KVR14807.xml'>example   Kamervraag XML file</a>. Note that in your browser you see the result of applying stylesheets. So choose View Source or open it in an editor.</p>\n",
    "\n",
    "<h3>First exploration</h3>\n",
    "\n",
    "See below.\n",
    "\n",
    "<h2>Exercise</h2>\n",
    "\n",
    "<p>We will use the fields in elements of the form <tt> &lt;item attribuut=\"Afkomstig_van\"></tt> as our classes. \n",
    "    These are the ministeries to whom the question is addressed.\n",
    "    An example is \n",
    "    <pre>\n",
    "        &lt;item attribuut=\"Afkomstig_van\">Landbouw, Natuurbeheer en Visserij (LNV)&lt;/item>\n",
    "    </pre>\n",
    "    Note that these labels are <strong>not normalized</strong>, see e.g. the counts below:\n",
    "    <pre>\n",
    "Justitie (JUS)                                                   3219\n",
    "Volksgezondheid, Welzijn en Sport (VWS)                          2630\n",
    "Buitenlandse Zaken (BUZA)                                        1796\n",
    "Verkeer en Waterstaat (VW)                                       1441\n",
    "Justitie                                                         1333\n",
    "Sociale Zaken en Werkgelegenheid (SZW)                           1231\n",
    "Onderwijs, Cultuur en Wetenschappen (OCW)                        1187\n",
    "Volkshuisvesting, Ruimtelijke Ordening en Milieubeheer (VROM)     984\n",
    "FinanciÃ«n (FIN)                                                   960\n",
    "Volksgezondheid, Welzijn en Sport                                 951\n",
    "Economische Zaken (EZ)                                            946\n",
    "Buitenlandse Zaken                                                753\n",
    "Binnenlandse Zaken en Koninkrijksrelaties (BZK)                   725\n",
    "Verkeer en Waterstaat                                             724\n",
    "Defensie (DEF)                                                    646\n",
    "Sociale Zaken en Werkgelegenheid                                  607\n",
    "Landbouw, Natuurbeheer en Visserij (LNV)                          586\n",
    "Volkshuisvesting, Ruimtelijke Ordening en Milieubeheer            554\n",
    "Onderwijs, Cultuur en Wetenschappen                               532\n",
    "Vreemdelingenzaken en Integratie (VI)                             466\n",
    "    </pre>\n",
    "</p>\n",
    "\n",
    "  <ol>\n",
    "      <li>Normalize the values for \"ministerie\" and choose 10 ministeries to work with. </li>\n",
    "      <li>Implement the two algorithms in Fig MRS.13.2, using your earlier code for creating term and document frequencies.\n",
    "      It might be easier to use the representation and formula given in MRS section 13.4.1.</li>\n",
    "      <li>On this collection, train NB text classifiers for 10 different classes with enough and interesting data.</li>\n",
    "      <li>Compute for each term and each of your 10 classes its utility for that class using mutual information.</li>\n",
    "      <li>For each class, show the top 10 words as in Figure 13.7 in MRS.</li>\n",
    "      <li>Evaluate your classifiers using Precision, Recall and F1. (\n",
    "           <br/>\n",
    "          Give a table in which you show these values for using the top 10, top 100 terms and all terms, for all of your 10 classes.\n",
    "          Thus do feature selection per class, and use for each class the top n best features for that class. \n",
    "          <br/>\n",
    "      Also show the microaverage(s) for all 10 classes together.\n",
    "      <br/>\n",
    "      If you like you can also present this in a figure like MRS.13.8. \n",
    "      Then compute the F1 measure for the same number of terms as in that figure.</li>\n",
    "      <li>Reflect and report briefly about your choices in this process and about the obtained results. </li>\n",
    "  </ol>\n",
    "\n",
    "<h3>Training/Testing</h3>\n",
    "<p>It is important that you do not test your classifier using documents that have also been used in training.\n",
    "    So split up your collection in a training set and a test set. A 80%-20% split is reasonable.\n",
    "\n",
    "<br/>\n",
    "    If you have too little data you can use 5 or <a href=\"http://en.wikipedia.org/wiki/Cross-validation_(statistics)#k-fold_cross-validation\">10-fold cross validation</a>.</p>\n",
    "\n",
    "<h2>Form of presentation</h2>\n",
    "<ul>\n",
    "    <li>Make slides or wikipages and have your system running and be able to accept documents from the web. </li>\n",
    "    <li>Create one or two slides or wikipages for each of the sub exercises listed above.\n",
    "</li>\n",
    "<li>Make it clear in the heading of the slides which sub exercises you talk about.</li>\n",
    "    <li>Show running code with one or two  good examples (a TP of course, but also a FP and an error-analysis is nice to show). </li>\n",
    "\n",
    "</ul>\n",
    "\n",
    "<h2>Form of handing in your final product</h2>\n",
    "<ul>\n",
    "    <li>An IPython notebook would be perfect, with clear indications which part of the code answers which subquestion.</li>\n",
    "    <li>A clear git repo, with good comments and a clear separation and indication what code does what is also fine.</li>\n",
    "    <li> You are free to program in whatever language you prefer.</li>\n",
    "</ul>\n"
   ]
  },
  {
   "cell_type": "markdown",
   "metadata": {},
   "source": [
    "# Exercise"
   ]
  },
  {
   "cell_type": "markdown",
   "metadata": {},
   "source": [
    "First we import our data into a pandas data frame."
   ]
  },
  {
   "cell_type": "code",
   "execution_count": 89,
   "metadata": {
    "collapsed": false
   },
   "outputs": [],
   "source": [
    "import pandas as pd\n",
    "\n",
    "# Change to KVR1000.csv.gz if this becomes too slow for you\n",
    "kvrdf= pd.read_csv('http://maartenmarx.nl/teaching/zoekmachines/LectureNotes/MySQL/KVR.csv.gz', \n",
    "                   compression='gzip', sep='\\t', encoding='utf-8',\n",
    "                   index_col=0, names=['jaar', 'partij','titel','vraag','antwoord','ministerie']) "
   ]
  },
  {
   "cell_type": "markdown",
   "metadata": {},
   "source": [
    "#### 1. Normalize the values for \"ministerie\" and choose 10 ministeries to work with."
   ]
  },
  {
   "cell_type": "code",
   "execution_count": 90,
   "metadata": {
    "collapsed": false
   },
   "outputs": [],
   "source": [
    "from collections import Counter\n",
    "import re\n",
    "\n",
    "def get_corpus(frame, n):\n",
    "    \"\"\"\n",
    "    ...\n",
    "    \"\"\"\n",
    "    # Extract all documents and their ministries\n",
    "    ministeries = list(frame.ministerie)\n",
    "    documents = list(frame.vraag)\n",
    "    \n",
    "    # Now we extract our top 10 classes\n",
    "    synonyms, classes = normalize_names(ministeries, n)\n",
    "    \n",
    "    new_documents = []\n",
    "    new_ministeries = []\n",
    "\n",
    "    # Find all documents that belong to the classes \n",
    "    # and normalize all words\n",
    "    for i, document in enumerate(documents):\n",
    "        ministerie = ministeries[i]\n",
    "        if isinstance(ministerie, (str, unicode)) and synonyms[ministerie] in classes:\n",
    "            try:\n",
    "                document = normalize(document.encode('utf-8'))\n",
    "                new_documents.append(WhitespaceTokenizer().tokenize(document))\n",
    "                new_ministeries.append(synonyms[ministeries[i]])\n",
    "            except Exception:\n",
    "                pass\n",
    "    \n",
    "    return (new_documents, new_ministeries, classes)\n",
    "\n",
    "def normalize(document):\n",
    "    \"\"\"\n",
    "    Normalize capital letters and punctuation.\n",
    "    \"\"\"\n",
    "    document = document.lower()\n",
    "    document = re.sub(r'[^\\w\\s]', '', document)\n",
    "    return document\n",
    "\n",
    "def normalize_names(items, n):\n",
    "    \"\"\"\n",
    "    Normalizes names of given items and returns a counter\n",
    "    with the names and the number of occurences, \n",
    "    and a dict containing all equivalences.\n",
    "    \"\"\"\n",
    "    count_items = Counter()\n",
    "    synonyms = dict()\n",
    "    \n",
    "    for name in items:\n",
    "        if isinstance(name, (str, unicode)):\n",
    "            new_name = re.sub('\\(.*?\\)', '', name.lower()).strip()\n",
    "            count_items[new_name] += 1\n",
    "            synonyms[name] = new_name\n",
    "    \n",
    "    count_items = count_items.most_common(n)\n",
    "    classes = list(zip(*count_items)[0])\n",
    "    \n",
    "    return (synonyms, classes)\n",
    "\n",
    "documents, ministeries, classes = get_corpus(kvrdf, 10)"
   ]
  },
  {
   "cell_type": "code",
   "execution_count": 91,
   "metadata": {
    "collapsed": false
   },
   "outputs": [
    {
     "name": "stdout",
     "output_type": "stream",
     "text": [
      "(['hebt', 'u', 'kennisgenomen', 'van', 'het', 'televisieprogramma', 'lopende', 'zaken', 'waarin', 'een', 'actiegroep', 'met', 'metingen', 'zou', 'aantonen', 'dat', 'het', 'geluidsniveau', 'bij', 'het', 'officiele', 'meetpunt', 'in', 'zwanenburg', 'veelal', 'zon', '8', 'tot', '10', 'dba', 'hoger', 'is', 'dan', 'in', 'het', 'schipholinformatiecentrum', 'wordt', 'aangegeven', 'kunt', 'u', 'indien', 'het', 'geluidsniveau', 'inderdaad', 'hoger', 'is', 'dit', 'grote', 'verschil', 'verklaren', 'zo', 'neen', 'bent', 'u', 'dan', 'bereid', 'een', 'en', 'ander', 'nader', 'te', 'onderzoeken', 'om', 'te', 'komen', 'tot', 'een', 'zo', 'goed', 'mogelijke', 'weergave', 'van', 'het', 'geluidsniveau', 'indien', 'blijkt', 'dat', 'de', 'metingen', 'tot', 'nu', 'toe', 'niet', 'correct', 'zijn', 'welke', 'consequenties', 'heeft', 'dit', 'dan', 'voor', 'de', 'aannames', 'zoals', 'deze', 'respectievelijk', 'voor', 'de', 'huidige', 'en', 'de', 'toekomstige', 'situatie', 'in', 'de', 'pkb', 'zijn', 'gehanteerd', 'lopende', 'zaken', 'vpro', '11', 'december', '1994'], u'verkeer en waterstaat')\n"
     ]
    }
   ],
   "source": [
    "print(documents[0],ministeries[0])"
   ]
  },
  {
   "cell_type": "markdown",
   "metadata": {},
   "source": [
    "#### 2. Implement the two algorithms in Fig MRS.13.2, using your earlier code for creating term and document frequencies. It might be easier to use the representation and formula given in MRS section 13.4.1."
   ]
  },
  {
   "cell_type": "code",
   "execution_count": 92,
   "metadata": {
    "collapsed": false
   },
   "outputs": [],
   "source": [
    "from nltk.tokenize import WhitespaceTokenizer\n",
    "import codecs\n",
    "import time\n",
    "from __future__ import division\n",
    "\n",
    "def train_multinomial_NB(classes, documents, ministeries):\n",
    "    \"\"\"\n",
    "    Train a Naive Bayes classifier on the given data for \n",
    "    a given set of classes. Return the vocabulary, and\n",
    "    prior and conditional probabilities.\n",
    "    \"\"\"\n",
    "    vocabulary = extract_vocabulary(documents)\n",
    "    n = len(documents)\n",
    "    class_members = calculate_membership(classes, zip(documents, ministeries))\n",
    "    cond_probs = {term : dict() for term in vocabulary}\n",
    "    prior = dict()\n",
    "    \n",
    "    for c in classes:\n",
    "        nu = time.time()\n",
    "        nc = len(class_members[c])\n",
    "        prior[c] = nc / n\n",
    "        text = concatenate(class_members[c], documents)\n",
    "        \n",
    "        occurences = Counter()\n",
    "        for token in text:\n",
    "            occurences[token] += 1\n",
    "        \n",
    "        denominator = sum(occurences[term] for term in occurences) + 1\n",
    "        for term in vocabulary:\n",
    "            cond_probs[term][c] = (occurences[term] + 1) / denominator\n",
    "    \n",
    "    return (vocabulary, prior, cond_probs)\n",
    "\n",
    "def extract_vocabulary(documents):\n",
    "    \"\"\"\n",
    "    Given a list of documents, return the set\n",
    "    of unique tokens.\n",
    "    \"\"\"\n",
    "    vocabulary = set(str(token)\n",
    "                     for document in documents \n",
    "                     for token in document\n",
    "                    )\n",
    "    return vocabulary\n",
    "\n",
    "def calculate_membership(classes, data):\n",
    "    \"\"\"\n",
    "    Create a dictionary with all indices of class members,\n",
    "    per class.\n",
    "    \"\"\"\n",
    "    membership = {c : [] for c in classes}\n",
    "    for i, (doc, ministerie) in enumerate(data):\n",
    "        membership[ministerie].append(i)\n",
    "    return membership\n",
    "\n",
    "def concatenate(members, documents):\n",
    "    \"\"\"\n",
    "    Return the concatenation of all documents\n",
    "    that belong to members.\n",
    "    \"\"\"\n",
    "    return [word \n",
    "            for i in members\n",
    "            for word in documents[i]\n",
    "           ]"
   ]
  },
  {
   "cell_type": "code",
   "execution_count": 93,
   "metadata": {
    "collapsed": true
   },
   "outputs": [],
   "source": [
    "from math import log\n",
    "\n",
    "def apply_multinomial_NB(classes, vocabulary, prior, cond_prob, doc):\n",
    "    \"\"\"\n",
    "    Classify doc with the the trained multinomial Naive Bayes classifier, \n",
    "    which consists of the classes, documents, prior, and cond_prob. \n",
    "    \"\"\"\n",
    "    score = {}\n",
    "    tokens = extract_tokens(vocabulary, doc)\n",
    "    for c in classes:\n",
    "        score[c] = log(prior[c],10)\n",
    "        for t in tokens:\n",
    "            score[c] += log(cond_prob[t][c],10)       \n",
    "    return max(score, key=score.get) \n",
    "\n",
    "def extract_tokens(vocabulary, doc):\n",
    "    \"\"\"\n",
    "    Extracts the tokens from to document that are present in the vocabulary.\n",
    "    \"\"\"\n",
    "    tokens = set()\n",
    "    for word in doc: \n",
    "        if word in vocabulary:\n",
    "            tokens.add(word)\n",
    "    return tokens\n",
    "    "
   ]
  },
  {
   "cell_type": "markdown",
   "metadata": {},
   "source": [
    "#### 3. On this collection, train NB text classifiers for 10 different classes with enough and interesting data.\n",
    "\n",
    "With these 10 classes, there are 21621 samples that we can use, which is more than half of the data. We split these samples in train and test samples. We use "
   ]
  },
  {
   "cell_type": "code",
   "execution_count": 98,
   "metadata": {
    "collapsed": false
   },
   "outputs": [
    {
     "name": "stdout",
     "output_type": "stream",
     "text": [
      "16215\n"
     ]
    }
   ],
   "source": [
    "n = int(len(documents) * 0.75)\n",
    "print(n)\n",
    "\n",
    "train_docs = documents[:n]\n",
    "train_mins = ministeries[:n]\n",
    "\n",
    "test_docs = documents[n:]\n",
    "test_mins = ministeries[n:]"
   ]
  },
  {
   "cell_type": "code",
   "execution_count": 97,
   "metadata": {
    "collapsed": false
   },
   "outputs": [
    {
     "name": "stdout",
     "output_type": "stream",
     "text": [
      "{u'financi\\xebn': 0.7139689578713969, u'economische zaken': 0.581267217630854, u'sociale zaken en werkgelegenheid': 0.800718132854578, u'justitie': 0.6605384110308602, u'landbouw, natuurbeheer en visserij': 0.8606811145510835, u'onderwijs, cultuur en wetenschappen': 0.7790697674418605, u'volkshuisvesting, ruimtelijke ordening en milieubeheer': 0.6764132553606238, u'buitenlandse zaken': 0.7648809523809523, u'verkeer en waterstaat': 0.6451149425287356, u'volksgezondheid, welzijn en sport': 0.6505032021957914}\n"
     ]
    }
   ],
   "source": [
    "def test_NB(classes, vocab, prior, cond_prob, documents, ministeries):\n",
    "    \"\"\"\n",
    "    Test the Naive Bayes classifier on given test data\n",
    "    and return the accuracy per class.\n",
    "    \"\"\"\n",
    "    accuracy = { c : Counter() for c in classes }\n",
    "\n",
    "    for i, doc in enumerate(documents):\n",
    "        score = apply_multinomial_NB(classes, vocab, prior, cond_prob, doc)\n",
    "        ministerie = ministeries[i]\n",
    "        accuracy[ministerie]['all'] += 1\n",
    "        if score == ministerie:\n",
    "            accuracy[ministerie]['right'] += 1\n",
    "\n",
    "    return { c : accuracy[c]['right'] / accuracy[c]['all'] for c in accuracy }\n",
    "\n",
    "# Train NB text classifiers for 10 classes \n",
    "vocab, prior, cond_prob = train_multinomial_NB(classes, train_docs, train_mins)\n",
    "\n",
    "# Test NB classifier on test data\n",
    "acc = test_NB(classes, vocab, prior, cond_prob, test_docs, test_mins)\n",
    "print(acc)"
   ]
  },
  {
   "cell_type": "markdown",
   "metadata": {},
   "source": [
    "#### 4. Compute for each term and each of your 10 classes its utility for that class using mutual information."
   ]
  },
  {
   "cell_type": "markdown",
   "metadata": {},
   "source": [
    "#### 5. For each class, show the top 10 words as in Figure 13.7 in MRS."
   ]
  },
  {
   "cell_type": "markdown",
   "metadata": {},
   "source": [
    "#### 6. Evaluate your classifiers using Precision, Recall and F1. Give a table in which you show these values for using the top 10, top 100 terms and all terms, for all of your 10 classes. Thus do feature selection per class, and use for each class the top n best features for that class. Also show the microaverage(s) for all 10 classes together. If you like you can also present this in a figure like MRS.13.8. Then compute the F1 measure for the same number of terms as in that figure."
   ]
  },
  {
   "cell_type": "markdown",
   "metadata": {
    "collapsed": true
   },
   "source": [
    "#### 7. Reflect and report briefly about your choices in this process and about the obtained results."
   ]
  },
  {
   "cell_type": "code",
   "execution_count": null,
   "metadata": {
    "collapsed": true
   },
   "outputs": [],
   "source": []
  }
 ],
 "metadata": {
  "anaconda-cloud": {},
  "kernelspec": {
   "display_name": "Python 2",
   "language": "python",
   "name": "python2"
  },
  "language_info": {
   "codemirror_mode": {
    "name": "ipython",
    "version": 2
   },
   "file_extension": ".py",
   "mimetype": "text/x-python",
   "name": "python",
   "nbconvert_exporter": "python",
   "pygments_lexer": "ipython2",
   "version": "2.7.12"
  }
 },
 "nbformat": 4,
 "nbformat_minor": 0
}
