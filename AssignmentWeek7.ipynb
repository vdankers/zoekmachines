{
 "cells": [
  {
   "cell_type": "markdown",
   "metadata": {},
   "source": [
    "# Assignment  week 7 MRS Chap 12"
   ]
  },
  {
   "cell_type": "markdown",
   "metadata": {},
   "source": [
    "## Notebook made by   (If not filled in correctly: 0 pts for assignment)\n",
    "\n",
    "__Name(s)__: Adriaan de Vries, Max Briel, Verna Dankers\n",
    "\n",
    "__Student id(s)__ : 10795227, 10606513, 10761225\n",
    "\n",
    "### Pledge (taken from [Coursera's Honor Code](https://www.coursera.org/about/terms/honorcode) )\n",
    "\n",
    "\n",
    "\n",
    "Put here a selfie with your photo where you hold a signed paper with the following text: (if this is team work, put two selfies here). The link must be to some place on the web, not to a local file. **Assignments without the selfies will not be graded and receive 0 points.**\n",
    "\n",
    "> My answers to homework, quizzes and exams will be my own work (except for assignments that explicitly permit collaboration).\n",
    "\n",
    ">I will not make solutions to homework, quizzes or exams available to anyone else. This includes both solutions written by me, as well as any official solutions provided by the course staff.\n",
    "\n",
    ">I will not engage in any other activities that will dishonestly improve my results or dishonestly improve/hurt the results of others."
   ]
  },
  {
   "cell_type": "markdown",
   "metadata": {},
   "source": [
    "<img width=30% src=\"http://i63.tinypic.com/2itj1ic.jpg\" border=\"0\">\n",
    "<img width=30% src='http://oi63.tinypic.com/2q3srh3.jpg'/>\n",
    "<img width=30% src='http://i67.tinypic.com/2hd1is5.jpg'/>"
   ]
  },
  {
   "cell_type": "markdown",
   "metadata": {},
   "source": [
    "## Questions  MRS chap 12: 12.3, 12.4, 12.6.a, 12.7-9\n",
    "\n",
    "\n",
    "### 12.3 Question\n",
    "\n",
    "What is the likelihood ratio of the document according to $M_1$ and $M_2$ in Example 12.2?\n",
    "\n",
    "### Answer\n",
    "\n",
    "Likelihood = to compare two models for a data set, we can calculate their likelihood ratio, which results from simply dividing the probability of the data according to one model by the probability of the data according to the other model.\n",
    "\n",
    "$P(s\\ | M_1 )$ = 0.00000000000048\n",
    "\n",
    "$P(s\\ | M_2 )$ = 0.000000000000000384\n",
    "\n",
    "likelihood = $\\frac{0.000000000000000384}{0.00000000000048}$ = 0.0008\n",
    "\n",
    "### 12.4 Question\n",
    "\n",
    "No explicit STOP probability appeared in Example 12.2. Assuming that the STOP probability of each model is 0.1, does this change the likelihood ratio of a document according to the two models?\n",
    "\n",
    "### Answer\n",
    "\n",
    "No, since the STOP probability will be the same for both models, the division will stay the same. When we look at this question mathematically, that's trivial.\n",
    "\n",
    "We can illustrate our point with the example from 12.3:\n",
    "\n",
    "likelihood = $\\frac{0.000000000000000384 * 0.1}{0.00000000000048 * 0.1}$ = 0.0008\n",
    "\n",
    "### 12.6.a,\n",
    "\n",
    "### 12.7\n",
    "\n",
    "### 12.8\n",
    "\n",
    "### 12.9"
   ]
  },
  {
   "cell_type": "code",
   "execution_count": null,
   "metadata": {
    "collapsed": true
   },
   "outputs": [],
   "source": []
  }
 ],
 "metadata": {
  "kernelspec": {
   "display_name": "Python 2",
   "language": "python",
   "name": "python2"
  },
  "language_info": {
   "codemirror_mode": {
    "name": "ipython",
    "version": 2
   },
   "file_extension": ".py",
   "mimetype": "text/x-python",
   "name": "python",
   "nbconvert_exporter": "python",
   "pygments_lexer": "ipython2",
   "version": "2.7.12"
  }
 },
 "nbformat": 4,
 "nbformat_minor": 0
}
