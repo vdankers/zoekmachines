{
 "cells": [
  {
   "cell_type": "code",
   "execution_count": null,
   "metadata": {
    "collapsed": true
   },
   "outputs": [],
   "source": [
    "# Assignment  Practice Text classification with Naive Bayes "
   ]
  },
  {
   "cell_type": "markdown",
   "metadata": {},
   "source": [
    "## Notebook made by   (If not filled in correctly: 0 pts for assignment)\n",
    "\n",
    "__Name(s)__: Adriaan de Vries, Max Briel, Verna Dankers\n",
    "\n",
    "__Student id(s)__ : 10795227, 10606513, 10761225\n",
    "\n",
    "### Pledge (taken from [Coursera's Honor Code](https://www.coursera.org/about/terms/honorcode) )\n",
    "\n",
    "\n",
    "\n",
    "Put here a selfie with your photo where you hold a signed paper with the following text: (if this is team work, put two selfies here). The link must be to some place on the web, not to a local file. **Assignments without the selfies will not be graded and receive 0 points.**\n",
    "\n",
    "> My answers to homework, quizzes and exams will be my own work (except for assignments that explicitly permit collaboration).\n",
    "\n",
    ">I will not make solutions to homework, quizzes or exams available to anyone else. This includes both solutions written by me, as well as any official solutions provided by the course staff.\n",
    "\n",
    ">I will not engage in any other activities that will dishonestly improve my results or dishonestly improve/hurt the results of others.\n",
    "\n",
    "<img width=30% src=\"http://i63.tinypic.com/2itj1ic.jpg\" border=\"0\">\n",
    "<img width=30% src='http://oi63.tinypic.com/2q3srh3.jpg'/>\n",
    "<img width=30% src='https://photos-2.dropbox.com/t/2/AAAtQkhxn93mSdCo78Akm_JrjGbR8ihz98WUkZ3kW8bZvA/12/3591884/jpeg/32x32/1/_/1/2/code.jpg/ENyV2wIYhmIgBygH/NmAVceS-6YjoIXKP3nEG6mMUSaAD7WRrf76MHAXLRIc?size=1600x1200&size_mode=3'/>"
   ]
  },
  {
   "cell_type": "markdown",
   "metadata": {},
   "source": [
    "# Practice Text classification with Naive Bayes  \n",
    "        \n",
    "        \n",
    "        \n",
    "<h3>Abstract</h3>\n",
    "<p>We will do text classification on a collection of Dutch parliamentary questions.\n",
    "    The website <a href=\"https://zoek.officielebekendmakingen.nl/zoeken/parlementaire_documenten\">officielebekendmakingen.nl</a>lets you search in \"kamervragen\".\n",
    "    You can donwload\n",
    "    <a href='http://data.politicalmashup.nl/kamervragen/PoliDocs_Kamervragen.zip'>this zipfile with Kamervragen in XML</a>\n",
    "    to see some of the  data in XML format. \n",
    "    It also contains style sheets to show the XML well in a browser.  \n",
    "    The <a href='http://maartenmarx.nl/teaching/zoekmachines/LectureNotes/MySQL/'>MYSQL directory</a> contains an <a href='http://maartenmarx.nl/teaching/zoekmachines/LectureNotes/MySQL/KVR14807.xml'>example   Kamervraag XML file</a>. Note that in your browser you see the result of applying stylesheets. So choose View Source or open it in an editor.</p>\n",
    "\n",
    "<h3>First exploration</h3>\n",
    "\n",
    "See below.\n",
    "\n",
    "<h2>Exercise</h2>\n",
    "\n",
    "<p>We will use the fields in elements of the form <tt> &lt;item attribuut=\"Afkomstig_van\"></tt> as our classes. \n",
    "    These are the ministeries to whom the question is addressed.\n",
    "    An example is \n",
    "    <pre>\n",
    "        &lt;item attribuut=\"Afkomstig_van\">Landbouw, Natuurbeheer en Visserij (LNV)&lt;/item>\n",
    "    </pre>\n",
    "    Note that these labels are <strong>not normalized</strong>, see e.g. the counts below:\n",
    "    <pre>\n",
    "Justitie (JUS)                                                   3219\n",
    "Volksgezondheid, Welzijn en Sport (VWS)                          2630\n",
    "Buitenlandse Zaken (BUZA)                                        1796\n",
    "Verkeer en Waterstaat (VW)                                       1441\n",
    "Justitie                                                         1333\n",
    "Sociale Zaken en Werkgelegenheid (SZW)                           1231\n",
    "Onderwijs, Cultuur en Wetenschappen (OCW)                        1187\n",
    "Volkshuisvesting, Ruimtelijke Ordening en Milieubeheer (VROM)     984\n",
    "FinanciÃ«n (FIN)                                                   960\n",
    "Volksgezondheid, Welzijn en Sport                                 951\n",
    "Economische Zaken (EZ)                                            946\n",
    "Buitenlandse Zaken                                                753\n",
    "Binnenlandse Zaken en Koninkrijksrelaties (BZK)                   725\n",
    "Verkeer en Waterstaat                                             724\n",
    "Defensie (DEF)                                                    646\n",
    "Sociale Zaken en Werkgelegenheid                                  607\n",
    "Landbouw, Natuurbeheer en Visserij (LNV)                          586\n",
    "Volkshuisvesting, Ruimtelijke Ordening en Milieubeheer            554\n",
    "Onderwijs, Cultuur en Wetenschappen                               532\n",
    "Vreemdelingenzaken en Integratie (VI)                             466\n",
    "    </pre>\n",
    "</p>\n",
    "\n",
    "  <ol>\n",
    "      <li>Normalize the values for \"ministerie\" and choose 10 ministeries to work with. </li>\n",
    "      <li>Implement the two algorithms in Fig MRS.13.2, using your earlier code for creating term and document frequencies.\n",
    "      It might be easier to use the representation and formula given in MRS section 13.4.1.</li>\n",
    "      <li>On this collection, train NB text classifiers for 10 different classes with enough and interesting data.</li>\n",
    "      <li>Compute for each term and each of your 10 classes its utility for that class using mutual information.</li>\n",
    "      <li>For each class, show the top 10 words as in Figure 13.7 in MRS.</li>\n",
    "      <li>Evaluate your classifiers using Precision, Recall and F1. (\n",
    "           <br/>\n",
    "          Give a table in which you show these values for using the top 10, top 100 terms and all terms, for all of your 10 classes.\n",
    "          Thus do feature selection per class, and use for each class the top n best features for that class. \n",
    "          <br/>\n",
    "      Also show the microaverage(s) for all 10 classes together.\n",
    "      <br/>\n",
    "      If you like you can also present this in a figure like MRS.13.8. \n",
    "      Then compute the F1 measure for the same number of terms as in that figure.</li>\n",
    "      <li>Reflect and report briefly about your choices in this process and about the obtained results. </li>\n",
    "  </ol>\n",
    "\n",
    "<h3>Training/Testing</h3>\n",
    "<p>It is important that you do not test your classifier using documents that have also been used in training.\n",
    "    So split up your collection in a training set and a test set. A 80%-20% split is reasonable.\n",
    "\n",
    "<br/>\n",
    "    If you have too little data you can use 5 or <a href=\"http://en.wikipedia.org/wiki/Cross-validation_(statistics)#k-fold_cross-validation\">10-fold cross validation</a>.</p>\n",
    "\n",
    "<h2>Form of presentation</h2>\n",
    "<ul>\n",
    "    <li>Make slides or wikipages and have your system running and be able to accept documents from the web. </li>\n",
    "    <li>Create one or two slides or wikipages for each of the sub exercises listed above.\n",
    "</li>\n",
    "<li>Make it clear in the heading of the slides which sub exercises you talk about.</li>\n",
    "    <li>Show running code with one or two  good examples (a TP of course, but also a FP and an error-analysis is nice to show). </li>\n",
    "\n",
    "</ul>\n",
    "\n",
    "<h2>Form of handing in your final product</h2>\n",
    "<ul>\n",
    "    <li>An IPython notebook would be perfect, with clear indications which part of the code answers which subquestion.</li>\n",
    "    <li>A clear git repo, with good comments and a clear separation and indication what code does what is also fine.</li>\n",
    "    <li> You are free to program in whatever language you prefer.</li>\n",
    "</ul>\n"
   ]
  },
  {
   "cell_type": "markdown",
   "metadata": {},
   "source": [
    "# Exercise"
   ]
  },
  {
   "cell_type": "markdown",
   "metadata": {},
   "source": [
    "First we import our data into a pandas data frame."
   ]
  },
  {
   "cell_type": "code",
   "execution_count": 2,
   "metadata": {
    "collapsed": false
   },
   "outputs": [],
   "source": [
    "import pandas as pd\n",
    "\n",
    "# Change to KVR1000.csv.gz if this becomes too slow for you\n",
    "kvrdf= pd.read_csv('http://maartenmarx.nl/teaching/zoekmachines/LectureNotes/MySQL/KVR.csv.gz', \n",
    "                   compression='gzip', sep='\\t', encoding='utf-8',\n",
    "                   index_col=0, names=['jaar', 'partij','titel','vraag','antwoord','ministerie'])"
   ]
  },
  {
   "cell_type": "markdown",
   "metadata": {},
   "source": [
    "#### 1. Normalize the values for \"ministerie\" and choose 10 ministeries to work with."
   ]
  },
  {
   "cell_type": "code",
   "execution_count": 3,
   "metadata": {
    "collapsed": false
   },
   "outputs": [],
   "source": [
    "from collections import Counter\n",
    "import re\n",
    "\n",
    "def get_corpus(frame, n):\n",
    "    \"\"\"\n",
    "    Extract the normalised documents from the top n most common normalised ministeries. \n",
    "    \"\"\"\n",
    "    # Extract all documents and their ministries\n",
    "    ministeries = list(frame.ministerie)\n",
    "    documents = list(frame.vraag)\n",
    "    \n",
    "    # Now we extract our top 10 classes\n",
    "    synonyms, classes = normalize_names(ministeries, n)\n",
    "    \n",
    "    # Find all documents that belong to the classes and normalize all the words in it. \n",
    "    new_d, new_m = zip(*((normalize(x.encode('utf-8')).split(),synonyms[y])\n",
    "                             for (x,y) in zip(documents, ministeries) \n",
    "                                 if isinstance(y,(str,unicode)) and synonyms[y] in classes))\n",
    "\n",
    "    return (new_d, new_m, classes)\n",
    "\n",
    "def normalize(document):\n",
    "    \"\"\"\n",
    "    Normalize capital letters and punctuation.\n",
    "    \"\"\"\n",
    "    document = re.sub(r'[^\\w\\s]', '', document.lower())\n",
    "    return document\n",
    "\n",
    "def normalize_names(items, n):\n",
    "    \"\"\"\n",
    "    Normalizes names of given items and returns a counter\n",
    "    with the names and the number of occurences, \n",
    "    and a dict containing all equivalences.\n",
    "    \"\"\"\n",
    "    count_items = Counter()\n",
    "    synonyms = dict()\n",
    "    \n",
    "    for name in items:\n",
    "        if isinstance(name, (str, unicode)):\n",
    "            new_name = re.sub('\\(.*?\\)', '', name.lower()).strip()\n",
    "            count_items[new_name] += 1\n",
    "            synonyms[name] = new_name\n",
    "    \n",
    "    count_items = count_items.most_common(n)\n",
    "    classes = list(zip(*count_items)[0])\n",
    "    \n",
    "    return (synonyms, classes)\n",
    "\n",
    "documents, ministeries, classes = get_corpus(kvrdf, 10)"
   ]
  },
  {
   "cell_type": "code",
   "execution_count": null,
   "metadata": {
    "collapsed": false,
    "scrolled": true
   },
   "outputs": [],
   "source": []
  },
  {
   "cell_type": "markdown",
   "metadata": {},
   "source": [
    "#### 2. Implement the two algorithms in Fig MRS.13.2, using your earlier code for creating term and document frequencies. It might be easier to use the representation and formula given in MRS section 13.4.1."
   ]
  },
  {
   "cell_type": "code",
   "execution_count": 4,
   "metadata": {
    "collapsed": false
   },
   "outputs": [],
   "source": [
    "from nltk.tokenize import WhitespaceTokenizer\n",
    "import codecs\n",
    "import time\n",
    "from __future__ import division\n",
    "\n",
    "def train_multinomial_NB(classes, documents, ministeries):\n",
    "    \"\"\"\n",
    "    Train a Naive Bayes classifier on the given data for \n",
    "    a given set of classes. Return the vocabulary, and\n",
    "    prior and conditional probabilities.\n",
    "    \"\"\"\n",
    "    vocabulary = extract_vocabulary(documents)\n",
    "    n = len(documents)\n",
    "    class_members = calculate_membership(classes, ministeries)\n",
    "    cond_probs = {term : dict() for term in vocabulary}\n",
    "    prior = dict()\n",
    "    \n",
    "    for c in classes:\n",
    "        nu = time.time()\n",
    "        nc = len(class_members[c])\n",
    "        prior[c] = nc / n\n",
    "        # Get all the words from a specific class \n",
    "        text = [word for i in class_members[c] for word in documents[i]]\n",
    "        #%time concatenate(class_members[c], documents)\n",
    "        \n",
    "        occurences = Counter()\n",
    "        for token in text:\n",
    "            occurences[token] += 1\n",
    "        \n",
    "        denominator = sum(occurences[term] for term in occurences) + 1\n",
    "        for term in vocabulary:\n",
    "            cond_probs[term][c] = (occurences[term] + 1) / denominator\n",
    "    \n",
    "    return (vocabulary, prior, cond_probs)\n",
    "\n",
    "def extract_vocabulary(documents):\n",
    "    \"\"\"\n",
    "    Given a list of documents, return the set\n",
    "    of unique tokens in the documents.\n",
    "    \"\"\"\n",
    "    vocabulary = set(token\n",
    "                     for document in documents \n",
    "                     for token in document\n",
    "                    )\n",
    "    return vocabulary\n",
    "\n",
    "def calculate_membership(classes, ministeries):\n",
    "    \"\"\"\n",
    "    Create a dictionary with all indices of class members,\n",
    "    per class.\n",
    "    \"\"\"\n",
    "    \n",
    "    membership = {c : [] for c in classes}\n",
    "    for i, ministerie in enumerate(ministeries):\n",
    "        membership[ministerie].append(i)\n",
    "    return membership\n",
    "\n",
    "# Niet meer nodig. Staat nu hierboven in de code. Niet als aparte functie\n",
    "def concatenate(members, documents):\n",
    "    \"\"\"\n",
    "    Return the concatenation of all documents\n",
    "    that belong to members.\n",
    "    \"\"\"\n",
    "    return [word \n",
    "            for i in members\n",
    "            for word in documents[i]\n",
    "           ]"
   ]
  },
  {
   "cell_type": "code",
   "execution_count": 6,
   "metadata": {
    "collapsed": true
   },
   "outputs": [],
   "source": [
    "from math import log\n",
    "\n",
    "def apply_multinomial_NB(classes, vocabulary, prior, cond_prob, doc):\n",
    "    \"\"\"\n",
    "    Classify doc with the the trained multinomial Naive Bayes classifier, \n",
    "    which consists of the classes, documents, prior, and cond_prob. \n",
    "    \"\"\"\n",
    "    score = {}\n",
    "    tokens = extract_tokens(vocabulary, doc)\n",
    "    for c in classes:\n",
    "        score[c] = log(prior[c],10)\n",
    "        for t in tokens:\n",
    "            score[c] += log(cond_prob[t][c],10)       \n",
    "    return max(score, key=score.get) \n",
    "\n",
    "# This function can be added into the one above as well.\n",
    "def extract_tokens(vocabulary, doc):\n",
    "    \"\"\"\n",
    "    Extracts the tokens from to document that are present in the vocabulary.\n",
    "    \"\"\"\n",
    "    tokens = set()\n",
    "    for word in doc: \n",
    "        if word in vocabulary:\n",
    "            tokens.add(word)\n",
    "    return tokens\n",
    "    "
   ]
  },
  {
   "cell_type": "markdown",
   "metadata": {},
   "source": [
    "#### 3. On this collection, train NB text classifiers for 10 different classes with enough and interesting data.\n",
    "\n",
    "With these 10 classes, there are 21621 samples that we can use, which is more than half of the data. We split these samples in train and test samples. We use 75% of the samples as data for training and 25% of the samples as data for testing."
   ]
  },
  {
   "cell_type": "code",
   "execution_count": 7,
   "metadata": {
    "collapsed": false
   },
   "outputs": [
    {
     "name": "stdout",
     "output_type": "stream",
     "text": [
      "There are 21621 samples, 16215 are used for training, 5406 are used for testing.\n"
     ]
    }
   ],
   "source": [
    "l = len(documents)\n",
    "n = int(l * 0.75)\n",
    "\n",
    "train_docs = documents[:n]\n",
    "train_mins = ministeries[:n]\n",
    "test_docs = documents[n:]\n",
    "test_mins = ministeries[n:]\n",
    "\n",
    "print \"There are %d samples, %d are used for training, %d are used for testing.\" % (l, n, l - n)"
   ]
  },
  {
   "cell_type": "code",
   "execution_count": 8,
   "metadata": {
    "collapsed": false
   },
   "outputs": [
    {
     "name": "stdout",
     "output_type": "stream",
     "text": [
      "{u'financi\\xebn': 0.6956521739130435, u'economische zaken': 0.5683453237410072, u'sociale zaken en werkgelegenheid': 0.8138075313807531, u'justitie': 0.6644351464435146, u'landbouw, natuurbeheer en visserij': 0.8823529411764706, u'onderwijs, cultuur en wetenschappen': 0.7780678851174935, u'volkshuisvesting, ruimtelijke ordening en milieubeheer': 0.6823529411764706, u'buitenlandse zaken': 0.7686567164179104, u'verkeer en waterstaat': 0.6313043478260869, u'volksgezondheid, welzijn en sport': 0.6252900232018561}\n"
     ]
    }
   ],
   "source": [
    "def test_NB(classes, vocab, prior, cond_prob, documents, ministeries):\n",
    "    \"\"\"\n",
    "    Test the Naive Bayes classifier on given test data\n",
    "    and return the accuracy per class.\n",
    "    \"\"\"\n",
    "    accuracy = { c : Counter() for c in classes }\n",
    "\n",
    "    for i, doc in enumerate(documents):\n",
    "        score = apply_multinomial_NB(classes, vocab, prior, cond_prob, doc)\n",
    "        ministerie = ministeries[i]\n",
    "        accuracy[ministerie]['all'] += 1\n",
    "    \n",
    "        if score == ministerie:\n",
    "            accuracy[ministerie]['right'] += 1\n",
    "\n",
    "    return { c : accuracy[c]['right'] / accuracy[c]['all'] for c in accuracy }\n",
    "\n",
    "# Train NB text classifiers for 10 classes \n",
    "vocab, prior, cond_prob = train_multinomial_NB(classes, train_docs, train_mins)\n",
    "\n",
    "# Test NB classifier on test data\n",
    "acc = test_NB(classes, vocab, prior, cond_prob, test_docs, test_mins)\n",
    "print(acc)"
   ]
  },
  {
   "cell_type": "code",
   "execution_count": null,
   "metadata": {
    "collapsed": false
   },
   "outputs": [],
   "source": []
  },
  {
   "cell_type": "markdown",
   "metadata": {},
   "source": [
    "#### 4. Compute for each term and each of your 10 classes its utility for that class using mutual information."
   ]
  },
  {
   "cell_type": "code",
   "execution_count": 9,
   "metadata": {
    "collapsed": false,
    "scrolled": false
   },
   "outputs": [],
   "source": [
    "from collections import defaultdict\n",
    "from __future__ import division\n",
    "\n",
    "# The division import had already been made, but if that somehow failed\n",
    "# these functions would return wrong answers instead of giving an error\n",
    "# so they're added for certainty\n",
    "\n",
    "def get_occurence_counts(docs, ministeries):\n",
    "    \"\"\"\n",
    "    Returns a dict that for each term has the amount \n",
    "    of documents it appears in per class/ministerie.\n",
    "    \"\"\"\n",
    "    count_dict = defaultdict(Counter)\n",
    "    for doc,mini in zip(docs, ministeries):\n",
    "        \n",
    "        # remove duplicates\n",
    "        doc = set(doc)\n",
    "        for token in doc:\n",
    "            count_dict[token][mini] += 1\n",
    "            count_dict[token]['total'] += 1\n",
    "            \n",
    "    # returning a defaultdict is asking for trouble\n",
    "    return dict(count_dict)\n",
    "\n",
    "def mutual_inf(term, ministerie, count_dict, N, docs_in_class):\n",
    "    \"\"\"\n",
    "    Returns the mutual information of term and ministerie.\n",
    "    \"\"\"\n",
    "    if term not in count_dict:\n",
    "        return 0\n",
    "    N11 = count_dict[term].get(ministerie, 0)\n",
    "    N1_ = count_dict[term].get('total', 0)\n",
    "    N10 = N1_ - N11\n",
    "    N01 = docs_in_class - N11\n",
    "    N0_ = N - N1_\n",
    "    N00 = N0_ - N01\n",
    "    N_1 = docs_in_class\n",
    "    N_0 = N - N_1\n",
    "    \n",
    "    result = 0\n",
    "    result+=(N11/N) * my_log_and_div(N*N11,N1_*N_1)\n",
    "    result+=(N01/N) * my_log_and_div(N*N01,N0_*N_1)\n",
    "    result+=(N10/N) * my_log_and_div(N*N10,N1_*N_0)\n",
    "    result+=(N00/N) * my_log_and_div(N*N00,N0_*N_0)\n",
    "    return result\n",
    "    \n",
    "def my_log_and_div(n, m):\n",
    "    \"\"\"\n",
    "    Returns log of n/m with base 2,\n",
    "    except it returns 0 for n=0.\n",
    "    \"\"\"\n",
    "    if n == 0:\n",
    "        return 0\n",
    "    else: \n",
    "        return log(n/m,2)\n",
    "\n",
    "def get_mutual_infs(docs, ministeries):\n",
    "    \"\"\"\n",
    "    Returns a nested dict matching terms and classes\n",
    "    with their mutual information.\n",
    "    \"\"\"\n",
    "    count_dict = get_occurence_counts(docs, ministeries)\n",
    "    N = len(docs)\n",
    "    \n",
    "    classes = set(ministeries)\n",
    "    result = {}\n",
    "    for mini in classes:\n",
    "        docs_in_class = ministeries.count(mini)\n",
    "        result[mini] = {}\n",
    "        for term in count_dict:\n",
    "            result[mini][term] = mutual_inf(term, mini, count_dict, N, docs_in_class)\n",
    "    return result"
   ]
  },
  {
   "cell_type": "markdown",
   "metadata": {},
   "source": [
    "#### 5. For each class, show the top 10 words as in Figure 13.7 in MRS."
   ]
  },
  {
   "cell_type": "code",
   "execution_count": 10,
   "metadata": {
    "collapsed": false
   },
   "outputs": [
    {
     "name": "stdout",
     "output_type": "stream",
     "text": [
      "financiën\n",
      "\t belastingdienst: 0.03819\n",
      "\t fiscale: 0.01861\n",
      "\t financin: 0.01731\n",
      "\t bank: 0.01354\n",
      "\t belastingplichtigen: 0.01128\n",
      "\t inkomstenbelasting: 0.01111\n",
      "\t afm: 0.01054\n",
      "\t markten: 0.01003\n",
      "\t nederlandsche: 0.00989\n",
      "\t belasting: 0.00960\n",
      "economische zaken\n",
      "\t economische: 0.01388\n",
      "\t energiebedrijven: 0.01165\n",
      "\t dte: 0.01122\n",
      "\t nma: 0.01112\n",
      "\t bedrijven: 0.01090\n",
      "\t energie: 0.01088\n",
      "\t liberalisering: 0.00785\n",
      "\t elektriciteit: 0.00785\n",
      "\t markt: 0.00746\n",
      "\t gas: 0.00726\n",
      "sociale zaken en werkgelegenheid\n",
      "\t sociale: 0.04516\n",
      "\t werknemers: 0.03115\n",
      "\t werk: 0.02464\n",
      "\t uwv: 0.02388\n",
      "\t werkgevers: 0.02190\n",
      "\t uitkering: 0.01831\n",
      "\t uitvoeringsinstituut: 0.01725\n",
      "\t arbeid: 0.01651\n",
      "\t werkgelegenheid: 0.01622\n",
      "\t wao: 0.01512\n",
      "justitie\n",
      "\t justitie: 0.05817\n",
      "\t politie: 0.05193\n",
      "\t openbaar: 0.02382\n",
      "\t asielzoekers: 0.01763\n",
      "\t vervolging: 0.01688\n",
      "\t uitzetting: 0.01545\n",
      "\t ind: 0.01505\n",
      "\t zaak: 0.01448\n",
      "\t strafbare: 0.01419\n",
      "\t verdachte: 0.01315\n",
      "landbouw, natuurbeheer en visserij\n",
      "\t dieren: 0.02446\n",
      "\t agrarisch: 0.01720\n",
      "\t landbouw: 0.01691\n",
      "\t boeren: 0.01175\n",
      "\t aid: 0.01015\n",
      "\t natuurbeheer: 0.00970\n",
      "\t visserij: 0.00896\n",
      "\t natuur: 0.00889\n",
      "\t faunawet: 0.00864\n",
      "\t vlees: 0.00856\n",
      "onderwijs, cultuur en wetenschappen\n",
      "\t onderwijs: 0.09209\n",
      "\t scholen: 0.06436\n",
      "\t leerlingen: 0.05363\n",
      "\t school: 0.04602\n",
      "\t studenten: 0.02464\n",
      "\t cultuur: 0.01789\n",
      "\t voortgezet: 0.01589\n",
      "\t onderwijsinspectie: 0.01456\n",
      "\t docenten: 0.01322\n",
      "\t basisscholen: 0.01291\n",
      "volkshuisvesting, ruimtelijke ordening en milieubeheer\n",
      "\t woningen: 0.02058\n",
      "\t ordening: 0.01975\n",
      "\t volkshuisvesting: 0.01943\n",
      "\t ruimtelijke: 0.01936\n",
      "\t afval: 0.01875\n",
      "\t milieubeheer: 0.01709\n",
      "\t vrom: 0.01678\n",
      "\t milieu: 0.01327\n",
      "\t huurders: 0.01297\n",
      "\t gemeente: 0.01211\n",
      "buitenlandse zaken\n",
      "\t regering: 0.09850\n",
      "\t eu: 0.04061\n",
      "\t autoriteiten: 0.03746\n",
      "\t nederlandse: 0.03118\n",
      "\t bilateraal: 0.03082\n",
      "\t mensenrechten: 0.02902\n",
      "\t president: 0.02708\n",
      "\t unie: 0.02706\n",
      "\t vn: 0.02630\n",
      "\t politieke: 0.02450\n",
      "verkeer en waterstaat\n",
      "\t verkeer: 0.03298\n",
      "\t ns: 0.03283\n",
      "\t waterstaat: 0.03059\n",
      "\t rijkswaterstaat: 0.02726\n",
      "\t vervoer: 0.02341\n",
      "\t spoor: 0.01894\n",
      "\t aanleg: 0.01656\n",
      "\t prorail: 0.01650\n",
      "\t treinen: 0.01600\n",
      "\t trein: 0.01520\n",
      "volksgezondheid, welzijn en sport\n",
      "\t zorg: 0.06255\n",
      "\t patinten: 0.06116\n",
      "\t ziekenhuizen: 0.04835\n",
      "\t gezondheidszorg: 0.04658\n",
      "\t medisch: 0.03117\n",
      "\t zorgverzekeraars: 0.03116\n",
      "\t artsen: 0.02683\n",
      "\t ziekenhuis: 0.02663\n",
      "\t huisartsen: 0.02556\n",
      "\t medische: 0.02302\n"
     ]
    }
   ],
   "source": [
    "MI = get_mutual_infs(train_docs, train_mins)\n",
    "\n",
    "def top_mutual_infs(mutual_infs,n):\n",
    "    '''\n",
    "    Given the mutual information and interger n, return a dict of top n words based on the mutual information.\n",
    "    '''\n",
    "    ministeries = {}\n",
    "    for mini in mutual_infs:\n",
    "        lst = [(mutual_infs[mini][term],term) for term in mutual_infs[mini]]\n",
    "        ministeries[mini] = sorted(lst, reverse=True)[:n]\n",
    "        \n",
    "    return ministeries\n",
    "        \n",
    "    \n",
    "top_10 = top_mutual_infs(MI,10)\n",
    "# print the top mutual informations using the following code\n",
    "for item in top_10:\n",
    "    print item\n",
    "    for i in top_10[item]: \n",
    "        print \"\\t %s: %.5f\" % (i[1], i[0])"
   ]
  },
  {
   "cell_type": "markdown",
   "metadata": {},
   "source": [
    "#### 6. Evaluate your classifiers using Precision, Recall and F1. Give a table in which you show these values for using the top 10, top 100 terms and all terms, for all of your 10 classes. Thus do feature selection per class, and use for each class the top n best features for that class. Also show the microaverage(s) for all 10 classes together. If you like you can also present this in a figure like MRS.13.8. Then compute the F1 measure for the same number of terms as in that figure."
   ]
  },
  {
   "cell_type": "code",
   "execution_count": 11,
   "metadata": {
    "collapsed": true
   },
   "outputs": [],
   "source": [
    "import numpy as np\n",
    "\n",
    "def test2_NB(classes, vocab, prior, cond_prob, documents, ministeries):\n",
    "    \"\"\"\n",
    "    Test the Naive Bayes classifier on given test data\n",
    "    and return a list of classifications for the test documents\n",
    "    \"\"\"\n",
    "    pred_classes = []\n",
    "    \n",
    "    for i, doc in enumerate(documents):\n",
    "        score = apply_multinomial_NB(classes, vocab, prior, cond_prob, doc)\n",
    "        pred_classes.append(score)\n",
    "\n",
    "    return pred_classes\n",
    "\n",
    "pred_classes = test2_NB(classes, vocab, prior, cond_prob, test_docs, test_mins)"
   ]
  },
  {
   "cell_type": "code",
   "execution_count": 12,
   "metadata": {
    "collapsed": true
   },
   "outputs": [],
   "source": [
    "def distribution(classes, test_mins, pred_classes):\n",
    "    \"\"\"\n",
    "    Calculate the True Positives, False Positives, and False Negatives per class \n",
    "    and return a dict with a counter as value for each class. \n",
    "    \"\"\"\n",
    "    data = { c : Counter() for c in classes }\n",
    "    \n",
    "    for c in classes:\n",
    "        for i, ministerie in enumerate(test_mins):\n",
    "            if (c == ministerie and c == pred_classes[i]):\n",
    "                data[c]['TP'] += 1\n",
    "            elif (c == pred_classes[i] and c != ministerie):\n",
    "                data[c]['FP'] += 1\n",
    "            elif (c != pred_classes[i] and c == ministerie):\n",
    "                data[c]['FN'] += 1\n",
    "            \n",
    "    return data\n",
    "\n",
    "def recall(data):\n",
    "    \"\"\"\n",
    "    Calculates the recall per class from the data structure returned by the distribution function\n",
    "    \"\"\"\n",
    "    recall = { c : float(data[c]['TP'])/float(data[c]['TP'] + data[c]['FN'])\n",
    "               for c in data\n",
    "               if data[c]['TP'] + data[c]['FN'] != 0 }\n",
    "    \n",
    "    for c in data:\n",
    "        if not c in recall:\n",
    "            recall[c] = 0\n",
    "    \n",
    "    return recall\n",
    "\n",
    "def precision(data):\n",
    "    \"\"\"\n",
    "    Calculates the precision per class from the data structure returned by the distribution function.\n",
    "    \"\"\"\n",
    "    precision = { c : float(data[c]['TP'])/float(data[c]['TP'] + data[c]['FP'])\n",
    "                  for c in data\n",
    "                  if data[c]['TP'] + data[c]['FP'] != 0 }\n",
    "    \n",
    "    for c in data:\n",
    "        if not c in precision:\n",
    "            precision[c] = 0\n",
    "    return precision\n",
    "\n",
    "def f1(data):\n",
    "    \"\"\"\n",
    "    Calculate the micro-averaged F1 value from the data structure returned by the distribution function.\n",
    "    \"\"\"\n",
    "    TP = sum([data[c]['TP'] for c in classes])\n",
    "    FP = sum([data[c]['FP'] for c in classes])\n",
    "    FN = sum([data[c]['FN'] for c in classes])\n",
    "\n",
    "    p = float(TP)/float(TP+FP)\n",
    "    r = float(TP)/float(TP+FN)\n",
    "    return 2.0*((p*r)/(p+r)) "
   ]
  },
  {
   "cell_type": "code",
   "execution_count": null,
   "metadata": {
    "collapsed": false
   },
   "outputs": [],
   "source": []
  },
  {
   "cell_type": "markdown",
   "metadata": {},
   "source": [
    "### Feature selection"
   ]
  },
  {
   "cell_type": "code",
   "execution_count": 13,
   "metadata": {
    "collapsed": false
   },
   "outputs": [
    {
     "data": {
      "image/png": "[encoded data removed]",
      "text/plain": [
       "<matplotlib.figure.Figure at 0x134f67fd0>"
      ]
     },
     "metadata": {},
     "output_type": "display_data"
    }
   ],
   "source": [
    "import matplotlib.pyplot as plt\n",
    "\n",
    "MI = get_mutual_infs(train_docs, train_mins)\n",
    "\n",
    "\n",
    "def feature_selection(vocabulary,MI, nr_words):\n",
    "    '''\n",
    "    Using Mutual Information select the top nr_words for classification and return a new vocabulary using those words. \n",
    "    '''\n",
    "    top = top_mutual_infs(MI, nr_words)\n",
    "    return set(word[1] for c in top for word in top[c])\n",
    "\n",
    "def diff_vocab_run(classes, vocab, prior, cond_prob, test_docs, test_mins, MI, word_nr_list):\n",
    "    \"\"\"\n",
    "    Using a train NB classifier (prior, cond_prob) and the mutual information of the training set,\n",
    "    run the classifier on the test set (test_docs, test_mins) with the top number of words per class \n",
    "    from the word_nr_list. The classifier is also run with all the words in the vocab.\n",
    "    The F1 values are calculated and plotted. \n",
    "    Values in word_nr_list cannot be higher than the words in vocab. \n",
    "    \"\"\"\n",
    "    F_values = []\n",
    "    nr_words = []\n",
    "    \n",
    "    for i in word_nr_list:\n",
    "        vocab_top = feature_selection(vocab, MI,i)\n",
    "        pred_classes_top = test2_NB(classes, vocab_top, prior, cond_prob, test_docs, test_mins)\n",
    "        data_top = distribution(classes, test_mins, pred_classes_top)\n",
    "        nr_words.append(len(vocab_top))\n",
    "        F_values.append(f1(data_top))\n",
    "        \n",
    "    data_all = distribution(classes,test_mins, pred_classes)\n",
    "    F_values.append(f1(data_all))\n",
    "    nr_words.append(len(vocab))\n",
    "    plt.plot(nr_words,F_values,'-o')\n",
    "    plt.show()\n",
    "        \n",
    "\n",
    "diff_vocab_run(classes, vocab, prior, cond_prob, test_docs, test_mins, MI, [10,100,1000,10000])\n",
    "\n",
    "#vocab_top10 = {word:vocab[word] for }\n",
    "#top100 = top_mutual_ing(mutual_inf,10)\n",
    "\n",
    "\n",
    "\n",
    "#vocab_prior"
   ]
  },
  {
   "cell_type": "code",
   "execution_count": null,
   "metadata": {
    "collapsed": false
   },
   "outputs": [],
   "source": [
    "data = distribution(classes, test_mins, pred_classes)\n",
    "precisions = precision(data)\n",
    "recalls = recall(data)\n",
    "print(precisions)\n",
    "print(recalls)\n",
    "print f1(data)"
   ]
  },
  {
   "cell_type": "markdown",
   "metadata": {
    "collapsed": true
   },
   "source": [
    "#### 7. Reflect and report briefly about your choices in this process and about the obtained results."
   ]
  },
  {
   "cell_type": "code",
   "execution_count": null,
   "metadata": {
    "collapsed": true
   },
   "outputs": [],
   "source": []
  },
  {
   "cell_type": "code",
   "execution_count": null,
   "metadata": {
    "collapsed": true
   },
   "outputs": [],
   "source": []
  },
  {
   "cell_type": "code",
   "execution_count": null,
   "metadata": {
    "collapsed": false
   },
   "outputs": [],
   "source": [
    "data = distribution(classes, test_mins, pred_classes)\n",
    "precisions = precision(data)\n",
    "recalls = recall(data)\n",
    "print(precisions)\n",
    "print(recalls)\n",
    "print f1(data)"
   ]
  },
  {
   "cell_type": "code",
   "execution_count": null,
   "metadata": {
    "collapsed": true
   },
   "outputs": [],
   "source": []
  }
 ],
 "metadata": {
  "anaconda-cloud": {},
  "kernelspec": {
   "display_name": "Python [NLTK]",
   "language": "python",
   "name": "Python [NLTK]"
  },
  "language_info": {
   "codemirror_mode": {
    "name": "ipython",
    "version": 2
   },
   "file_extension": ".py",
   "mimetype": "text/x-python",
   "name": "python",
   "nbconvert_exporter": "python",
   "pygments_lexer": "ipython2",
   "version": "2.7.12"
  }
 },
 "nbformat": 4,
 "nbformat_minor": 0
}
