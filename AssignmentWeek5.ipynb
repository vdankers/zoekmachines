{
 "cells": [
  {
   "cell_type": "markdown",
   "metadata": {},
   "source": [
    "# Assignment  week 5 MRS Chap 21"
   ]
  },
  {
   "cell_type": "markdown",
   "metadata": {},
   "source": [
    "## Notebook made by   (If not filled in correctly: 0 pts for assignment)\n",
    "\n",
    "__Name(s)__: Adriaan de Vries, Verna Dankers\n",
    "\n",
    "__Student id(s)__ : 10795227, 10761225\n",
    "\n",
    "### Pledge (taken from [Coursera's Honor Code](https://www.coursera.org/about/terms/honorcode) )\n",
    "\n",
    "\n",
    "\n",
    "Put here a selfie with your photo where you hold a signed paper with the following text: (if this is team work, put two selfies here). The link must be to some place on the web, not to a local file. **Assignments without the selfies will not be graded and receive 0 points.**\n",
    "\n",
    "> My answers to homework, quizzes and exams will be my own work (except for assignments that explicitly permit collaboration).\n",
    "\n",
    ">I will not make solutions to homework, quizzes or exams available to anyone else. This includes both solutions written by me, as well as any official solutions provided by the course staff.\n",
    "\n",
    ">I will not engage in any other activities that will dishonestly improve my results or dishonestly improve/hurt the results of others.\n",
    "\n",
    "<img width=30% src='http://oi63.tinypic.com/2q3srh3.jpg'/>\n",
    "<img width=30% src=\"http://i63.tinypic.com/2itj1ic.jpg\" border=\"0\">"
   ]
  },
  {
   "cell_type": "markdown",
   "metadata": {},
   "source": [
    "# Link Analysis\n",
    "\n",
    "\n",
    "\n",
    "#### Q1 Hits\n",
    "1. Create the network consisting of the page <http://en.wikipedia.org/wiki/PageRank>, all pages that link to that page (you get those via <http://en.wikipedia.org/wiki/Special:WhatLinksHere/PageRank>), and all outgoing links from <http://en.wikipedia.org/wiki/PageRank>. "
   ]
  },
  {
   "cell_type": "code",
   "execution_count": null,
   "metadata": {
    "collapsed": true
   },
   "outputs": [],
   "source": [
    "import networkx as nx\n",
    "pr_network = nx.Graph()"
   ]
  },
  {
   "cell_type": "markdown",
   "metadata": {},
   "source": [
    "2. ~~Compute the HITS score for each node in this network.~~\n",
    "3.   Use the `networkx` package to display the network nicely."
   ]
  },
  {
   "cell_type": "markdown",
   "metadata": {},
   "source": [
    "#### Q2 Pagerank and hits\n",
    "\n",
    "* Do questions Q5,Q6,Q9,Q10 from <http://nbviewer.ipython.org/url/maartenmarx.nl/teaching/zoekmachines/Assignments/ASSIGNMENTS/Week7InformationRetrieval.ipynb>"
   ]
  },
  {
   "cell_type": "markdown",
   "metadata": {},
   "source": [
    "# Make inverted index\n",
    "\n",
    "[MakeInvertedIndex](MakeInvertedIndex1516.html): 11  \n",
    "\n",
    "#### 1 Choose three zones and indicate why these are good and interesting for this data set. Also give weights for each of them. \n",
    "\n",
    "- <b>trefwoordlod</b>: this is a good zone to look at, since it indicates the keywords from the file. Users often put such keywords in their queries. If they query terms are inside of these zone, this file is definitely a hit! <b>Weight: 0.45</b>\n",
    "\n",
    "- <b>citeertitel</b>: this is a good zone to look at, since it summarizes the content of the file in one sentence. If this zone contains a query term, this file is very likely to be a hit! <b>Weight: 0.3</b>\n",
    "\n",
    "- <b>tekstxml</b>: this is a good zone to look at because this is the body of the file that contains the actual text of the motion. If this zone does not contain a query term or a synonym of a query term, the file is not relevant. <b>Weight: 0.25</b>"
   ]
  },
  {
   "cell_type": "markdown",
   "metadata": {},
   "source": [
    "#### 2 You want to use TF-IDF weighting for the scoring function of each zone. Think whether you must adjust IDF as well for each zone, or you can just use IDF as before? Argue why your answer is good, possibly using an instructive example.\n",
    "\n",
    "The original defitions:\n",
    "\n",
    "$tfidf_{t,d} = tf_{t,d} \\cdot idf_{t}$\n",
    "\n",
    "$idf_{t} = \\log(\\frac{N}{df_{t}})$ where $N$ is the number of documents in the collection.\n",
    "\n",
    "When using $tfidf$-weighting for the scoring function of each zone, the $idf$ formula must be adjusted. Why? Let's consider an example. \n",
    "Suppose the word ASIELZOEKERSCENTRA only appears in one 'trefwoordlod' in your entire corpus. When your query term contains ASIELZOEKERSCENTRA, that file is a hit! The fact that the word is in the 'trefwoordlod' zone is very important, since that zone is an important zone, since it contains the keywords from the file. But if ASIELZOEKERSCENTRA appears in many documents inside the 'tekstxml' zone, the idf weight for ASIELZOEKERSCENTRA in the 'trefwoordlod' zone will still be very very low. We do not want that, because the fact that ASIELZOEKERSCENTRA is in the 'trefwoordlod' zone still really distinguishes that file from all of the other files, when looking at the 'trefwoordlod' zone. So we want the idf weight for ASIELZOEKERSCENTRA in the 'trefwoordlod' to be high. Therefore it is a better idea to consider only the 'trefwoordlod' zone frequency when calculating that idf weight for that zone. So we would adapt the $idf$ formula:\n",
    "\n",
    "$idf_{t,z} = \\log(\\frac{N}{df_{t,z}})$ where $z$ indicates which zone to look at. So we do not use the regular document frequency, but the frequency of term t in all zones $z$."
   ]
  },
  {
   "cell_type": "markdown",
   "metadata": {
    "collapsed": true
   },
   "source": [
    "#### 3 Design an index for your 3 zones and an algorithm which computes score(q,d) based on the linear weighted scoring function from MRS 6.1. Implement it on top of your earlier code. "
   ]
  },
  {
   "cell_type": "code",
   "execution_count": null,
   "metadata": {
    "collapsed": true
   },
   "outputs": [],
   "source": []
  },
  {
   "cell_type": "markdown",
   "metadata": {},
   "source": [
    "# MySQL assignment\n",
    "\n",
    "\n",
    "\n",
    "\n",
    "<h2>Mysql </h2>\n",
    "<ul>\n",
    "    <li>Go to <a href='http://www.apachefriends.org/en/xampp.html'>http://www.apachefriends.org/en/xampp.html</a>, choose your OS, downloand XAMPP, and follow the instructions.</li>\n",
    "    <li>Or work from inside your IPython notebook.</li>\n",
    "</ul>\n",
    "    \n",
    "    \n",
    "<h2>Get familiar with full text search in MYSQL.</h2>\n",
    "<ul>\n",
    "    <li><a href='http://devzone.zend.com/26/using-mysql-full-text-searching/'>step by step tutorial</a></li>\n",
    "    <li><a href='http://dev.mysql.com/doc/refman/5.0/en/fulltext-search.html'>The MySQL manual on Full Text searching.</a></li>\n",
    "</ul>\n",
    "<h3>Try it yourself</h3>\n",
    "<ul>\n",
    "    <li>Open PHPMyadmin. Go to the mysql database. Choose the table 'help_topic' from the menu on the left. Now you see the contents of this table. \n",
    "    Open the SQL tab and ask a query: e.g. give me all topics about 'minimum'.</li>\n",
    "    <li>Ask this query using the familiar <em>where description LIKE '%minimum%'</em> construction. Notice the time.</li>\n",
    "    <li>Now ask it using <em>MATCH description AGAINST ('mimimum')</em>, as described in the tutorial.</li>\n",
    "    <li>Now I got an error. It said that there was no FULLTEXT index on the description field.</li>\n",
    "    <li>Thus add it. In PHPMyadmin, choose the structure tab. Here you can do many things to your table. Make sure that the type of the description field is of TEXT. Now add  a FULLTEXT index \n",
    "    to the description field using the last button on the right (with the T in it). </li>\n",
    "    <li>Now ask your MATCH query again. Note the time. </li>\n",
    "    <li>Now ask for all helptopics with \"the\" in the description. First old-fashioned with LIKE. Then modern with MATCH. What's going on? \n",
    "        The MySQL manual on full text search explains it (and the comments complain about it).</li>\n",
    "</ul>\n",
    "\n",
    "<h3>Play time: Your first search engine</h3>\n",
    "<p>This is really a MySQL exercise. So you should be able to do this. Refresh your MySQL skills and get help if needed.</p>\n",
    "<ul>\n",
    "    <li>Make a   TABLE named MyWebCollection with fields <em>URL, TITLE, BODY</em>. Put a full text index on body.</li>\n",
    "    <li>Download a number of webpages (a lot maybe). If you want to stay on familiar ground, download all files from <a href=\"http://www.cafeconleche.org/examples/shakespeare/\">http://www.cafeconleche.org/examples/shakespeare/</a>.\n",
    "        For each page,   extract the URL and title, and the complete text of the page (just strip of all HTML). \n",
    "    </li>\n",
    "    <li> Make a script which creates a text file with MYSQL insert statements that creates a row for each webpage in your table MyWebCollection.\n",
    "    </li>\n",
    "    <li>Now import these rows in your table (you can do this in PHPMyadmin using the import tab).</li>\n",
    "    <li>Create full text search queries.</li>\n",
    "    <li> Create a simple web user interface using the PHP example code from the tutorial. For each hit, display the title with a link to the real webpage and the score.</li>\n",
    "</ul>\n",
    "\n",
    "\n",
    "<h2>Bigger and better: More data and Faceted Search</h2>\n",
    "\n",
    "<p>The website <a href=\"https://zoek.officielebekendmakingen.nl/zoeken/parlementaire_documenten\">officielebekendmakingen.nl</a>lets you search in \"kamervragen\".\n",
    "You can play with the fields and see that fielded search is possible, but not really facetd search. </p>\n",
    "<p>In this exercise you will create a faceted search engine for kamervragen.</p>\n",
    "\n",
    "<h3>Data</h3>\n",
    "<p>We preprocessed the data already for you  in two formats: a csv file and a collection of XML files.</p>\n",
    "<p>You can download <a href='http://data.politicalmashup.nl/kamervragen/PoliDocs_Kamervragen.zip'>this zipfile with Kamervragen in XML</a> to see the real data. It also contains style sheets to show the XML well in a browser.   </p>\n",
    "<p> <http://maartenmarx.nl/teaching/zoekmachines/LectureNotes/MySQL/> contains two gzipped csv files: a big one with 40K kamervragen, and a small one to get you going. See below to see the contents.</p> \n",
    " \n",
    "<h3>Your task</h3>\n",
    "<ul>\n",
    " <li>Populate your database</li>\n",
    " <li>Create a search engine, and create queries for calculating the values for a number of facets. Make facets for \n",
    " <ol>\n",
    "     <li>jaar</li>\n",
    "     <li>partij</li>\n",
    "     <li>Aantal deelvragen (dit zal je zelf nog moeten programmeren, of slimmer uit de XML halen).  (See the XQuery file KVR-collectie2CSV.xquery for hints how to do this. It is really easy in XPath. TRy it out on an example document.)</li>\n",
    "     <li>Haal het ministerie van de beantwoorder uit de XML, pas je data weer aan, en neem dat als facet op. \n",
    "         <br/>Kijk eens welke partij het ministerie van landbouw overspoelt met vragen....</li>\n",
    " </ol></li>\n",
    " <li>If it is slow, try to precompute things (e.g. year)    , and possibly add good indexes. This thus involves changing your data.</li>\n",
    "\n",
    "</ul>\n"
   ]
  },
  {
   "cell_type": "markdown",
   "metadata": {},
   "source": [
    "# Inspect data using pandas"
   ]
  },
  {
   "cell_type": "code",
   "execution_count": 8,
   "metadata": {
    "collapsed": false
   },
   "outputs": [
    {
     "name": "stdout",
     "output_type": "stream",
     "text": [
      "(1000, 6)\n"
     ]
    },
    {
     "data": {
      "text/html": [
       "<div>\n",
       "<table border=\"1\" class=\"dataframe\">\n",
       "  <thead>\n",
       "    <tr style=\"text-align: right;\">\n",
       "      <th></th>\n",
       "      <th>jaar</th>\n",
       "      <th>partij</th>\n",
       "      <th>titel</th>\n",
       "      <th>vraag</th>\n",
       "      <th>antwoord</th>\n",
       "      <th>ministerie</th>\n",
       "    </tr>\n",
       "  </thead>\n",
       "  <tbody>\n",
       "    <tr>\n",
       "      <th>KVR1000.xml</th>\n",
       "      <td>1994</td>\n",
       "      <td>PvdA</td>\n",
       "      <td>De vragen betreffen de betrouwbaarheid van de...</td>\n",
       "      <td>Hebt u kennisgenomen van het televisieprogram...</td>\n",
       "      <td>Ja. Het bedoelde geluidmeetpunt is eigendom v...</td>\n",
       "      <td>Verkeer en Waterstaat</td>\n",
       "    </tr>\n",
       "    <tr>\n",
       "      <th>KVR10000.xml</th>\n",
       "      <td>1999</td>\n",
       "      <td>PvdA</td>\n",
       "      <td>Vragen naar aanleiding van berichten (uitzend...</td>\n",
       "      <td>Kent u de berichten over de situatie in de Me...</td>\n",
       "      <td></td>\n",
       "      <td>Justitie</td>\n",
       "    </tr>\n",
       "    <tr>\n",
       "      <th>KVR10001.xml</th>\n",
       "      <td>1999</td>\n",
       "      <td>SP</td>\n",
       "      <td>Vragen naar aanleiding van de berichten \"Nede...</td>\n",
       "      <td>Kent u de berichten «Nederland steunt de Soeh...</td>\n",
       "      <td></td>\n",
       "      <td>Financien</td>\n",
       "    </tr>\n",
       "    <tr>\n",
       "      <th>KVR10002.xml</th>\n",
       "      <td>1999</td>\n",
       "      <td>PvdA</td>\n",
       "      <td>Vragen over de gebrekkige opvang van verpleeg...</td>\n",
       "      <td>Kent u het bericht over onderzoek van Nu91 me...</td>\n",
       "      <td>Ja. Het onderzoek van NU’91 wijst uit dat het...</td>\n",
       "      <td>Volksgezondheid, Welzijn en Sport</td>\n",
       "    </tr>\n",
       "    <tr>\n",
       "      <th>KVR10003.xml</th>\n",
       "      <td>1999</td>\n",
       "      <td>PvdA</td>\n",
       "      <td>Vragen over onbetrouwbaarheid van filemeldingen.</td>\n",
       "      <td>Hebt u kennisgenomen van de berichten over de...</td>\n",
       "      <td>Ja. Nee. Door de waarnemers van het Algemeen ...</td>\n",
       "      <td>Verkeer en Waterstaat</td>\n",
       "    </tr>\n",
       "  </tbody>\n",
       "</table>\n",
       "</div>"
      ],
      "text/plain": [
       "                jaar partij  \\\n",
       "KVR1000.xml     1994   PvdA   \n",
       " KVR10000.xml   1999   PvdA   \n",
       " KVR10001.xml   1999     SP   \n",
       " KVR10002.xml   1999   PvdA   \n",
       " KVR10003.xml   1999   PvdA   \n",
       "\n",
       "                                                           titel  \\\n",
       "KVR1000.xml     De vragen betreffen de betrouwbaarheid van de...   \n",
       " KVR10000.xml   Vragen naar aanleiding van berichten (uitzend...   \n",
       " KVR10001.xml   Vragen naar aanleiding van de berichten \"Nede...   \n",
       " KVR10002.xml   Vragen over de gebrekkige opvang van verpleeg...   \n",
       " KVR10003.xml   Vragen over onbetrouwbaarheid van filemeldingen.   \n",
       "\n",
       "                                                           vraag  \\\n",
       "KVR1000.xml     Hebt u kennisgenomen van het televisieprogram...   \n",
       " KVR10000.xml   Kent u de berichten over de situatie in de Me...   \n",
       " KVR10001.xml   Kent u de berichten «Nederland steunt de Soeh...   \n",
       " KVR10002.xml   Kent u het bericht over onderzoek van Nu91 me...   \n",
       " KVR10003.xml   Hebt u kennisgenomen van de berichten over de...   \n",
       "\n",
       "                                                        antwoord  \\\n",
       "KVR1000.xml     Ja. Het bedoelde geluidmeetpunt is eigendom v...   \n",
       " KVR10000.xml                                                      \n",
       " KVR10001.xml                                                      \n",
       " KVR10002.xml   Ja. Het onderzoek van NU’91 wijst uit dat het...   \n",
       " KVR10003.xml   Ja. Nee. Door de waarnemers van het Algemeen ...   \n",
       "\n",
       "                                       ministerie  \n",
       "KVR1000.xml                 Verkeer en Waterstaat  \n",
       " KVR10000.xml                            Justitie  \n",
       " KVR10001.xml                           Financien  \n",
       " KVR10002.xml   Volksgezondheid, Welzijn en Sport  \n",
       " KVR10003.xml               Verkeer en Waterstaat  "
      ]
     },
     "execution_count": 8,
     "metadata": {},
     "output_type": "execute_result"
    }
   ],
   "source": [
    "import pandas as pd\n",
    "\n",
    "kvrdf= pd.read_csv('http://maartenmarx.nl/teaching/zoekmachines/LectureNotes/MySQL/KVR1000.csv.gz', \n",
    "                   compression='gzip', sep='\\t', \n",
    "                   index_col=0, names=['jaar', 'partij','titel','vraag','antwoord','ministerie']) \n",
    "print kvrdf.shape\n",
    "kvrdf.head()"
   ]
  },
  {
   "cell_type": "code",
   "execution_count": 1,
   "metadata": {
    "collapsed": false
   },
   "outputs": [
    {
     "ename": "ImportError",
     "evalue": "No module named mysql.connector",
     "output_type": "error",
     "traceback": [
      "\u001b[1;31m---------------------------------------------------------------------------\u001b[0m",
      "\u001b[1;31mImportError\u001b[0m                               Traceback (most recent call last)",
      "\u001b[1;32m<ipython-input-1-a1a01bba8b14>\u001b[0m in \u001b[0;36m<module>\u001b[1;34m()\u001b[0m\n\u001b[1;32m----> 1\u001b[1;33m \u001b[1;32mimport\u001b[0m \u001b[0mmysql\u001b[0m\u001b[1;33m.\u001b[0m\u001b[0mconnector\u001b[0m\u001b[1;33m\u001b[0m\u001b[0m\n\u001b[0m\u001b[0;32m      2\u001b[0m \u001b[0mmysql\u001b[0m\u001b[1;33m.\u001b[0m\u001b[0mconnector\u001b[0m\u001b[1;33m.\u001b[0m\u001b[0mconnect\u001b[0m\u001b[1;33m(\u001b[0m\u001b[0mhost\u001b[0m\u001b[1;33m=\u001b[0m\u001b[1;34m'localhost'\u001b[0m\u001b[1;33m,\u001b[0m\u001b[0mdatabase\u001b[0m\u001b[1;33m=\u001b[0m\u001b[1;34m'mysql'\u001b[0m\u001b[1;33m,\u001b[0m\u001b[0muser\u001b[0m\u001b[1;33m=\u001b[0m\u001b[1;34m'root'\u001b[0m\u001b[1;33m,\u001b[0m\u001b[0mpassword\u001b[0m\u001b[1;33m=\u001b[0m\u001b[1;34m''\u001b[0m\u001b[1;33m)\u001b[0m\u001b[1;33m\u001b[0m\u001b[0m\n",
      "\u001b[1;31mImportError\u001b[0m: No module named mysql.connector"
     ]
    }
   ],
   "source": [
    "import mysql.connector\n",
    "mysql.connector.connect(host='localhost',database='mysql',user='root',password='')"
   ]
  },
  {
   "cell_type": "code",
   "execution_count": null,
   "metadata": {
    "collapsed": true
   },
   "outputs": [],
   "source": []
  }
 ],
 "metadata": {
  "kernelspec": {
   "display_name": "Python 3",
   "language": "python",
   "name": "python3"
  },
  "language_info": {
   "codemirror_mode": {
    "name": "ipython",
    "version": 3
   },
   "file_extension": ".py",
   "mimetype": "text/x-python",
   "name": "python",
   "nbconvert_exporter": "python",
   "pygments_lexer": "ipython3",
   "version": "3.3.5"
  }
 },
 "nbformat": 4,
 "nbformat_minor": 0
}
