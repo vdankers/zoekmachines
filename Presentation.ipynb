{
 "cells": [
  {
   "cell_type": "markdown",
   "metadata": {
    "slideshow": {
     "slide_type": "slide"
    }
   },
   "source": [
    "# Our Naive Bayes Classifier in 4 stages\n",
    "\n",
    "#### Stage 1: Preparing the data\n",
    "    - Key characteristic: powerful normalization step\n",
    "\n",
    "#### Stage 2: Training and testing\n",
    "    - Key characteristic: speed\n",
    "\n",
    "#### Stage 3: Feature selection\n",
    "    - Key characteristic: \n",
    "\n",
    "#### Stage 4: Evaluation\n",
    "    - Key characteristic: "
   ]
  },
  {
   "cell_type": "markdown",
   "metadata": {
    "slideshow": {
     "slide_type": "slide"
    }
   },
   "source": [
    "## Stage 1: Preparing data\n",
    "    - Key characteristic: powerful normalization step\n",
    "\n",
    "Voormalige top 10\n",
    "<pre>\n",
    "Justitie (JUS)                                                   \n",
    "Volksgezondheid, Welzijn en Sport (VWS)                          \n",
    "Buitenlandse Zaken (BUZA)                                        \n",
    "Verkeer en Waterstaat (VW)                                       \n",
    "Justitie                                                         \n",
    "Sociale Zaken en Werkgelegenheid (SZW)                           \n",
    "Onderwijs, Cultuur en Wetenschappen (OCW)                        \n",
    "Volkshuisvesting, Ruimtelijke Ordening en Milieubeheer (VROM)    \n",
    "FinanciÃ«n (FIN)                                                 \n",
    "Volksgezondheid, Welzijn en Sport                                \n",
    "</pre>"
   ]
  },
  {
   "cell_type": "markdown",
   "metadata": {
    "collapsed": true,
    "slideshow": {
     "slide_type": "fragment"
    }
   },
   "source": [
    "Nieuwe top 10, 33% meer samples\n",
    "<pre>\n",
    "justitie\n",
    "volksgezondheid, welzijn en sport\n",
    "buitenlandse zaken\n",
    "verkeer en waterstaat\n",
    "sociale zaken en werkgelegenheid\n",
    "onderwijs, cultuur en wetenschappen\n",
    "volkshuisvesting, ruimtelijke ordening en milieubeheer\n",
    "financi\\xebn\n",
    "economische zaken\n",
    "landbouw, natuurbeheer en visserij\n",
    "</pre>"
   ]
  },
  {
   "cell_type": "markdown",
   "metadata": {
    "slideshow": {
     "slide_type": "slide"
    }
   },
   "source": [
    "## Stage 2: Training and testing\n",
    "    - Key characteristic: speed"
   ]
  },
  {
   "cell_type": "code",
   "execution_count": 6,
   "metadata": {
    "collapsed": false,
    "slideshow": {
     "slide_type": "fragment"
    }
   },
   "outputs": [
    {
     "name": "stdout",
     "output_type": "stream",
     "text": [
      "Read csv: 20\n"
     ]
    }
   ],
   "source": [
    "from naive_bayes import *\n",
    "import time\n",
    "\n",
    "start = time.time()\n",
    "# Open csv - SAMPLE CODE\n",
    "kvrdf= open_csv('http://maartenmarx.nl/teaching/zoekmachines/LectureNotes/MySQL/KVR.csv.gz')\n",
    "read_pandas = time.time()\n",
    "print 'Read csv: %d' % (read_pandas - start)"
   ]
  },
  {
   "cell_type": "code",
   "execution_count": 10,
   "metadata": {
    "collapsed": false,
    "slideshow": {
     "slide_type": "subslide"
    }
   },
   "outputs": [
    {
     "name": "stdout",
     "output_type": "stream",
     "text": [
      "Prepare corpus: 1\n",
      "Train classifier: 3\n",
      "Test classifier: 3\n",
      "0.697188309286\n"
     ]
    }
   ],
   "source": [
    "# Prepare corpus\n",
    "start = time.time()\n",
    "documents, ministeries, classes = get_corpus(kvrdf, 10)\n",
    "train_docs, train_mins, test_docs, test_mins = split_data(documents, ministeries)\n",
    "corpus_done = time.time()\n",
    "print 'Prepare corpus: %d' % (corpus_done - start)\n",
    "\n",
    "# Train NB classifiers for 10 classes \n",
    "vocab, prior, cond_prob = train_multinomial_NB(classes, train_docs, train_mins)\n",
    "trained = time.time()\n",
    "print 'Train classifier: %d' % (trained - corpus_done)\n",
    "\n",
    "# Test NB classifier\n",
    "pred_classes = test_NB(classes, vocab, prior, cond_prob, test_docs, test_mins)\n",
    "tested = time.time()\n",
    "print 'Test classifier: %d' % (tested - trained)\n",
    "\n",
    "print(f1(distribution(classes, test_mins, pred_classes),classes))"
   ]
  },
  {
   "cell_type": "markdown",
   "metadata": {
    "collapsed": true,
    "slideshow": {
     "slide_type": "slide"
    }
   },
   "source": [
    "## Stage 3: Feature Selection\n",
    "    - Key characteristic: \n",
    "    \n"
   ]
  },
  {
   "cell_type": "markdown",
   "metadata": {
    "slideshow": {
     "slide_type": "slide"
    }
   },
   "source": [
    "## Stage 4: Evaluation\n",
    "    - Key characteristic: "
   ]
  }
 ],
 "metadata": {
  "celltoolbar": "Slideshow",
  "kernelspec": {
   "display_name": "Python 2",
   "language": "python",
   "name": "python2"
  },
  "language_info": {
   "codemirror_mode": {
    "name": "ipython",
    "version": 2
   },
   "file_extension": ".py",
   "mimetype": "text/x-python",
   "name": "python",
   "nbconvert_exporter": "python",
   "pygments_lexer": "ipython2",
   "version": "2.7.12"
  }
 },
 "nbformat": 4,
 "nbformat_minor": 0
}
