{
 "cells": [
  {
   "cell_type": "markdown",
   "metadata": {
    "slideshow": {
     "slide_type": "slide"
    }
   },
   "source": [
    "# Our Naive Bayes Classifier in 4 stages\n",
    "\n",
    "\n",
    "##### Stage 1: Preparing the data\n",
    "    - Key characteristic: powerful normalization step\n",
    "\n",
    "##### Stage 2: Training and testing\n",
    "    - Key characteristic: speed\n",
    "\n",
    "##### Stage 3: Feature selection\n",
    "    - Key characteristic: easy top n words per class \n",
    "\n",
    "##### Stage 4: Evaluation\n",
    "    - Key characteristic: "
   ]
  },
  {
   "cell_type": "markdown",
   "metadata": {
    "slideshow": {
     "slide_type": "slide"
    }
   },
   "source": [
    "## Stage 1: Preparing data\n",
    "    - Key characteristic: powerful normalization step\n",
    "\n",
    "Voormalige top 10\n",
    "<pre>\n",
    "Justitie (JUS)\n",
    "Volksgezondheid, Welzijn en Sport (VWS)\n",
    "Buitenlandse Zaken (BUZA)\n",
    "Verkeer en Waterstaat (VW)\n",
    "Justitie\n",
    "Sociale Zaken en Werkgelegenheid (SZW)\n",
    "Onderwijs, Cultuur en Wetenschappen (OCW)\n",
    "Volkshuisvesting, Ruimtelijke Ordening en Milieubeheer (VROM)\n",
    "FinanciÃ«n (FIN)\n",
    "Volksgezondheid, Welzijn en Sport\n",
    "</pre>"
   ]
  },
  {
   "cell_type": "markdown",
   "metadata": {
    "collapsed": true,
    "slideshow": {
     "slide_type": "slide"
    }
   },
   "source": [
    "Nieuwe top 10, 33% meer samples\n",
    "<pre>\n",
    "justitie\n",
    "volksgezondheid, welzijn en sport\n",
    "buitenlandse zaken\n",
    "verkeer en waterstaat\n",
    "sociale zaken en werkgelegenheid\n",
    "onderwijs, cultuur en wetenschappen\n",
    "volkshuisvesting, ruimtelijke ordening en milieubeheer\n",
    "financi\\xebn\n",
    "economische zaken\n",
    "landbouw, natuurbeheer en visserij\n",
    "</pre>"
   ]
  },
  {
   "cell_type": "markdown",
   "metadata": {
    "slideshow": {
     "slide_type": "slide"
    }
   },
   "source": [
    "## Stage 2: Training and testing\n",
    "    - Key characteristic: speed"
   ]
  },
  {
   "cell_type": "code",
   "execution_count": 4,
   "metadata": {
    "collapsed": false,
    "slideshow": {
     "slide_type": "fragment"
    }
   },
   "outputs": [
    {
     "name": "stdout",
     "output_type": "stream",
     "text": [
      "Read csv: 11\n"
     ]
    }
   ],
   "source": [
    "from naive_bayes import *\n",
    "import time\n",
    "\n",
    "start = time.time()\n",
    "# Open csv - SAMPLE CODE\n",
    "kvrdf= open_csv('http://maartenmarx.nl/teaching/zoekmachines/LectureNotes/MySQL/KVR.csv.gz')\n",
    "read_pandas = time.time()\n",
    "print 'Read csv: %d' % (read_pandas - start)"
   ]
  },
  {
   "cell_type": "code",
   "execution_count": 2,
   "metadata": {
    "collapsed": false,
    "slideshow": {
     "slide_type": "slide"
    }
   },
   "outputs": [
    {
     "name": "stdout",
     "output_type": "stream",
     "text": [
      "Prepare corpus: 2\n",
      "Train classifier: 4\n",
      "Test classifier: 5\n",
      "0.697188309286\n"
     ]
    }
   ],
   "source": [
    "# Prepare corpus\n",
    "start = time.time()\n",
    "documents, ministeries, classes = get_corpus(kvrdf, 10)\n",
    "train_docs, train_mins, test_docs, test_mins = split_data(documents, ministeries)\n",
    "corpus_done = time.time()\n",
    "print 'Prepare corpus: %d' % (corpus_done - start)\n",
    "\n",
    "# Train NB classifiers for 10 classes \n",
    "vocab, prior, cond_prob = train_multinomial_NB(classes, train_docs, train_mins)\n",
    "trained = time.time()\n",
    "print 'Train classifier: %d' % (trained - corpus_done)\n",
    "\n",
    "# Test NB classifier\n",
    "pred_classes = test_NB(classes, vocab, prior, cond_prob, test_docs, test_mins)\n",
    "tested = time.time()\n",
    "print 'Test classifier: %d' % (tested - trained)\n",
    "\n",
    "print(f1(distribution(classes, test_mins, pred_classes),classes))"
   ]
  },
  {
   "cell_type": "markdown",
   "metadata": {
    "collapsed": true,
    "slideshow": {
     "slide_type": "slide"
    }
   },
   "source": [
    "## Stage 3: Feature Selection\n",
    "    - Key characteristic: easy top n words per class \n",
    "    "
   ]
  },
  {
   "cell_type": "code",
   "execution_count": null,
   "metadata": {
    "collapsed": true,
    "slideshow": {
     "slide_type": "fragment"
    }
   },
   "outputs": [],
   "source": [
    "MI = get_mutual_infs(train_docs, train_mins)"
   ]
  },
  {
   "cell_type": "code",
   "execution_count": 5,
   "metadata": {
    "collapsed": true,
    "slideshow": {
     "slide_type": "fragment"
    }
   },
   "outputs": [],
   "source": [
    "def top_mutual_infs(mutual_infs,n):\n",
    "    \"\"\"\n",
    "    Given the mutual information and interger n, \n",
    "    return a dict of top n words based on the mutual information.\n",
    "    \"\"\"\n",
    "    ministeries = {}\n",
    "    for mini in mutual_infs:\n",
    "        lst = [(mutual_infs[mini][term],term) \n",
    "                   for term in mutual_infs[mini]]\n",
    "        ministeries[mini] = sorted(lst, reverse=True)[:n]\n",
    "        \n",
    "    return ministeries"
   ]
  },
  {
   "cell_type": "code",
   "execution_count": null,
   "metadata": {
    "collapsed": true,
    "slideshow": {
     "slide_type": "slide"
    }
   },
   "outputs": [],
   "source": [
    "def feature_selection(vocabulary,MI, nr_words):\n",
    "    \"\"\"\n",
    "    Using Mutual Information select the top nr_words \n",
    "    for classification and return a new vocabulary using those words. \n",
    "    \"\"\"\n",
    "    top = top_mutual_infs(MI, nr_words)\n",
    "    return set(word[1] for c in top for word in top[c])"
   ]
  },
  {
   "cell_type": "markdown",
   "metadata": {
    "slideshow": {
     "slide_type": "fragment"
    }
   },
   "source": [
    "<center><img src='F1 plot.png' /></center>"
   ]
  },
  {
   "cell_type": "markdown",
   "metadata": {
    "slideshow": {
     "slide_type": "slide"
    }
   },
   "source": [
    "## Stage 4: Evaluation\n",
    "    - Key characteristic: Single computation of:\n",
    "        - True Positive\n",
    "        - False Positive\n",
    "        - False Negative"
   ]
  },
  {
   "cell_type": "code",
   "execution_count": null,
   "metadata": {
    "collapsed": true,
    "slideshow": {
     "slide_type": "slide"
    }
   },
   "outputs": [],
   "source": [
    "def distribution(classes, test_mins, pred_classes):\n",
    "    \"\"\"\n",
    "    Calculate the True Positives, False Positives, and False Negatives per class \n",
    "    and return a dict with a counter as value for each class. \n",
    "    \"\"\"\n",
    "    data = { c : Counter() for c in classes }\n",
    "    \n",
    "    for c in classes:\n",
    "        for i, ministerie in enumerate(test_mins):\n",
    "            if (c == ministerie and c == pred_classes[i]):\n",
    "                data[c]['TP'] += 1\n",
    "            elif (c == pred_classes[i] and c != ministerie):\n",
    "                data[c]['FP'] += 1\n",
    "            elif (c != pred_classes[i] and c == ministerie):\n",
    "                data[c]['FN'] += 1\n",
    "            \n",
    "    return data"
   ]
  },
  {
   "cell_type": "markdown",
   "metadata": {
    "slideshow": {
     "slide_type": "slide"
    }
   },
   "source": [
    "# Questions?"
   ]
  }
 ],
 "metadata": {
  "anaconda-cloud": {},
  "celltoolbar": "Slideshow",
  "kernelspec": {
   "display_name": "Python [NLTK]",
   "language": "python",
   "name": "Python [NLTK]"
  },
  "language_info": {
   "codemirror_mode": {
    "name": "ipython",
    "version": 2
   },
   "file_extension": ".py",
   "mimetype": "text/x-python",
   "name": "python",
   "nbconvert_exporter": "python",
   "pygments_lexer": "ipython2",
   "version": "2.7.12"
  }
 },
 "nbformat": 4,
 "nbformat_minor": 0
}
