{
 "cells": [
  {
   "cell_type": "markdown",
   "metadata": {
    "slideshow": {
     "slide_type": "slide"
    }
   },
   "source": [
    "# Our Elasticsearch Search engine in 4 stages\n",
    "\n",
    "### Step 1: Populating the database\n",
    "\n",
    "- Key characteristic: reasonably fast\n",
    "\n",
    "### Step 2: Search\n",
    "\n",
    "- Key characteristic: easy due do Elastic Search\n",
    "\n",
    "### Step 3: Showing results\n",
    "\n",
    "- Key characteristic: wonderful GUI\n",
    "\n",
    "### Step 4: Evaluation\n",
    "\n",
    "- Key characteristic: to be determined\n"
   ]
  },
  {
   "cell_type": "markdown",
   "metadata": {
    "slideshow": {
     "slide_type": "slide"
    }
   },
   "source": [
    "# Step 1: Populating the database\n",
    "\n",
    "- Key characteristic: reasonably fast\n",
    "\n",
    "### Telegraaf database: 37 XML files, total of 15.4 GB\n",
    "\n",
    "1. Reading XML files and transforming them to Json\n",
    "2. Index those files\n",
    "\n",
    "Total process took 75 minutes (+/- 30 minutes XML processing, +/- 45 minutes indexing)\n",
    "\n",
    "### Speed it up:\n",
    "- streaming\n",
    "- parellal bulk\n",
    "- increased HEAP and indexing size"
   ]
  },
  {
   "cell_type": "markdown",
   "metadata": {
    "slideshow": {
     "slide_type": "slide"
    }
   },
   "source": [
    "# Step 2: Search\n",
    "\n",
    "#### 1. Simple fedit form\n",
    "\n",
    "<img width = 50% src='http://oi66.tinypic.com/344be2t.jpg' />\n",
    "\n",
    "#### 2. Interactive GUI"
   ]
  },
  {
   "cell_type": "markdown",
   "metadata": {
    "slideshow": {
     "slide_type": "slide"
    }
   },
   "source": [
    "# Step 3: Presenting results\n",
    "\n",
    "#### 1. Document title with short description\n",
    "\n",
    "#### 2. Wordcloud to summarize hits\n",
    "    - remove Dutch stop words\n",
    "    - stemming\n",
    "\n",
    "<img width=50% src='http://oi63.tinypic.com/5wi79v.jpg' />"
   ]
  },
  {
   "cell_type": "markdown",
   "metadata": {
    "slideshow": {
     "slide_type": "slide"
    }
   },
   "source": [
    "#### 3. Timeline\n",
    "    - presented per month or per year\n",
    "    \n",
    "<img width=70% src='http://oi63.tinypic.com/2cyeds.jpg' />"
   ]
  }
 ],
 "metadata": {
  "anaconda-cloud": {},
  "celltoolbar": "Slideshow",
  "kernelspec": {
   "display_name": "Python 2",
   "language": "python",
   "name": "python2"
  },
  "language_info": {
   "codemirror_mode": {
    "name": "ipython",
    "version": 2
   },
   "file_extension": ".py",
   "mimetype": "text/x-python",
   "name": "python",
   "nbconvert_exporter": "python",
   "pygments_lexer": "ipython2",
   "version": "2.7.12"
  }
 },
 "nbformat": 4,
 "nbformat_minor": 0
}
