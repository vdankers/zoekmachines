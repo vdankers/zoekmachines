{
 "cells": [
  {
   "cell_type": "markdown",
   "metadata": {
    "slideshow": {
     "slide_type": "slide"
    }
   },
   "source": [
    "# ElasticSearch\n",
    "\n",
    "* Literature: <https://www.elastic.co/guide/en/elasticsearch/guide/current/index.html>\n",
    "* In this notebook we follow the steps in this guide\n",
    "* Java JDK 8 is strongly recommended, so you may need to upgrade your Java\n",
    "    (on my mac with java 1.6 elasticsearch did not work)"
   ]
  },
  {
   "cell_type": "markdown",
   "metadata": {},
   "source": [
    "# We start elastic search again\n",
    "* Now just follow the guide and learn\n",
    "* Instead of using the sense plugin or curl, you can talk to elastic search using the python API"
   ]
  },
  {
   "cell_type": "code",
   "execution_count": 11,
   "metadata": {
    "collapsed": true
   },
   "outputs": [],
   "source": [
    "! ./elasticsearch-2.4.1/bin/elasticsearch -d"
   ]
  },
  {
   "cell_type": "markdown",
   "metadata": {},
   "source": [
    "# Using the Python elastic search api\n",
    "\n",
    "* Documentation: <https://elasticsearch-py.readthedocs.org/en/master/>"
   ]
  },
  {
   "cell_type": "code",
   "execution_count": 21,
   "metadata": {
    "collapsed": false
   },
   "outputs": [],
   "source": [
    "import sys\n",
    "import json\n",
    "from elasticsearch import Elasticsearch\n",
    "\n",
    "HOST = 'http://localhost:9200/'\n",
    "es = Elasticsearch(hosts=[HOST])\n",
    "\n",
    "query={\n",
    "  \"query\": {\n",
    "    \"match_all\": {}\n",
    "  }\n",
    "}\n",
    "\n",
    "es.search(body=query)"
   ]
  },
  {
   "cell_type": "code",
   "execution_count": 13,
   "metadata": {
    "collapsed": false
   },
   "outputs": [
    {
     "data": {
      "text/plain": [
       "{u'_shards': {u'failed': 0, u'successful': 2, u'total': 2}, u'count': 7}"
      ]
     },
     "execution_count": 13,
     "metadata": {},
     "output_type": "execute_result"
    }
   ],
   "source": [
    "# The example from https://www.elastic.co/guide/en/elasticsearch/guide/current/_talking_to_elasticsearch.html\n",
    "es.count(body=query)"
   ]
  },
  {
   "cell_type": "markdown",
   "metadata": {},
   "source": [
    "# Putting information in the DB\n",
    "\n",
    "* We follow <https://www.elastic.co/guide/en/elasticsearch/guide/current/_indexing_employee_documents.html>\n",
    "\n",
    "* Notice that the path /megacorp/employee/1 contains three pieces of information:\n",
    "    * megacorp: The index name\n",
    "    * employee: The type name\n",
    "    * 1 : The ID of this particular employee\n",
    "    \n",
    "* We use the `es.index` method "
   ]
  },
  {
   "cell_type": "code",
   "execution_count": 14,
   "metadata": {
    "collapsed": false
   },
   "outputs": [
    {
     "data": {
      "text/plain": [
       "{u'_id': u'1',\n",
       " u'_index': u'megacorp',\n",
       " u'_shards': {u'failed': 0, u'successful': 1, u'total': 2},\n",
       " u'_type': u'employee',\n",
       " u'_version': 1,\n",
       " u'created': True}"
      ]
     },
     "execution_count": 14,
     "metadata": {},
     "output_type": "execute_result"
    }
   ],
   "source": [
    "employee1= {\n",
    "    \"first_name\" : \"John\",\n",
    "    \"last_name\" :  \"Smith\",\n",
    "    \"age\" :        25,\n",
    "    \"about\" :      \"I love to go rock climbing\",\n",
    "    \"interests\": [ \"sports\", \"music\" ]\n",
    "}\n",
    "\n",
    "es.index(index='megacorp', doc_type='employee', id=1, body=employee1)\n"
   ]
  },
  {
   "cell_type": "code",
   "execution_count": 15,
   "metadata": {
    "collapsed": false
   },
   "outputs": [
    {
     "name": "stdout",
     "output_type": "stream",
     "text": [
      "{u'interests': [u'sports', u'music'], u'age': 25, u'about': u'I love to go rock climbing', u'last_name': u'Smith', u'first_name': u'John'}\n"
     ]
    }
   ],
   "source": [
    "res = es.get(index='megacorp', doc_type='employee', id=1)\n",
    "print(res['_source'])"
   ]
  },
  {
   "cell_type": "code",
   "execution_count": 16,
   "metadata": {
    "collapsed": false
   },
   "outputs": [
    {
     "name": "stdout",
     "output_type": "stream",
     "text": [
      "Got 1 Hits:\n",
      "John Smith is  25 years old\n"
     ]
    }
   ],
   "source": [
    "es.indices.refresh(index=\"megacorp\")\n",
    "\n",
    "res = es.search(index=\"megacorp\", body={\"query\": {\"match_all\": {}}})\n",
    "print(\"Got %d Hits:\" % res['hits']['total'])\n",
    "for hit in res['hits']['hits']:\n",
    "    print(\"%(first_name)s %(last_name)s is  %(age)d years old\" % hit[\"_source\"])"
   ]
  },
  {
   "cell_type": "code",
   "execution_count": 17,
   "metadata": {
    "collapsed": false
   },
   "outputs": [
    {
     "data": {
      "text/plain": [
       "{u'_shards': {u'failed': 0, u'successful': 5, u'total': 5},\n",
       " u'hits': {u'hits': [{u'_id': u'1',\n",
       "    u'_index': u'megacorp',\n",
       "    u'_score': 0.30685282,\n",
       "    u'_source': {u'about': u'I love to go rock climbing',\n",
       "     u'age': 25,\n",
       "     u'first_name': u'John',\n",
       "     u'interests': [u'sports', u'music'],\n",
       "     u'last_name': u'Smith'},\n",
       "    u'_type': u'employee'}],\n",
       "  u'max_score': 0.30685282,\n",
       "  u'total': 1},\n",
       " u'timed_out': False,\n",
       " u'took': 12}"
      ]
     },
     "execution_count": 17,
     "metadata": {},
     "output_type": "execute_result"
    }
   ],
   "source": [
    "# Example from https://www.elastic.co/guide/en/elasticsearch/guide/current/_search_lite.html\n",
    "# GET /megacorp/employee/_search?q=last_name:Smith\n",
    "# View the query in sense to see the specific JSON way of writing it\n",
    "\n",
    "q= {\n",
    "  \"query\": {\n",
    "    \"match\": {\n",
    "      \"last_name\": \"smith\"\n",
    "    }\n",
    "  }\n",
    "}\n",
    "res = es.search(index=\"megacorp\", body=q)\n",
    "res"
   ]
  },
  {
   "cell_type": "code",
   "execution_count": 18,
   "metadata": {
    "collapsed": false
   },
   "outputs": [
    {
     "data": {
      "text/plain": [
       "[{u'_id': u'1',\n",
       "  u'_index': u'megacorp',\n",
       "  u'_score': 0.30685282,\n",
       "  u'_source': {u'about': u'I love to go rock climbing',\n",
       "   u'age': 25,\n",
       "   u'first_name': u'John',\n",
       "   u'interests': [u'sports', u'music'],\n",
       "   u'last_name': u'Smith'},\n",
       "  u'_type': u'employee'}]"
      ]
     },
     "execution_count": 18,
     "metadata": {},
     "output_type": "execute_result"
    }
   ],
   "source": [
    "# res is a dict\n",
    "res['hits']['hits']"
   ]
  },
  {
   "cell_type": "code",
   "execution_count": 19,
   "metadata": {
    "collapsed": false
   },
   "outputs": [
    {
     "data": {
      "text/plain": [
       "0.30685282"
      ]
     },
     "execution_count": 19,
     "metadata": {},
     "output_type": "execute_result"
    }
   ],
   "source": [
    "# score of first hit \n",
    "res['hits']['hits'][0]['_score']"
   ]
  },
  {
   "cell_type": "markdown",
   "metadata": {},
   "source": [
    "# Bulk indexing\n",
    "\n",
    "If you index a lot of documents you need to use the bulk index methods.\n",
    "\n",
    "See \n",
    "* <https://www.elastic.co/guide/en/elasticsearch/guide/current/bulk.html> for the explanation in the guide\n",
    "* <http://unroutable.blogspot.nl/2015/03/quick-example-elasticsearch-bulk-index.html> for the Python way"
   ]
  },
  {
   "cell_type": "code",
   "execution_count": 20,
   "metadata": {
    "collapsed": false
   },
   "outputs": [
    {
     "data": {
      "text/plain": [
       "{'_index': 'test2', '_type': 'foo', 'letters': 'AB'}"
      ]
     },
     "execution_count": 20,
     "metadata": {},
     "output_type": "execute_result"
    }
   ],
   "source": [
    ">>> import itertools\n",
    ">>> import string\n",
    ">>> from elasticsearch import  helpers\n",
    " \n",
    ">>> # k is a generator expression that produces\n",
    "... # a series of dictionaries containing test data.\n",
    "... # The test data are just letter permutations\n",
    "... # created with itertools.permutations.\n",
    "... #\n",
    "... # We then reference k as the iterator that's\n",
    "... # consumed by the elasticsearch.helpers.bulk method.\n",
    ">>> k = ({'_type':'foo', '_index':'test2','letters':''.join(letters)}\n",
    "...      for letters in itertools.permutations(string.letters,2))\n",
    "\n",
    ">>> # calling k.next() shows examples\n",
    "... # (while consuming the generator, of course)\n",
    ">>> # each dict contains a doc type, index, and data (at minimum)\n",
    ">>> k.next()"
   ]
  },
  {
   "cell_type": "code",
   "execution_count": 22,
   "metadata": {
    "collapsed": false
   },
   "outputs": [
    {
     "data": {
      "text/plain": [
       "(6497400,\n",
       " [('A', 'B', 'C', 'D'),\n",
       "  ('A', 'B', 'C', 'E'),\n",
       "  ('A', 'B', 'C', 'F'),\n",
       "  ('A', 'B', 'C', 'G'),\n",
       "  ('A', 'B', 'C', 'H')])"
      ]
     },
     "execution_count": 22,
     "metadata": {},
     "output_type": "execute_result"
    }
   ],
   "source": [
    "# What is this k generator?\n",
    "\n",
    "letters=  [letters for letters in itertools.permutations(string.letters,4)]\n",
    "\n",
    "len(letters),letters[:5]"
   ]
  },
  {
   "cell_type": "code",
   "execution_count": 23,
   "metadata": {
    "collapsed": false
   },
   "outputs": [
    {
     "data": {
      "text/plain": [
       "{'_index': 'test2', '_type': 'foo', 'letters': 'AC'}"
      ]
     },
     "execution_count": 23,
     "metadata": {},
     "output_type": "execute_result"
    }
   ],
   "source": [
    "k.next()"
   ]
  },
  {
   "cell_type": "code",
   "execution_count": 24,
   "metadata": {
    "collapsed": false
   },
   "outputs": [
    {
     "data": {
      "text/plain": [
       "{u'acknowledged': True}"
      ]
     },
     "execution_count": 24,
     "metadata": {},
     "output_type": "execute_result"
    }
   ],
   "source": [
    ">>> # create our test index\n",
    ">>> es.indices.create('test2')"
   ]
  },
  {
   "cell_type": "code",
   "execution_count": 25,
   "metadata": {
    "collapsed": false
   },
   "outputs": [
    {
     "data": {
      "text/plain": [
       "(2650, [])"
      ]
     },
     "execution_count": 25,
     "metadata": {},
     "output_type": "execute_result"
    }
   ],
   "source": [
    "\n",
    ">>> helpers.bulk(es,k)"
   ]
  },
  {
   "cell_type": "code",
   "execution_count": 26,
   "metadata": {
    "collapsed": false
   },
   "outputs": [
    {
     "ename": "NotFoundError",
     "evalue": "TransportError(404, u'index_not_found_exception', u'no such index')",
     "output_type": "error",
     "traceback": [
      "\u001b[1;31m---------------------------------------------------------------------------\u001b[0m",
      "\u001b[1;31mNotFoundError\u001b[0m                             Traceback (most recent call last)",
      "\u001b[1;32m<ipython-input-26-0069fee4fa2c>\u001b[0m in \u001b[0;36m<module>\u001b[1;34m()\u001b[0m\n\u001b[0;32m      1\u001b[0m \u001b[1;31m# check to make sure we got what we expected...\u001b[0m\u001b[1;33m\u001b[0m\u001b[1;33m\u001b[0m\u001b[0m\n\u001b[1;32m----> 2\u001b[1;33m \u001b[0mes\u001b[0m\u001b[1;33m.\u001b[0m\u001b[0mcount\u001b[0m\u001b[1;33m(\u001b[0m\u001b[0mindex\u001b[0m\u001b[1;33m=\u001b[0m\u001b[1;34m'test'\u001b[0m\u001b[1;33m)\u001b[0m\u001b[1;33m\u001b[0m\u001b[0m\n\u001b[0m",
      "\u001b[1;32m/home/verna/anaconda2/lib/python2.7/site-packages/elasticsearch/client/utils.pyc\u001b[0m in \u001b[0;36m_wrapped\u001b[1;34m(*args, **kwargs)\u001b[0m\n\u001b[0;32m     67\u001b[0m                 \u001b[1;32mif\u001b[0m \u001b[0mp\u001b[0m \u001b[1;32min\u001b[0m \u001b[0mkwargs\u001b[0m\u001b[1;33m:\u001b[0m\u001b[1;33m\u001b[0m\u001b[0m\n\u001b[0;32m     68\u001b[0m                     \u001b[0mparams\u001b[0m\u001b[1;33m[\u001b[0m\u001b[0mp\u001b[0m\u001b[1;33m]\u001b[0m \u001b[1;33m=\u001b[0m \u001b[0mkwargs\u001b[0m\u001b[1;33m.\u001b[0m\u001b[0mpop\u001b[0m\u001b[1;33m(\u001b[0m\u001b[0mp\u001b[0m\u001b[1;33m)\u001b[0m\u001b[1;33m\u001b[0m\u001b[0m\n\u001b[1;32m---> 69\u001b[1;33m             \u001b[1;32mreturn\u001b[0m \u001b[0mfunc\u001b[0m\u001b[1;33m(\u001b[0m\u001b[1;33m*\u001b[0m\u001b[0margs\u001b[0m\u001b[1;33m,\u001b[0m \u001b[0mparams\u001b[0m\u001b[1;33m=\u001b[0m\u001b[0mparams\u001b[0m\u001b[1;33m,\u001b[0m \u001b[1;33m**\u001b[0m\u001b[0mkwargs\u001b[0m\u001b[1;33m)\u001b[0m\u001b[1;33m\u001b[0m\u001b[0m\n\u001b[0m\u001b[0;32m     70\u001b[0m         \u001b[1;32mreturn\u001b[0m \u001b[0m_wrapped\u001b[0m\u001b[1;33m\u001b[0m\u001b[0m\n\u001b[0;32m     71\u001b[0m     \u001b[1;32mreturn\u001b[0m \u001b[0m_wrapper\u001b[0m\u001b[1;33m\u001b[0m\u001b[0m\n",
      "\u001b[1;32m/home/verna/anaconda2/lib/python2.7/site-packages/elasticsearch/client/__init__.pyc\u001b[0m in \u001b[0;36mcount\u001b[1;34m(self, index, doc_type, body, params)\u001b[0m\n\u001b[0;32m    757\u001b[0m \u001b[1;33m\u001b[0m\u001b[0m\n\u001b[0;32m    758\u001b[0m         return self.transport.perform_request('GET', _make_path(index,\n\u001b[1;32m--> 759\u001b[1;33m             doc_type, '_count'), params=params, body=body)\n\u001b[0m\u001b[0;32m    760\u001b[0m \u001b[1;33m\u001b[0m\u001b[0m\n\u001b[0;32m    761\u001b[0m     \u001b[1;33m@\u001b[0m\u001b[0mquery_params\u001b[0m\u001b[1;33m(\u001b[0m\u001b[1;34m'consistency'\u001b[0m\u001b[1;33m,\u001b[0m \u001b[1;34m'fields'\u001b[0m\u001b[1;33m,\u001b[0m \u001b[1;34m'refresh'\u001b[0m\u001b[1;33m,\u001b[0m \u001b[1;34m'routing'\u001b[0m\u001b[1;33m,\u001b[0m \u001b[1;34m'timeout'\u001b[0m\u001b[1;33m)\u001b[0m\u001b[1;33m\u001b[0m\u001b[0m\n",
      "\u001b[1;32m/home/verna/anaconda2/lib/python2.7/site-packages/elasticsearch/transport.pyc\u001b[0m in \u001b[0;36mperform_request\u001b[1;34m(self, method, url, params, body)\u001b[0m\n\u001b[0;32m    325\u001b[0m \u001b[1;33m\u001b[0m\u001b[0m\n\u001b[0;32m    326\u001b[0m             \u001b[1;32mtry\u001b[0m\u001b[1;33m:\u001b[0m\u001b[1;33m\u001b[0m\u001b[0m\n\u001b[1;32m--> 327\u001b[1;33m                 \u001b[0mstatus\u001b[0m\u001b[1;33m,\u001b[0m \u001b[0mheaders\u001b[0m\u001b[1;33m,\u001b[0m \u001b[0mdata\u001b[0m \u001b[1;33m=\u001b[0m \u001b[0mconnection\u001b[0m\u001b[1;33m.\u001b[0m\u001b[0mperform_request\u001b[0m\u001b[1;33m(\u001b[0m\u001b[0mmethod\u001b[0m\u001b[1;33m,\u001b[0m \u001b[0murl\u001b[0m\u001b[1;33m,\u001b[0m \u001b[0mparams\u001b[0m\u001b[1;33m,\u001b[0m \u001b[0mbody\u001b[0m\u001b[1;33m,\u001b[0m \u001b[0mignore\u001b[0m\u001b[1;33m=\u001b[0m\u001b[0mignore\u001b[0m\u001b[1;33m,\u001b[0m \u001b[0mtimeout\u001b[0m\u001b[1;33m=\u001b[0m\u001b[0mtimeout\u001b[0m\u001b[1;33m)\u001b[0m\u001b[1;33m\u001b[0m\u001b[0m\n\u001b[0m\u001b[0;32m    328\u001b[0m \u001b[1;33m\u001b[0m\u001b[0m\n\u001b[0;32m    329\u001b[0m             \u001b[1;32mexcept\u001b[0m \u001b[0mTransportError\u001b[0m \u001b[1;32mas\u001b[0m \u001b[0me\u001b[0m\u001b[1;33m:\u001b[0m\u001b[1;33m\u001b[0m\u001b[0m\n",
      "\u001b[1;32m/home/verna/anaconda2/lib/python2.7/site-packages/elasticsearch/connection/http_urllib3.pyc\u001b[0m in \u001b[0;36mperform_request\u001b[1;34m(self, method, url, params, body, timeout, ignore)\u001b[0m\n\u001b[0;32m    107\u001b[0m         \u001b[1;32mif\u001b[0m \u001b[1;32mnot\u001b[0m \u001b[1;33m(\u001b[0m\u001b[1;36m200\u001b[0m \u001b[1;33m<=\u001b[0m \u001b[0mresponse\u001b[0m\u001b[1;33m.\u001b[0m\u001b[0mstatus\u001b[0m \u001b[1;33m<\u001b[0m \u001b[1;36m300\u001b[0m\u001b[1;33m)\u001b[0m \u001b[1;32mand\u001b[0m \u001b[0mresponse\u001b[0m\u001b[1;33m.\u001b[0m\u001b[0mstatus\u001b[0m \u001b[1;32mnot\u001b[0m \u001b[1;32min\u001b[0m \u001b[0mignore\u001b[0m\u001b[1;33m:\u001b[0m\u001b[1;33m\u001b[0m\u001b[0m\n\u001b[0;32m    108\u001b[0m             \u001b[0mself\u001b[0m\u001b[1;33m.\u001b[0m\u001b[0mlog_request_fail\u001b[0m\u001b[1;33m(\u001b[0m\u001b[0mmethod\u001b[0m\u001b[1;33m,\u001b[0m \u001b[0murl\u001b[0m\u001b[1;33m,\u001b[0m \u001b[0mbody\u001b[0m\u001b[1;33m,\u001b[0m \u001b[0mduration\u001b[0m\u001b[1;33m,\u001b[0m \u001b[0mresponse\u001b[0m\u001b[1;33m.\u001b[0m\u001b[0mstatus\u001b[0m\u001b[1;33m,\u001b[0m \u001b[0mraw_data\u001b[0m\u001b[1;33m)\u001b[0m\u001b[1;33m\u001b[0m\u001b[0m\n\u001b[1;32m--> 109\u001b[1;33m             \u001b[0mself\u001b[0m\u001b[1;33m.\u001b[0m\u001b[0m_raise_error\u001b[0m\u001b[1;33m(\u001b[0m\u001b[0mresponse\u001b[0m\u001b[1;33m.\u001b[0m\u001b[0mstatus\u001b[0m\u001b[1;33m,\u001b[0m \u001b[0mraw_data\u001b[0m\u001b[1;33m)\u001b[0m\u001b[1;33m\u001b[0m\u001b[0m\n\u001b[0m\u001b[0;32m    110\u001b[0m \u001b[1;33m\u001b[0m\u001b[0m\n\u001b[0;32m    111\u001b[0m         self.log_request_success(method, full_url, url, body, response.status,\n",
      "\u001b[1;32m/home/verna/anaconda2/lib/python2.7/site-packages/elasticsearch/connection/base.pyc\u001b[0m in \u001b[0;36m_raise_error\u001b[1;34m(self, status_code, raw_data)\u001b[0m\n\u001b[0;32m    111\u001b[0m             \u001b[0mlogger\u001b[0m\u001b[1;33m.\u001b[0m\u001b[0mwarning\u001b[0m\u001b[1;33m(\u001b[0m\u001b[1;34m'Undecodable raw error response from server: %s'\u001b[0m\u001b[1;33m,\u001b[0m \u001b[0merr\u001b[0m\u001b[1;33m)\u001b[0m\u001b[1;33m\u001b[0m\u001b[0m\n\u001b[0;32m    112\u001b[0m \u001b[1;33m\u001b[0m\u001b[0m\n\u001b[1;32m--> 113\u001b[1;33m         \u001b[1;32mraise\u001b[0m \u001b[0mHTTP_EXCEPTIONS\u001b[0m\u001b[1;33m.\u001b[0m\u001b[0mget\u001b[0m\u001b[1;33m(\u001b[0m\u001b[0mstatus_code\u001b[0m\u001b[1;33m,\u001b[0m \u001b[0mTransportError\u001b[0m\u001b[1;33m)\u001b[0m\u001b[1;33m(\u001b[0m\u001b[0mstatus_code\u001b[0m\u001b[1;33m,\u001b[0m \u001b[0merror_message\u001b[0m\u001b[1;33m,\u001b[0m \u001b[0madditional_info\u001b[0m\u001b[1;33m)\u001b[0m\u001b[1;33m\u001b[0m\u001b[0m\n\u001b[0m\u001b[0;32m    114\u001b[0m \u001b[1;33m\u001b[0m\u001b[0m\n\u001b[0;32m    115\u001b[0m \u001b[1;33m\u001b[0m\u001b[0m\n",
      "\u001b[1;31mNotFoundError\u001b[0m: TransportError(404, u'index_not_found_exception', u'no such index')"
     ]
    }
   ],
   "source": [
    ">>> # check to make sure we got what we expected...\n",
    ">>> es.count(index='test')"
   ]
  },
  {
   "cell_type": "markdown",
   "metadata": {},
   "source": [
    "# Your turn\n",
    "* Make quite a bit more documents by changing the 2 in the definition of k to 3, or 4...\n",
    "* index them again and query, and notice performance\n",
    "* find out how you can delete an index ;-)"
   ]
  },
  {
   "cell_type": "code",
   "execution_count": 75,
   "metadata": {
    "collapsed": true
   },
   "outputs": [],
   "source": []
  },
  {
   "cell_type": "code",
   "execution_count": 47,
   "metadata": {
    "collapsed": false
   },
   "outputs": [
    {
     "name": "stdout",
     "output_type": "stream",
     "text": [
      "0.000593900680542\n",
      "0.0020489692688\n"
     ]
    }
   ],
   "source": [
    "import time\n",
    "\n",
    "import json, xmljson\n",
    "from lxml.etree import fromstring, tostring\n",
    "\n",
    "\n",
    "\n",
    "start = time.time()\n",
    "xml = fromstring(open('Telegraaf/mini.xml','r').read())\n",
    "xml_done = time.time()\n",
    "print xml_done - start\n",
    "\n",
    "json_data = json.loads(json.dumps(xmljson.parker.data(xml)))\n",
    "json_done = time.time()\n",
    "print json_done - xml_done"
   ]
  },
  {
   "cell_type": "code",
   "execution_count": 54,
   "metadata": {
    "collapsed": false
   },
   "outputs": [
    {
     "name": "stdout",
     "output_type": "stream",
     "text": [
      "{u'{http://www.politicalmashup.nl}meta': {u'{http://purl.org/dc/elements/1.1/}subject': u'advertentie', u'{http://purl.org/dc/elements/1.1/}date': u'1918-04-02', u'{http://purl.org/dc/elements/1.1/}identifier': u'ddd:011211202:mpeg21:p001:a0001', u'{http://purl.org/dc/elements/1.1/}source': {u'{http://purl.org/dc/elements/1.1/}source': {u'{http://www.politicalmashup.nl}link': None}}}, u'{http://www.politicalmashup.nl}docinfo': None, u'{http://www.politicalmashup.nl}content': {u'text': {u'p': u'I;L * .-\\u25a0\\u2022\\u25a0 -.\"\\u25a0 4,1 ffii \\' \\'\\u2022\\'\\u2022^*V*t \\'S ~fr\\u2022-\\'K\\'j\\',-^; r \\u25a0&*!* ff\\' r- AMSTERDAM. v: >\\u2022\\u2022 . C-. _.:\\u2022\\u2022\\'\\u2022 \\u2022 - .:-\\'.v- - -\\u2022\\u2022 ;-V->- \\'t-\\'-\\'S- .\\u25a0\\u2022\\u25a0 V \\u25a0\\u25a0:\\u25a0 \\u2022 -\\'\\u25a0 \\\\v^,> > *_. . \\u2022\\u2022 | - \\' \\'\\u25a0- --\\u2022-f \\\\- .\\xbb\\'-\\'\\u25a0 v*-\\': \\u2022 \\u2022+**\\u2022\\u25a0\\u25a0*\\'\\u25a0;\\u25a0- ;---\" *\\u2022 \\u2022 \\u2022\\'.\\u2022 \\u2022\\xbb,.. ** .\\u25a0 i\\'i \\'/ \\u2022 \\u2022\\u2022 SSC :\\'\\u25a0 I/- v.A-.C\\xbb* vVrv\\'*Xj<?\\'\\xbb\\'L\\u2022 i;1\\' V?/ \\'r+*~rfi- \\u25a0*;:\\' fl , \",r *;1 \",\\' :,. ,\\':* \\'\\' \" \\' * \"\\'\\' \\'\\xc8djZ;|TCLEFOON INTERCOMMUNAAL LETTE* |\\xa7'}, u'title': None}}\n",
      "{u'{http://www.politicalmashup.nl}meta': {u'{http://purl.org/dc/elements/1.1/}subject': u'advertentie', u'{http://purl.org/dc/elements/1.1/}date': u'1918-04-02', u'{http://purl.org/dc/elements/1.1/}identifier': u'ddd:011211202:mpeg21:p001:a0002', u'{http://purl.org/dc/elements/1.1/}source': {u'{http://purl.org/dc/elements/1.1/}source': {u'{http://www.politicalmashup.nl}link': None}}}, u'{http://www.politicalmashup.nl}docinfo': None, u'{http://www.politicalmashup.nl}content': {u'text': {u'p': u'koffiehuis i-,2 \\u2022 \\'\\u25a0:> \" H\\xab4\\xabn-2 April, >\\' 6avuld< \\' . W^S\\xd6NO\\xc9\\xcf)EBgEIt: &***j2er.osserib,komkommersalade ww\\xc9S^\\xd6\\xd6M; t.Heden: Hollandaebe Hutspot T iNederlandsche flunt. BoJHbcu meeat gevilde 10 oent Sigaar. C \\u2022.\\u2022\\xab\\u2022.\" \\u2022 i -v. \\u2022\\' \\u2022\\u2022\\u2022 - \\'T'}, u'title': None}}\n",
      "{u'{http://www.politicalmashup.nl}meta': {u'{http://purl.org/dc/elements/1.1/}subject': u'advertentie', u'{http://purl.org/dc/elements/1.1/}date': u'1918-04-02', u'{http://purl.org/dc/elements/1.1/}identifier': u'ddd:011211202:mpeg21:p001:a0003', u'{http://purl.org/dc/elements/1.1/}source': {u'{http://purl.org/dc/elements/1.1/}source': {u'{http://www.politicalmashup.nl}link': None}}}, u'{http://www.politicalmashup.nl}docinfo': None, u'{http://www.politicalmashup.nl}content': {u'text': {u'p': u'-J^^DIRECTTE-EN-ADMINISTRATIEiS^St , \\xbbt- \\u25a0\\u25a0\\u25a0\\' \\xbbj \\u25a0 yy~ -\\'*\" *** \\'\" \"\\u2022*\\u2022*\\'\\' \"\\'* *\"-\\u0192 ,-y _. \\u25a0-\\'\\u25a0\\u2022|x r.;\\' -\\'.* -Xr*%\"r:^-2 _45.Z~ \\'*fl-\\'\\' \"\" firn- I\"i> % i\\',+T >\\u25a0 \\u2022 .\\u2022\"\\u25a0\\'.\\xa3\\u2022 \\'\\' \\'\\u25a0\"\\'*\"*~r\\'\\'k\\'\":\" ~ \\'*y-V\\'-\\xbb-. 7* -* \\xa3 *\\u2014\\u2022\\' -1-<*- -\\'1 , r * \\\\ .\\' VAN HET ABOWWEMPfT. ,\\u25a0 . . \\u25a0\\u25a0 Wj , \" * ~ j \\u2022 , Vtrho\\xab|dmct7B cenu~oorioptooUg;ea S cent\\xbb :J:i\\' \\u2022/\\u2022 \\u2022-.;.;.^7'}, u'title': None}}\n"
     ]
    }
   ],
   "source": [
    "# i = 0\n",
    "\n",
    "# for root in json_data:\n",
    "#     for document in json_data[root]:\n",
    "#         if json_data[root][document]:\n",
    "#             for j, ding in enumerate(json_data[root][document]):\n",
    "#                 i += 1\n",
    "#                 print(json_data[root][document][j])\n",
    "#                 print i\n",
    "\n",
    "for root in json_data:\n",
    "    for i, document in enumerate(json_data[root]):\n",
    "        print json_data[root][i]"
   ]
  },
  {
   "cell_type": "code",
   "execution_count": null,
   "metadata": {
    "collapsed": true
   },
   "outputs": [],
   "source": []
  }
 ],
 "metadata": {
  "kernelspec": {
   "display_name": "Python 2",
   "language": "python",
   "name": "python2"
  },
  "language_info": {
   "codemirror_mode": {
    "name": "ipython",
    "version": 2
   },
   "file_extension": ".py",
   "mimetype": "text/x-python",
   "name": "python",
   "nbconvert_exporter": "python",
   "pygments_lexer": "ipython2",
   "version": "2.7.12"
  }
 },
 "nbformat": 4,
 "nbformat_minor": 0
}
