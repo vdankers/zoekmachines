{
 "cells": [
  {
   "cell_type": "markdown",
   "metadata": {
    "slideshow": {
     "slide_type": "slide"
    }
   },
   "source": [
    "# ElasticSearch\n",
    "\n",
    "* Literature: <https://www.elastic.co/guide/en/elasticsearch/guide/current/index.html>\n",
    "* In this notebook we follow the steps in this guide\n",
    "* Java JDK 8 is strongly recommended, so you may need to upgrade your Java\n",
    "    (on my mac with java 1.6 elasticsearch did not work)"
   ]
  },
  {
   "cell_type": "markdown",
   "metadata": {},
   "source": [
    "# We start elastic search again\n",
    "* Now just follow the guide and learn\n",
    "* Instead of using the sense plugin or curl, you can talk to elastic search using the python API"
   ]
  },
  {
   "cell_type": "code",
   "execution_count": 21,
   "metadata": {
    "collapsed": false
   },
   "outputs": [],
   "source": [
    "# Please run the Elasticsearch service from the command line, \n",
    "# because the python API can no longer shutdown the Elasticsearch engine service, \n"
   ]
  },
  {
   "cell_type": "code",
   "execution_count": 15,
   "metadata": {
    "collapsed": false
   },
   "outputs": [
    {
     "name": "stdout",
     "output_type": "stream",
     "text": [
      "AssignmentWeek1.ipynb    F1 plot.png              earlier_code.py\r\n",
      "AssignmentWeek2.ipynb    OurSearchEngine.ipynb    \u001b[34melasticsearch-2.4.1\u001b[m\u001b[m\r\n",
      "AssignmentWeek3.ipynb    \u001b[34mPagerank\u001b[m\u001b[m                 naive_bayes.py\r\n",
      "AssignmentWeek5.ipynb    Presentation.ipynb       naive_bayes.pyc\r\n",
      "AssignmentWeek6.ipynb    \u001b[34mShakespeare\u001b[m\u001b[m              relevance_assessment.txt\r\n",
      "AssignmentWeek7.ipynb    assignment1.ipynb\r\n"
     ]
    }
   ],
   "source": []
  },
  {
   "cell_type": "markdown",
   "metadata": {},
   "source": [
    "# Using the Python elastic search api\n",
    "\n",
    "* Documentation: <https://elasticsearch-py.readthedocs.org/en/master/>"
   ]
  },
  {
   "cell_type": "code",
   "execution_count": 22,
   "metadata": {
    "collapsed": false,
    "scrolled": true
   },
   "outputs": [
    {
     "data": {
      "text/plain": [
       "{u'_shards': {u'failed': 0, u'successful': 2, u'total': 2},\n",
       " u'hits': {u'hits': [{u'_id': u'AVfhc1hy09KZ5fwZ_NQX',\n",
       "    u'_index': u'.marvel-es-1-2016.10.20',\n",
       "    u'_score': 1.0,\n",
       "    u'_source': {u'cluster_uuid': u'qkSNHqQ6QMqEo9fljsFQzQ',\n",
       "     u'indices_stats': {u'_all': {u'primaries': {u'docs': {u'count': 79},\n",
       "        u'indexing': {u'index_time_in_millis': 366,\n",
       "         u'index_total': 119,\n",
       "         u'is_throttled': False,\n",
       "         u'throttle_time_in_millis': 0},\n",
       "        u'search': {u'query_time_in_millis': 10, u'query_total': 2},\n",
       "        u'store': {u'size_in_bytes': 390749}},\n",
       "       u'total': {u'docs': {u'count': 79},\n",
       "        u'indexing': {u'index_time_in_millis': 366,\n",
       "         u'index_total': 119,\n",
       "         u'is_throttled': False,\n",
       "         u'throttle_time_in_millis': 0},\n",
       "        u'search': {u'query_time_in_millis': 10, u'query_total': 2},\n",
       "        u'store': {u'size_in_bytes': 390749}}}},\n",
       "     u'source_node': {u'attributes': {},\n",
       "      u'host': u'127.0.0.1',\n",
       "      u'ip': u'127.0.0.1',\n",
       "      u'name': u'Empath',\n",
       "      u'transport_address': u'127.0.0.1:9300',\n",
       "      u'uuid': u'QGgCpy5rQTKSwV7nUtwE2w'},\n",
       "     u'timestamp': u'2016-10-20T09:36:55.399Z'},\n",
       "    u'_type': u'indices_stats'},\n",
       "   {u'_id': u'AVfhc1hy09KZ5fwZ_NQY',\n",
       "    u'_index': u'.marvel-es-1-2016.10.20',\n",
       "    u'_score': 1.0,\n",
       "    u'_source': {u'cluster_stats': {u'indices': {u'count': 2,\n",
       "       u'docs': {u'count': 79},\n",
       "       u'shards': {u'index': {u'replication': {u'min': 0.0}}, u'total': 2},\n",
       "       u'store': {u'size_in_bytes': 390749}},\n",
       "      u'nodes': {u'count': {u'total': 1},\n",
       "       u'fs': {u'available_in_bytes': 213468364800,\n",
       "        u'free_in_bytes': 213730508800,\n",
       "        u'total_in_bytes': 798345134080},\n",
       "       u'jvm': {u'max_uptime_in_millis': 104573,\n",
       "        u'mem': {u'heap_max_in_bytes': 1037959168,\n",
       "         u'heap_used_in_bytes': 41157224}},\n",
       "       u'versions': [u'2.4.1']}},\n",
       "     u'cluster_uuid': u'qkSNHqQ6QMqEo9fljsFQzQ',\n",
       "     u'source_node': {u'attributes': {},\n",
       "      u'host': u'127.0.0.1',\n",
       "      u'ip': u'127.0.0.1',\n",
       "      u'name': u'Empath',\n",
       "      u'transport_address': u'127.0.0.1:9300',\n",
       "      u'uuid': u'QGgCpy5rQTKSwV7nUtwE2w'},\n",
       "     u'timestamp': u'2016-10-20T09:36:55.401Z'},\n",
       "    u'_type': u'cluster_stats'},\n",
       "   {u'_id': u'AVfhc1hy09KZ5fwZ_NQZ',\n",
       "    u'_index': u'.marvel-es-1-2016.10.20',\n",
       "    u'_score': 1.0,\n",
       "    u'_source': {u'cluster_uuid': u'qkSNHqQ6QMqEo9fljsFQzQ',\n",
       "     u'index_recovery': {u'shards': [{u'id': 0,\n",
       "        u'index': {u'files': {u'percent': u'0.0%',\n",
       "          u'recovered': 0,\n",
       "          u'reused': 0,\n",
       "          u'total': 0},\n",
       "         u'size': {u'percent': u'0.0%',\n",
       "          u'recovered_in_bytes': 0,\n",
       "          u'reused_in_bytes': 0,\n",
       "          u'total_in_bytes': 0},\n",
       "         u'source_throttle_time_in_millis': 0,\n",
       "         u'target_throttle_time_in_millis': 0,\n",
       "         u'total_time_in_millis': 3},\n",
       "        u'index_name': u'.marvel-es-data-1',\n",
       "        u'primary': True,\n",
       "        u'source': {u'host': u'127.0.0.1',\n",
       "         u'id': u'QGgCpy5rQTKSwV7nUtwE2w',\n",
       "         u'ip': u'127.0.0.1',\n",
       "         u'name': u'Empath',\n",
       "         u'transport_address': u'127.0.0.1:9300'},\n",
       "        u'stage': u'DONE',\n",
       "        u'start_time_in_millis': 1476956124656,\n",
       "        u'stop_time_in_millis': 1476956124797,\n",
       "        u'target': {u'host': u'127.0.0.1',\n",
       "         u'id': u'QGgCpy5rQTKSwV7nUtwE2w',\n",
       "         u'ip': u'127.0.0.1',\n",
       "         u'name': u'Empath',\n",
       "         u'transport_address': u'127.0.0.1:9300'},\n",
       "        u'total_time_in_millis': 140,\n",
       "        u'translog': {u'percent': u'100.0%',\n",
       "         u'recovered': 0,\n",
       "         u'total': 0,\n",
       "         u'total_on_start': 0,\n",
       "         u'total_time_in_millis': 134},\n",
       "        u'type': u'STORE',\n",
       "        u'verify_index': {u'check_index_time_in_millis': 0,\n",
       "         u'total_time_in_millis': 0}},\n",
       "       {u'id': 0,\n",
       "        u'index': {u'files': {u'percent': u'0.0%',\n",
       "          u'recovered': 0,\n",
       "          u'reused': 0,\n",
       "          u'total': 0},\n",
       "         u'size': {u'percent': u'0.0%',\n",
       "          u'recovered_in_bytes': 0,\n",
       "          u'reused_in_bytes': 0,\n",
       "          u'total_in_bytes': 0},\n",
       "         u'source_throttle_time_in_millis': 0,\n",
       "         u'target_throttle_time_in_millis': 0,\n",
       "         u'total_time_in_millis': 0},\n",
       "        u'index_name': u'.marvel-es-1-2016.10.20',\n",
       "        u'primary': True,\n",
       "        u'source': {u'host': u'127.0.0.1',\n",
       "         u'id': u'QGgCpy5rQTKSwV7nUtwE2w',\n",
       "         u'ip': u'127.0.0.1',\n",
       "         u'name': u'Empath',\n",
       "         u'transport_address': u'127.0.0.1:9300'},\n",
       "        u'stage': u'DONE',\n",
       "        u'start_time_in_millis': 1476956124808,\n",
       "        u'stop_time_in_millis': 1476956124819,\n",
       "        u'target': {u'host': u'127.0.0.1',\n",
       "         u'id': u'QGgCpy5rQTKSwV7nUtwE2w',\n",
       "         u'ip': u'127.0.0.1',\n",
       "         u'name': u'Empath',\n",
       "         u'transport_address': u'127.0.0.1:9300'},\n",
       "        u'total_time_in_millis': 11,\n",
       "        u'translog': {u'percent': u'100.0%',\n",
       "         u'recovered': 0,\n",
       "         u'total': 0,\n",
       "         u'total_on_start': 0,\n",
       "         u'total_time_in_millis': 10},\n",
       "        u'type': u'STORE',\n",
       "        u'verify_index': {u'check_index_time_in_millis': 0,\n",
       "         u'total_time_in_millis': 0}}]},\n",
       "     u'source_node': {u'attributes': {},\n",
       "      u'host': u'127.0.0.1',\n",
       "      u'ip': u'127.0.0.1',\n",
       "      u'name': u'Empath',\n",
       "      u'transport_address': u'127.0.0.1:9300',\n",
       "      u'uuid': u'QGgCpy5rQTKSwV7nUtwE2w'},\n",
       "     u'timestamp': u'2016-10-20T09:36:55.402Z'},\n",
       "    u'_type': u'index_recovery'},\n",
       "   {u'_id': u'AVfhc1hy09KZ5fwZ_NQa',\n",
       "    u'_index': u'.marvel-es-1-2016.10.20',\n",
       "    u'_score': 1.0,\n",
       "    u'_source': {u'cluster_state': {u'master_node': u'QGgCpy5rQTKSwV7nUtwE2w',\n",
       "      u'nodes': {u'QGgCpy5rQTKSwV7nUtwE2w': {u'attributes': {},\n",
       "        u'name': u'Empath',\n",
       "        u'transport_address': u'127.0.0.1:9300'}},\n",
       "      u'state_uuid': u'gsKt2ZDWRhCbI3vLt4cO4g',\n",
       "      u'status': u'yellow',\n",
       "      u'version': 13},\n",
       "     u'cluster_uuid': u'qkSNHqQ6QMqEo9fljsFQzQ',\n",
       "     u'source_node': {u'attributes': {},\n",
       "      u'host': u'127.0.0.1',\n",
       "      u'ip': u'127.0.0.1',\n",
       "      u'name': u'Empath',\n",
       "      u'transport_address': u'127.0.0.1:9300',\n",
       "      u'uuid': u'QGgCpy5rQTKSwV7nUtwE2w'},\n",
       "     u'timestamp': u'2016-10-20T09:36:55.403Z'},\n",
       "    u'_type': u'cluster_state'},\n",
       "   {u'_id': u'AVfhc1hy09KZ5fwZ_NQb',\n",
       "    u'_index': u'.marvel-es-1-2016.10.20',\n",
       "    u'_score': 1.0,\n",
       "    u'_source': {u'cluster_uuid': u'qkSNHqQ6QMqEo9fljsFQzQ',\n",
       "     u'node': {u'id': u'QGgCpy5rQTKSwV7nUtwE2w'},\n",
       "     u'source_node': {u'attributes': {},\n",
       "      u'host': u'127.0.0.1',\n",
       "      u'ip': u'127.0.0.1',\n",
       "      u'name': u'Empath',\n",
       "      u'transport_address': u'127.0.0.1:9300',\n",
       "      u'uuid': u'QGgCpy5rQTKSwV7nUtwE2w'},\n",
       "     u'state_uuid': u'gsKt2ZDWRhCbI3vLt4cO4g',\n",
       "     u'timestamp': u'2016-10-20T09:36:55.403Z'},\n",
       "    u'_type': u'node'},\n",
       "   {u'_id': u'AVfhc1hy09KZ5fwZ_NQc',\n",
       "    u'_index': u'.marvel-es-1-2016.10.20',\n",
       "    u'_score': 1.0,\n",
       "    u'_source': {u'cluster_uuid': u'qkSNHqQ6QMqEo9fljsFQzQ',\n",
       "     u'node_stats': {u'disk_threshold_enabled': True,\n",
       "      u'disk_threshold_watermark_high': 90.0,\n",
       "      u'fs': {u'total': {u'available_in_bytes': 213468364800,\n",
       "        u'free_in_bytes': 213730508800,\n",
       "        u'total_in_bytes': 798345134080}},\n",
       "      u'indices': {u'docs': {u'count': 79},\n",
       "       u'indexing': {u'index_time_in_millis': 366,\n",
       "        u'index_total': 119,\n",
       "        u'throttle_time_in_millis': 0},\n",
       "       u'search': {u'query_time_in_millis': 10, u'query_total': 2},\n",
       "       u'segments': {u'count': 10},\n",
       "       u'store': {u'size_in_bytes': 390749, u'throttle_time_in_millis': 0}},\n",
       "      u'jvm': {u'gc': {u'collectors': {u'old': {u'collection_count': 1,\n",
       "          u'collection_time_in_millis': 15},\n",
       "         u'young': {u'collection_count': 9,\n",
       "          u'collection_time_in_millis': 102}}},\n",
       "       u'mem': {u'heap_used_in_bytes': 41157224, u'heap_used_percent': 3}},\n",
       "      u'mlockall': False,\n",
       "      u'node_id': u'QGgCpy5rQTKSwV7nUtwE2w',\n",
       "      u'node_master': True,\n",
       "      u'os': {u'load_average': 2.10888671875},\n",
       "      u'process': {u'cpu': {u'percent': 0},\n",
       "       u'max_file_descriptors': 10240,\n",
       "       u'open_file_descriptors': 257},\n",
       "      u'thread_pool': {u'bulk': {u'rejected': 0},\n",
       "       u'index': {u'rejected': 0},\n",
       "       u'search': {u'rejected': 0}}},\n",
       "     u'source_node': {u'attributes': {},\n",
       "      u'host': u'127.0.0.1',\n",
       "      u'ip': u'127.0.0.1',\n",
       "      u'name': u'Empath',\n",
       "      u'transport_address': u'127.0.0.1:9300',\n",
       "      u'uuid': u'QGgCpy5rQTKSwV7nUtwE2w'},\n",
       "     u'timestamp': u'2016-10-20T09:36:55.406Z'},\n",
       "    u'_type': u'node_stats'},\n",
       "   {u'_id': u'AVfhc1hy09KZ5fwZ_NQd',\n",
       "    u'_index': u'.marvel-es-1-2016.10.20',\n",
       "    u'_score': 1.0,\n",
       "    u'_source': {u'cluster_uuid': u'qkSNHqQ6QMqEo9fljsFQzQ',\n",
       "     u'index_stats': {u'index': u'.marvel-es-data-1',\n",
       "      u'primaries': {u'docs': {u'count': 2},\n",
       "       u'fielddata': {u'memory_size_in_bytes': 0},\n",
       "       u'indexing': {u'index_time_in_millis': 111,\n",
       "        u'index_total': 18,\n",
       "        u'throttle_time_in_millis': 0},\n",
       "       u'merges': {u'total_size_in_bytes': 0},\n",
       "       u'refresh': {u'total_time_in_millis': 406},\n",
       "       u'search': {u'query_time_in_millis': 5, u'query_total': 1},\n",
       "       u'segments': {u'memory_in_bytes': 1399},\n",
       "       u'store': {u'size_in_bytes': 4176, u'throttle_time_in_millis': 0}},\n",
       "      u'total': {u'docs': {u'count': 2},\n",
       "       u'fielddata': {u'memory_size_in_bytes': 0},\n",
       "       u'indexing': {u'index_time_in_millis': 111,\n",
       "        u'index_total': 18,\n",
       "        u'throttle_time_in_millis': 0},\n",
       "       u'merges': {u'total_size_in_bytes': 0},\n",
       "       u'refresh': {u'total_time_in_millis': 406},\n",
       "       u'search': {u'query_time_in_millis': 5, u'query_total': 1},\n",
       "       u'segments': {u'memory_in_bytes': 1399},\n",
       "       u'store': {u'size_in_bytes': 4176, u'throttle_time_in_millis': 0}}},\n",
       "     u'source_node': {u'attributes': {},\n",
       "      u'host': u'127.0.0.1',\n",
       "      u'ip': u'127.0.0.1',\n",
       "      u'name': u'Empath',\n",
       "      u'transport_address': u'127.0.0.1:9300',\n",
       "      u'uuid': u'QGgCpy5rQTKSwV7nUtwE2w'},\n",
       "     u'timestamp': u'2016-10-20T09:36:55.408Z'},\n",
       "    u'_type': u'index_stats'},\n",
       "   {u'_id': u'AVfhc1hy09KZ5fwZ_NQe',\n",
       "    u'_index': u'.marvel-es-1-2016.10.20',\n",
       "    u'_score': 1.0,\n",
       "    u'_source': {u'cluster_uuid': u'qkSNHqQ6QMqEo9fljsFQzQ',\n",
       "     u'index_stats': {u'index': u'.marvel-es-1-2016.10.20',\n",
       "      u'primaries': {u'docs': {u'count': 77},\n",
       "       u'fielddata': {u'memory_size_in_bytes': 0},\n",
       "       u'indexing': {u'index_time_in_millis': 255,\n",
       "        u'index_total': 101,\n",
       "        u'throttle_time_in_millis': 0},\n",
       "       u'merges': {u'total_size_in_bytes': 0},\n",
       "       u'refresh': {u'total_time_in_millis': 464},\n",
       "       u'search': {u'query_time_in_millis': 5, u'query_total': 1},\n",
       "       u'segments': {u'memory_in_bytes': 230982},\n",
       "       u'store': {u'size_in_bytes': 386573, u'throttle_time_in_millis': 0}},\n",
       "      u'total': {u'docs': {u'count': 77},\n",
       "       u'fielddata': {u'memory_size_in_bytes': 0},\n",
       "       u'indexing': {u'index_time_in_millis': 255,\n",
       "        u'index_total': 101,\n",
       "        u'throttle_time_in_millis': 0},\n",
       "       u'merges': {u'total_size_in_bytes': 0},\n",
       "       u'refresh': {u'total_time_in_millis': 464},\n",
       "       u'search': {u'query_time_in_millis': 5, u'query_total': 1},\n",
       "       u'segments': {u'memory_in_bytes': 230982},\n",
       "       u'store': {u'size_in_bytes': 386573, u'throttle_time_in_millis': 0}}},\n",
       "     u'source_node': {u'attributes': {},\n",
       "      u'host': u'127.0.0.1',\n",
       "      u'ip': u'127.0.0.1',\n",
       "      u'name': u'Empath',\n",
       "      u'transport_address': u'127.0.0.1:9300',\n",
       "      u'uuid': u'QGgCpy5rQTKSwV7nUtwE2w'},\n",
       "     u'timestamp': u'2016-10-20T09:36:55.408Z'},\n",
       "    u'_type': u'index_stats'},\n",
       "   {u'_id': u'AVfhch5E09KZ5fwZ_NPX',\n",
       "    u'_index': u'.marvel-es-1-2016.10.20',\n",
       "    u'_score': 1.0,\n",
       "    u'_source': {u'cluster_uuid': u'qkSNHqQ6QMqEo9fljsFQzQ',\n",
       "     u'indices_stats': {u'_all': {u'primaries': {u'docs': {u'count': 7},\n",
       "        u'indexing': {u'index_time_in_millis': 150,\n",
       "         u'index_total': 7,\n",
       "         u'is_throttled': False,\n",
       "         u'throttle_time_in_millis': 0},\n",
       "        u'search': {u'query_time_in_millis': 0, u'query_total': 0},\n",
       "        u'store': {u'size_in_bytes': 28197}},\n",
       "       u'total': {u'docs': {u'count': 7},\n",
       "        u'indexing': {u'index_time_in_millis': 150,\n",
       "         u'index_total': 7,\n",
       "         u'is_throttled': False,\n",
       "         u'throttle_time_in_millis': 0},\n",
       "        u'search': {u'query_time_in_millis': 0, u'query_total': 0},\n",
       "        u'store': {u'size_in_bytes': 28197}}}},\n",
       "     u'source_node': {u'attributes': {},\n",
       "      u'host': u'127.0.0.1',\n",
       "      u'ip': u'127.0.0.1',\n",
       "      u'name': u'Empath',\n",
       "      u'transport_address': u'127.0.0.1:9300',\n",
       "      u'uuid': u'QGgCpy5rQTKSwV7nUtwE2w'},\n",
       "     u'timestamp': u'2016-10-20T09:35:34.959Z'},\n",
       "    u'_type': u'indices_stats'},\n",
       "   {u'_id': u'AVfhch5E09KZ5fwZ_NPY',\n",
       "    u'_index': u'.marvel-es-1-2016.10.20',\n",
       "    u'_score': 1.0,\n",
       "    u'_source': {u'cluster_stats': {u'indices': {u'count': 2,\n",
       "       u'docs': {u'count': 7},\n",
       "       u'shards': {u'index': {u'replication': {u'min': 0.0}}, u'total': 2},\n",
       "       u'store': {u'size_in_bytes': 28197}},\n",
       "      u'nodes': {u'count': {u'total': 1},\n",
       "       u'fs': {u'available_in_bytes': 213469007872,\n",
       "        u'free_in_bytes': 213731151872,\n",
       "        u'total_in_bytes': 798345134080},\n",
       "       u'jvm': {u'max_uptime_in_millis': 24133,\n",
       "        u'mem': {u'heap_max_in_bytes': 1037959168,\n",
       "         u'heap_used_in_bytes': 64256568}},\n",
       "       u'versions': [u'2.4.1']}},\n",
       "     u'cluster_uuid': u'qkSNHqQ6QMqEo9fljsFQzQ',\n",
       "     u'source_node': {u'attributes': {},\n",
       "      u'host': u'127.0.0.1',\n",
       "      u'ip': u'127.0.0.1',\n",
       "      u'name': u'Empath',\n",
       "      u'transport_address': u'127.0.0.1:9300',\n",
       "      u'uuid': u'QGgCpy5rQTKSwV7nUtwE2w'},\n",
       "     u'timestamp': u'2016-10-20T09:35:34.963Z'},\n",
       "    u'_type': u'cluster_stats'}],\n",
       "  u'max_score': 1.0,\n",
       "  u'total': 103},\n",
       " u'timed_out': False,\n",
       " u'took': 4}"
      ]
     },
     "execution_count": 22,
     "metadata": {},
     "output_type": "execute_result"
    }
   ],
   "source": [
    "import sys\n",
    "import json\n",
    "from elasticsearch import Elasticsearch\n",
    "\n",
    "HOST = 'http://localhost:9200/'\n",
    "es = Elasticsearch(hosts=[HOST])\n",
    "\n",
    "query={\n",
    "  \"query\": {\n",
    "    \"match_all\": {}\n",
    "  }\n",
    "}\n",
    "\n",
    "es.search(body=query)"
   ]
  },
  {
   "cell_type": "code",
   "execution_count": 23,
   "metadata": {
    "collapsed": false
   },
   "outputs": [
    {
     "data": {
      "text/plain": [
       "{u'_shards': {u'failed': 0, u'successful': 2, u'total': 2}, u'count': 135}"
      ]
     },
     "execution_count": 23,
     "metadata": {},
     "output_type": "execute_result"
    }
   ],
   "source": [
    "# The example from https://www.elastic.co/guide/en/elasticsearch/guide/current/_talking_to_elasticsearch.html\n",
    "es.count(body=query)"
   ]
  },
  {
   "cell_type": "markdown",
   "metadata": {},
   "source": [
    "# Putting information in the DB\n",
    "\n",
    "* We follow <https://www.elastic.co/guide/en/elasticsearch/guide/current/_indexing_employee_documents.html>\n",
    "\n",
    "* Notice that the path /megacorp/employee/1 contains three pieces of information:\n",
    "    * megacorp: The index name\n",
    "    * employee: The type name\n",
    "    * 1 : The ID of this particular employee\n",
    "    \n",
    "* We use the `es.index` method "
   ]
  },
  {
   "cell_type": "code",
   "execution_count": 24,
   "metadata": {
    "collapsed": false
   },
   "outputs": [
    {
     "data": {
      "text/plain": [
       "{u'_id': u'1',\n",
       " u'_index': u'megacorp',\n",
       " u'_shards': {u'failed': 0, u'successful': 1, u'total': 2},\n",
       " u'_type': u'employee',\n",
       " u'_version': 1,\n",
       " u'created': True}"
      ]
     },
     "execution_count": 24,
     "metadata": {},
     "output_type": "execute_result"
    }
   ],
   "source": [
    "employee1= {\n",
    "    \"first_name\" : \"John\",\n",
    "    \"last_name\" :  \"Smith\",\n",
    "    \"age\" :        25,\n",
    "    \"about\" :      \"I love to go rock climbing\",\n",
    "    \"interests\": [ \"sports\", \"music\" ]\n",
    "}\n",
    "\n",
    "es.index(index='megacorp', doc_type='employee', id=1, body=employee1)\n"
   ]
  },
  {
   "cell_type": "code",
   "execution_count": null,
   "metadata": {
    "collapsed": false
   },
   "outputs": [],
   "source": []
  },
  {
   "cell_type": "code",
   "execution_count": 28,
   "metadata": {
    "collapsed": false
   },
   "outputs": [
    {
     "name": "stdout",
     "output_type": "stream",
     "text": [
      "{u'_type': u'employee', u'_source': {u'interests': [u'sports', u'music'], u'age': 25, u'about': u'I love to go rock climbing', u'last_name': u'Smith', u'first_name': u'John'}, u'_index': u'megacorp', u'_version': 1, u'found': True, u'_id': u'1'}\n",
      "{u'interests': [u'sports', u'music'], u'age': 25, u'about': u'I love to go rock climbing', u'last_name': u'Smith', u'first_name': u'John'}\n"
     ]
    }
   ],
   "source": [
    "res = es.get(index='megacorp', doc_type='employee', id=1)\n",
    "print res\n",
    "print(res['_source'])"
   ]
  },
  {
   "cell_type": "code",
   "execution_count": 31,
   "metadata": {
    "collapsed": false
   },
   "outputs": [
    {
     "name": "stdout",
     "output_type": "stream",
     "text": [
      "{u'hits': {u'hits': [{u'_score': 1.0, u'_type': u'employee', u'_id': u'1', u'_source': {u'interests': [u'sports', u'music'], u'age': 25, u'about': u'I love to go rock climbing', u'last_name': u'Smith', u'first_name': u'John'}, u'_index': u'megacorp'}], u'total': 1, u'max_score': 1.0}, u'_shards': {u'successful': 5, u'failed': 0, u'total': 5}, u'took': 1, u'timed_out': False}\n",
      "Got 1 Hits:\n",
      "John Smith is  25 years old\n"
     ]
    }
   ],
   "source": [
    "es.indices.refresh(index=\"megacorp\")\n",
    "\n",
    "res = es.search(index=\"megacorp\", body={\"query\": {\"match_all\": {}}})\n",
    "print res\n",
    "print(\"Got %d Hits:\" % res['hits']['total'])\n",
    "for hit in res['hits']['hits']:\n",
    "    print(\"%(first_name)s %(last_name)s is  %(age)d years old\" % hit[\"_source\"])"
   ]
  },
  {
   "cell_type": "code",
   "execution_count": 32,
   "metadata": {
    "collapsed": false
   },
   "outputs": [
    {
     "data": {
      "text/plain": [
       "{u'_shards': {u'failed': 0, u'successful': 5, u'total': 5},\n",
       " u'hits': {u'hits': [{u'_id': u'1',\n",
       "    u'_index': u'megacorp',\n",
       "    u'_score': 0.30685282,\n",
       "    u'_source': {u'about': u'I love to go rock climbing',\n",
       "     u'age': 25,\n",
       "     u'first_name': u'John',\n",
       "     u'interests': [u'sports', u'music'],\n",
       "     u'last_name': u'Smith'},\n",
       "    u'_type': u'employee'}],\n",
       "  u'max_score': 0.30685282,\n",
       "  u'total': 1},\n",
       " u'timed_out': False,\n",
       " u'took': 114}"
      ]
     },
     "execution_count": 32,
     "metadata": {},
     "output_type": "execute_result"
    }
   ],
   "source": [
    "# Example from https://www.elastic.co/guide/en/elasticsearch/guide/current/_search_lite.html\n",
    "# GET /megacorp/employee/_search?q=last_name:Smith\n",
    "# View the query in sense to see the specific JSON way of writing it\n",
    "\n",
    "q= {\n",
    "  \"query\": {\n",
    "    \"match\": {\n",
    "      \"last_name\": \"smith\"\n",
    "    }\n",
    "  }\n",
    "}\n",
    "res = es.search(index=\"megacorp\", body=q)\n",
    "res"
   ]
  },
  {
   "cell_type": "code",
   "execution_count": 33,
   "metadata": {
    "collapsed": false
   },
   "outputs": [
    {
     "data": {
      "text/plain": [
       "[{u'_id': u'1',\n",
       "  u'_index': u'megacorp',\n",
       "  u'_score': 0.30685282,\n",
       "  u'_source': {u'about': u'I love to go rock climbing',\n",
       "   u'age': 25,\n",
       "   u'first_name': u'John',\n",
       "   u'interests': [u'sports', u'music'],\n",
       "   u'last_name': u'Smith'},\n",
       "  u'_type': u'employee'}]"
      ]
     },
     "execution_count": 33,
     "metadata": {},
     "output_type": "execute_result"
    }
   ],
   "source": [
    "# res is a dict\n",
    "res['hits']['hits']"
   ]
  },
  {
   "cell_type": "code",
   "execution_count": 34,
   "metadata": {
    "collapsed": false
   },
   "outputs": [
    {
     "data": {
      "text/plain": [
       "0.30685282"
      ]
     },
     "execution_count": 34,
     "metadata": {},
     "output_type": "execute_result"
    }
   ],
   "source": [
    "# score of first hit \n",
    "res['hits']['hits'][0]['_score']"
   ]
  },
  {
   "cell_type": "markdown",
   "metadata": {},
   "source": [
    "# Bulk indexing\n",
    "\n",
    "If you index a lot of documents you need to use the bulk index methods.\n",
    "\n",
    "See \n",
    "* <https://www.elastic.co/guide/en/elasticsearch/guide/current/bulk.html> for the explanation in the guide\n",
    "* <http://unroutable.blogspot.nl/2015/03/quick-example-elasticsearch-bulk-index.html> for the Python way"
   ]
  },
  {
   "cell_type": "code",
   "execution_count": 97,
   "metadata": {
    "collapsed": false
   },
   "outputs": [
    {
     "data": {
      "text/plain": [
       "{'_index': 'test2', '_type': 'foo', 'letters': 'AB'}"
      ]
     },
     "execution_count": 97,
     "metadata": {},
     "output_type": "execute_result"
    }
   ],
   "source": [
    ">>> import itertools\n",
    ">>> import string\n",
    ">>> from elasticsearch import  helpers\n",
    " \n",
    ">>> # k is a generator expression that produces\n",
    "... # a series of dictionaries containing test data.\n",
    "... # The test data are just letter permutations\n",
    "... # created with itertools.permutations.\n",
    "... #\n",
    "... # We then reference k as the iterator that's\n",
    "... # consumed by the elasticsearch.helpers.bulk method.\n",
    ">>> k = ({'_type':'foo', '_index':'test2','letters':''.join(letters)}\n",
    "...      for letters in itertools.permutations(string.letters,2))\n",
    "\n",
    ">>> # calling k.next() shows examples\n",
    "... # (while consuming the generator, of course)\n",
    ">>> # each dict contains a doc type, index, and data (at minimum)\n",
    ">>> k.next()"
   ]
  },
  {
   "cell_type": "code",
   "execution_count": 38,
   "metadata": {
    "collapsed": false
   },
   "outputs": [
    {
     "data": {
      "text/plain": [
       "(6497400,\n",
       " [('A', 'B', 'C', 'D'),\n",
       "  ('A', 'B', 'C', 'E'),\n",
       "  ('A', 'B', 'C', 'F'),\n",
       "  ('A', 'B', 'C', 'G'),\n",
       "  ('A', 'B', 'C', 'H')])"
      ]
     },
     "execution_count": 38,
     "metadata": {},
     "output_type": "execute_result"
    }
   ],
   "source": [
    "# What is this k generator?\n",
    "\n",
    "letters=  [letters for letters in itertools.permutations(string.letters,4)]\n",
    "\n",
    "len(letters),letters[:5]"
   ]
  },
  {
   "cell_type": "code",
   "execution_count": 39,
   "metadata": {
    "collapsed": false
   },
   "outputs": [
    {
     "data": {
      "text/plain": [
       "{'_index': 'test2', '_type': 'foo', 'letters': 'AC'}"
      ]
     },
     "execution_count": 39,
     "metadata": {},
     "output_type": "execute_result"
    }
   ],
   "source": [
    "k.next()"
   ]
  },
  {
   "cell_type": "code",
   "execution_count": 40,
   "metadata": {
    "collapsed": false
   },
   "outputs": [
    {
     "data": {
      "text/plain": [
       "{u'acknowledged': True}"
      ]
     },
     "execution_count": 40,
     "metadata": {},
     "output_type": "execute_result"
    }
   ],
   "source": [
    ">>> # create our test index\n",
    ">>> es.indices.create('test2')"
   ]
  },
  {
   "cell_type": "code",
   "execution_count": 41,
   "metadata": {
    "collapsed": false
   },
   "outputs": [
    {
     "data": {
      "text/plain": [
       "(2650, [])"
      ]
     },
     "execution_count": 41,
     "metadata": {},
     "output_type": "execute_result"
    }
   ],
   "source": [
    "\n",
    ">>> helpers.bulk(es,k)"
   ]
  },
  {
   "cell_type": "code",
   "execution_count": 66,
   "metadata": {
    "collapsed": false
   },
   "outputs": [
    {
     "name": "stdout",
     "output_type": "stream",
     "text": [
      "health status index                   pri rep docs.count docs.deleted store.size pri.store.size \r\n",
      "yellow open   megacorp                  5   1          1            0      4.7kb          4.7kb \r\n",
      "yellow open   test2                     5   1       2650            0    107.7kb        107.7kb \r\n",
      "yellow open   .marvel-es-data-1         1   1          2            0        4kb            4kb \r\n",
      "yellow open   .marvel-es-1-2016.10.20   1   1       1447           24    452.1kb        452.1kb \r\n"
     ]
    }
   ],
   "source": [
    "!curl 'localhost:9200/_cat/indices?v'\n",
    "# res = es.search(body={\"query\":{ 'match_all':{}}})\n",
    "# for i in res:\n",
    "#     print i \n",
    "#     for j in res[i]:\n",
    "#         print '-',j\n",
    "#         for k in res[i][j]:\n",
    "#             for l in k:\n",
    "#                 print '--', l\n",
    "#                 print k[l]"
   ]
  },
  {
   "cell_type": "code",
   "execution_count": 100,
   "metadata": {
    "collapsed": false
   },
   "outputs": [
    {
     "data": {
      "text/plain": [
       "{u'_shards': {u'failed': 0, u'successful': 5, u'total': 5}, u'count': 2650}"
      ]
     },
     "execution_count": 100,
     "metadata": {},
     "output_type": "execute_result"
    }
   ],
   "source": [
    ">>> # check to make sure we got what we expected...\n",
    ">>> es.count(index='test2')"
   ]
  },
  {
   "cell_type": "markdown",
   "metadata": {},
   "source": [
    "# Your turn\n",
    "* Make quite a bit more documents by changing the 2 in the definition of k to 3, or 4...\n",
    "* index them again and query, and notice performance\n",
    "* find out how you can delete an index ;-)"
   ]
  },
  {
   "cell_type": "markdown",
   "metadata": {},
   "source": [
    "To start the Elastic searh serive, please run the following code in commandline:\n",
    "\n",
    "    ./elasticsearch-2.4.1/bin/elasticsearch --node.name telegraaf"
   ]
  },
  {
   "cell_type": "code",
   "execution_count": null,
   "metadata": {
    "collapsed": true
   },
   "outputs": [],
   "source": [
    "# Here are some curl commands to check stuff about the elasticsearch service"
   ]
  },
  {
   "cell_type": "code",
   "execution_count": 69,
   "metadata": {
    "collapsed": false
   },
   "outputs": [
    {
     "name": "stdout",
     "output_type": "stream",
     "text": [
      "epoch      timestamp cluster       status node.total node.data shards pri relo init unassign pending_tasks max_task_wait_time active_shards_percent \r\n",
      "1476957913 12:05:13  elasticsearch yellow          1         1     12  12    0    0       12             0                  -                 50.0% \r\n"
     ]
    }
   ],
   "source": [
    "# Cluster Health\n",
    "! curl 'localhost:9200/_cat/health?v'"
   ]
  },
  {
   "cell_type": "code",
   "execution_count": 71,
   "metadata": {
    "collapsed": false
   },
   "outputs": [
    {
     "name": "stdout",
     "output_type": "stream",
     "text": [
      "host      ip        heap.percent ram.percent load node.role master name      \r\n",
      "127.0.0.1 127.0.0.1            4         100 2.22 d         *      telegraaf \r\n"
     ]
    }
   ],
   "source": [
    "# List of nodes and their name\n",
    "! curl 'localhost:9200/_cat/nodes?v'"
   ]
  },
  {
   "cell_type": "code",
   "execution_count": 96,
   "metadata": {
    "collapsed": false
   },
   "outputs": [
    {
     "name": "stdout",
     "output_type": "stream",
     "text": [
      "health status index                   pri rep docs.count docs.deleted store.size pri.store.size \r\n",
      "yellow open   .marvel-es-data-1         1   1          2            0        4kb            4kb \r\n",
      "yellow open   test2                     5   1       2650            0    107.7kb        107.7kb \r\n",
      "yellow open   .marvel-es-1-2016.10.20   1   1        136            0    185.8kb        185.8kb \r\n"
     ]
    }
   ],
   "source": [
    "# List of all indices\n",
    "! curl 'localhost:9200/_cat/indices?v'"
   ]
  },
  {
   "cell_type": "code",
   "execution_count": 86,
   "metadata": {
    "collapsed": false
   },
   "outputs": [
    {
     "data": {
      "text/plain": [
       "{u'acknowledged': True}"
      ]
     },
     "execution_count": 86,
     "metadata": {},
     "output_type": "execute_result"
    }
   ],
   "source": [
    "# Creating a new index:\n",
    "# ignore 400 cause by IndexAlreadyExistsException when creating an index\n",
    "es.indices.create(index='test-index', ignore=400)"
   ]
  },
  {
   "cell_type": "code",
   "execution_count": 94,
   "metadata": {
    "collapsed": false
   },
   "outputs": [
    {
     "data": {
      "text/plain": [
       "{u'acknowledged': True}"
      ]
     },
     "execution_count": 94,
     "metadata": {},
     "output_type": "execute_result"
    }
   ],
   "source": [
    "# Delete index:\n",
    "# ignore 404 and 400\n",
    "es.indices.delete(index='test-index', ignore=[400, 404])"
   ]
  },
  {
   "cell_type": "code",
   "execution_count": 98,
   "metadata": {
    "collapsed": false
   },
   "outputs": [
    {
     "name": "stdout",
     "output_type": "stream",
     "text": [
      "<generator object <genexpr> at 0x10685aaf0>\n"
     ]
    }
   ],
   "source": [
    "# Import bulk data:\n",
    "k = ({'_type':'foo', '_index':'test2','letters':''.join(letters)} for letters in itertools.permutations(string.letters,2))\n",
    "helpers.bulk(es,k)"
   ]
  },
  {
   "cell_type": "code",
   "execution_count": null,
   "metadata": {
    "collapsed": true
   },
   "outputs": [],
   "source": [
    "# Create an index\n",
    "es.index(index='megacorp', doc_type='employee', id=1, body=employee1)"
   ]
  },
  {
   "cell_type": "code",
   "execution_count": null,
   "metadata": {
    "collapsed": true
   },
   "outputs": [],
   "source": [
    "# Count the number of items in an index\n",
    "es.count(index='test2')"
   ]
  },
  {
   "cell_type": "code",
   "execution_count": 47,
   "metadata": {
    "collapsed": false
   },
   "outputs": [
    {
     "name": "stdout",
     "output_type": "stream",
     "text": [
      "0.000593900680542\n",
      "0.0020489692688\n"
     ]
    }
   ],
   "source": [
    "import time\n",
    "\n",
    "import json, xmljson\n",
    "from lxml.etree import fromstring, tostring\n",
    "\n",
    "\n",
    "\n",
    "start = time.time()\n",
    "xml = fromstring(open('Telegraaf/mini.xml','r').read())\n",
    "xml_done = time.time()\n",
    "print xml_done - start\n",
    "\n",
    "json_data = json.loads(json.dumps(xmljson.parker.data(xml)))\n",
    "json_done = time.time()\n",
    "print json_done - xml_done"
   ]
  },
  {
   "cell_type": "code",
   "execution_count": 54,
   "metadata": {
    "collapsed": false
   },
   "outputs": [
    {
     "name": "stdout",
     "output_type": "stream",
     "text": [
      "{u'{http://www.politicalmashup.nl}meta': {u'{http://purl.org/dc/elements/1.1/}subject': u'advertentie', u'{http://purl.org/dc/elements/1.1/}date': u'1918-04-02', u'{http://purl.org/dc/elements/1.1/}identifier': u'ddd:011211202:mpeg21:p001:a0001', u'{http://purl.org/dc/elements/1.1/}source': {u'{http://purl.org/dc/elements/1.1/}source': {u'{http://www.politicalmashup.nl}link': None}}}, u'{http://www.politicalmashup.nl}docinfo': None, u'{http://www.politicalmashup.nl}content': {u'text': {u'p': u'I;L * .-\\u25a0\\u2022\\u25a0 -.\"\\u25a0 4,1 ffii \\' \\'\\u2022\\'\\u2022^*V*t \\'S ~fr\\u2022-\\'K\\'j\\',-^; r \\u25a0&*!* ff\\' r- AMSTERDAM. v: >\\u2022\\u2022 . C-. _.:\\u2022\\u2022\\'\\u2022 \\u2022 - .:-\\'.v- - -\\u2022\\u2022 ;-V->- \\'t-\\'-\\'S- .\\u25a0\\u2022\\u25a0 V \\u25a0\\u25a0:\\u25a0 \\u2022 -\\'\\u25a0 \\\\v^,> > *_. . \\u2022\\u2022 | - \\' \\'\\u25a0- --\\u2022-f \\\\- .\\xbb\\'-\\'\\u25a0 v*-\\': \\u2022 \\u2022+**\\u2022\\u25a0\\u25a0*\\'\\u25a0;\\u25a0- ;---\" *\\u2022 \\u2022 \\u2022\\'.\\u2022 \\u2022\\xbb,.. ** .\\u25a0 i\\'i \\'/ \\u2022 \\u2022\\u2022 SSC :\\'\\u25a0 I/- v.A-.C\\xbb* vVrv\\'*Xj<?\\'\\xbb\\'L\\u2022 i;1\\' V?/ \\'r+*~rfi- \\u25a0*;:\\' fl , \",r *;1 \",\\' :,. ,\\':* \\'\\' \" \\' * \"\\'\\' \\'\\xc8djZ;|TCLEFOON INTERCOMMUNAAL LETTE* |\\xa7'}, u'title': None}}\n",
      "{u'{http://www.politicalmashup.nl}meta': {u'{http://purl.org/dc/elements/1.1/}subject': u'advertentie', u'{http://purl.org/dc/elements/1.1/}date': u'1918-04-02', u'{http://purl.org/dc/elements/1.1/}identifier': u'ddd:011211202:mpeg21:p001:a0002', u'{http://purl.org/dc/elements/1.1/}source': {u'{http://purl.org/dc/elements/1.1/}source': {u'{http://www.politicalmashup.nl}link': None}}}, u'{http://www.politicalmashup.nl}docinfo': None, u'{http://www.politicalmashup.nl}content': {u'text': {u'p': u'koffiehuis i-,2 \\u2022 \\'\\u25a0:> \" H\\xab4\\xabn-2 April, >\\' 6avuld< \\' . W^S\\xd6NO\\xc9\\xcf)EBgEIt: &***j2er.osserib,komkommersalade ww\\xc9S^\\xd6\\xd6M; t.Heden: Hollandaebe Hutspot T iNederlandsche flunt. BoJHbcu meeat gevilde 10 oent Sigaar. C \\u2022.\\u2022\\xab\\u2022.\" \\u2022 i -v. \\u2022\\' \\u2022\\u2022\\u2022 - \\'T'}, u'title': None}}\n",
      "{u'{http://www.politicalmashup.nl}meta': {u'{http://purl.org/dc/elements/1.1/}subject': u'advertentie', u'{http://purl.org/dc/elements/1.1/}date': u'1918-04-02', u'{http://purl.org/dc/elements/1.1/}identifier': u'ddd:011211202:mpeg21:p001:a0003', u'{http://purl.org/dc/elements/1.1/}source': {u'{http://purl.org/dc/elements/1.1/}source': {u'{http://www.politicalmashup.nl}link': None}}}, u'{http://www.politicalmashup.nl}docinfo': None, u'{http://www.politicalmashup.nl}content': {u'text': {u'p': u'-J^^DIRECTTE-EN-ADMINISTRATIEiS^St , \\xbbt- \\u25a0\\u25a0\\u25a0\\' \\xbbj \\u25a0 yy~ -\\'*\" *** \\'\" \"\\u2022*\\u2022*\\'\\' \"\\'* *\"-\\u0192 ,-y _. \\u25a0-\\'\\u25a0\\u2022|x r.;\\' -\\'.* -Xr*%\"r:^-2 _45.Z~ \\'*fl-\\'\\' \"\" firn- I\"i> % i\\',+T >\\u25a0 \\u2022 .\\u2022\"\\u25a0\\'.\\xa3\\u2022 \\'\\' \\'\\u25a0\"\\'*\"*~r\\'\\'k\\'\":\" ~ \\'*y-V\\'-\\xbb-. 7* -* \\xa3 *\\u2014\\u2022\\' -1-<*- -\\'1 , r * \\\\ .\\' VAN HET ABOWWEMPfT. ,\\u25a0 . . \\u25a0\\u25a0 Wj , \" * ~ j \\u2022 , Vtrho\\xab|dmct7B cenu~oorioptooUg;ea S cent\\xbb :J:i\\' \\u2022/\\u2022 \\u2022-.;.;.^7'}, u'title': None}}\n"
     ]
    }
   ],
   "source": [
    "# i = 0\n",
    "\n",
    "# for root in json_data:\n",
    "#     for document in json_data[root]:\n",
    "#         if json_data[root][document]:\n",
    "#             for j, ding in enumerate(json_data[root][document]):\n",
    "#                 i += 1\n",
    "#                 print(json_data[root][document][j])\n",
    "#                 print i\n",
    "\n",
    "for root in json_data:\n",
    "    for i, document in enumerate(json_data[root]):\n",
    "        print json_data[root][i]"
   ]
  },
  {
   "cell_type": "code",
   "execution_count": null,
   "metadata": {
    "collapsed": true
   },
   "outputs": [],
   "source": []
  }
 ],
 "metadata": {
  "anaconda-cloud": {},
  "kernelspec": {
   "display_name": "Python [NLTK]",
   "language": "python",
   "name": "Python [NLTK]"
  },
  "language_info": {
   "codemirror_mode": {
    "name": "ipython",
    "version": 2
   },
   "file_extension": ".py",
   "mimetype": "text/x-python",
   "name": "python",
   "nbconvert_exporter": "python",
   "pygments_lexer": "ipython2",
   "version": "2.7.12"
  }
 },
 "nbformat": 4,
 "nbformat_minor": 0
}
