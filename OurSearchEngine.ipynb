{
 "cells": [
  {
   "cell_type": "markdown",
   "metadata": {
    "slideshow": {
     "slide_type": "slide"
    }
   },
   "source": [
    "# ElasticSearch\n",
    "\n",
    "In this notebook we have created a search engine using ElasticSearch. \n",
    "\n",
    "For our own reference:\n",
    "* Literature: <https://www.elastic.co/guide/en/elasticsearch/guide/current/index.html>\n",
    "* Telegraaf XML documents: http://data.politicalmashup.nl/arjan/telegraaf/\n",
    "\n"
   ]
  },
  {
   "cell_type": "markdown",
   "metadata": {},
   "source": [
    "Create a search engine for the telegraaf newspaper collection using eg ElasticSearch. Make facets for years and document types. Pay attention to telephone numbers (in mini advertisements). Hieronder een voorbeeld van 1 document (= 1 artikeltje).\n",
    "Je ziet dat er zelfs een link naar de bron tekst (als plaatje) instaat. De URL linked door naar de nieuwe url http://www.delpher.nl/nl/kranten/view?identifier=ddd%3A010563762%3Ampeg21%3Aa0005&coll=ddd ElasticSearch gebruikt een JSON formaat als invoer, en dit is dus triviaal om te zetten naar JSON."
   ]
  },
  {
   "cell_type": "markdown",
   "metadata": {},
   "source": [
    "Create a search engine for the telegraaf newspaper collection using eg ElasticSearch. Make facets for years and document types. Pay attention to telephone numbers (in mini advertisements). Hieronder een voorbeeld van 1 document (= 1 artikeltje).\n",
    "Je ziet dat er zelfs een link naar de bron tekst (als plaatje) instaat. De URL linked door naar de nieuwe url http://www.delpher.nl/nl/kranten/view?identifier=ddd%3A010563762%3Ampeg21%3Aa0005&coll=ddd ElasticSearch gebruikt een JSON formaat als invoer, en dit is dus triviaal om te zetten naar JSON.\n",
    "\n",
    "Each of the following points must be addressed. Create a seperate page on the wiki for each point. Make sure these pages can be found from the menu of your wiki. Explain what you did, and exemplify with links to screenshots/a working system.\n",
    "\n",
    "* Search as we know it from Google. Give a result page (SERP), with links to the documents and some description of each hit.\n",
    "* Advanced search. Let a user be able to search in several fields, also in several fields simulteanously. Queries like \"return kamervragen by Wilders about XXX with an answer about YYY in the period ZZZ\" should be possible. (For the \"Telegraaf\" collectie, let the user search in both title and tekst fields)\n",
    "* Do one of the following:\n",
    "    1. Represent the hits of a query with a wordcloud of 25-50 informative words. The wordcloud should somehow summarise what the collection has to say about the query. You may think of these words as words that you could add to the query in order to improve recall (blind relevance feedback/query expansion).\n",
    "    2. Represent each document (a kamervraag) with a word-cloud. Also make word-clouds for the question and for the answer. EXAMPLE: The html files in http://data.politicalmashup.nl/arjan/odeii/data_as_html/ contain such wordcloud summaries, which work rather well.   \n",
    "\n",
    "You can use several techniques to get rid of high frequency, but meaningless words: of course IDF, but also mutual information (see 13.5.1), or of course the technique from the paper by Kaptein et al on wordclouds.\n",
    "\n",
    "* Give next to a traditional list of results, a timeline in which you indicate how many hits there are over time.\n",
    "* Give next to the traditional list of results, a table with the number of hits for each political party. Link the party names, which should result in only selecting the hits \"ingediend\" by members of that party. (Faceted Search) (For the \"Telegraaf\" collectie, use the dc:subject element as facet values.)\n",
    "* Evaluate your results Let 2 persons assess the relevancy of the top 10 documents for 5 different queries. Compute Cohen's kappa. Determine the average precision at 10 for your system based on these 10 queries, and the two relevance assesments. Also plot the P@10 (for both judges) for each query, showing differences in hard and easy queries. Describe clearly how you solved differences in judgements. \n",
    "Create your queries in the following format:\n",
    "\n",
    "                    <topic number=\"6\"  >\n",
    "          <query>kcs</query>\n",
    "          <description>Find information on the Kansas City Southern railroad.\n",
    "          </description>\n",
    "           \n",
    "        </topic>\n",
    "\n",
    "        <topic number=\"16\"  >\n",
    "          <query>arizona game and fish</query>\n",
    "          <description>I'm looking for information about fishing and hunting\n",
    "          in Arizona.\n",
    "          </description>\n",
    "           \n",
    "        </topic>\n",
    "                \n",
    "\n",
    "So, both provide the actual query, and a description of the information need that was behind the query.\n",
    "Give a small set of clear guidelines for judging the results, and let your judges follow these guidelines.\n",
    "It is far more interesting to have difficult queries (both for the search engine and for the judges) than to have queries on which all ten retrieved documents are relevant. So, try to create a good list of information needs.\n",
    "\n",
    "* Change the ranking of your system, compute the average precision at 10 using your 10 queries, compare the results to your old system, and EXPLAIN what is going on.\n"
   ]
  },
  {
   "cell_type": "markdown",
   "metadata": {},
   "source": [
    "# The Search Engine\n",
    "\n",
    "To start the Elastic searh serive, please run the following code in commandline:\n",
    "\n",
    "    ./elasticsearch-2.4.1/bin/elasticsearch --node.name telegraaf"
   ]
  },
  {
   "cell_type": "markdown",
   "metadata": {},
   "source": [
    "## Initiate connection to the Elastic Search engine"
   ]
  },
  {
   "cell_type": "code",
   "execution_count": 101,
   "metadata": {
    "collapsed": true
   },
   "outputs": [],
   "source": [
    "import sys\n",
    "import json\n",
    "from elasticsearch import Elasticsearch, helpers\n",
    "\n",
    "HOST = 'http://localhost:9200/'\n",
    "es = Elasticsearch(hosts=[HOST])\n",
    "\n",
    "# If code runs, the connection is made"
   ]
  },
  {
   "cell_type": "markdown",
   "metadata": {},
   "source": [
    "## Generator to read Telegraaf XML and add them to the ES database\n",
    "\n",
    "A generator makes it possible to immediately put the XML files/documents into the ES databse\n",
    "\n",
    "* Remove high frequency, but meaningless words\n",
    "\n",
    "You can use several techniques to get rid of high frequency, but meaningless words: of course IDF, but also mutual information (see 13.5.1), or of course the technique from the paper by Kaptein et al on wordclouds.\n",
    "\n",
    "    Possibly also create an inverted index at this point? "
   ]
  },
  {
   "cell_type": "code",
   "execution_count": 359,
   "metadata": {
    "collapsed": false
   },
   "outputs": [],
   "source": [
    "from bs4 import BeautifulSoup\n",
    "import sys\n",
    "\n",
    "def read(year):\n",
    "    '''\n",
    "    return a generator for the date, subject(type), title, and text for each item in the given year. \n",
    "    '''\n",
    "    # Possibly we want to open the files online? This will take up less space on our computers\n",
    "    \n",
    "    s = BeautifulSoup(open(year, 'r'),\"xml\")\n",
    "    # This is possibly a little bit too crude. Maybe first find the root? That will be slightly less efficient.\n",
    "    for date,subject, title, text in zip(s.find_all('date'), s.find_all('subject'), s.find_all('title'), s.find_all('text')):\n",
    "            yield (date.text,subject.text,title.text,text.text)\n",
    "\n",
    "documents = ['Telegraaf/telegraaf-1923.xml']\n",
    "# Create the generator for the bulk importer\n",
    "# I'm not sure if it's a good idea to use _type here as a subject (which is artcle or advertisement, or more...)\n",
    "# The score calculation for the Elastic Search database uses whole-index statistics. \n",
    "# If you're searching a subsection this will alter the scores! WE WILL NEED TO KEEP THIS IN MIND.\n",
    "k = ({'_type':subject, '_index':'telegraaf','year':date[:4], 'date':date[5:], 'title':title, 'text':text} \n",
    "    for year in documents for (date,subject,title,text) in read(year))\n"
   ]
  },
  {
   "cell_type": "markdown",
   "metadata": {},
   "source": [
    "You can skip the section below. It was a try out for fully online data import into our local database, but it is very slow due to the internet connection."
   ]
  },
  {
   "cell_type": "code",
   "execution_count": null,
   "metadata": {
    "collapsed": true
   },
   "outputs": [],
   "source": [
    "# Try out to read the Gzipped files from online and input them into the database without downloading them.\n",
    "# However, the server responds very slowly. Thus, the requests take a long time. \n",
    "# Furthermore, all the documents have to be decoded on the fly, which takes up a lot of memory\n",
    "import requests\n",
    "from StringIO import StringIO\n",
    "import gzip\n",
    "from urllib import urlopen\n",
    "\n",
    "def get_zips(main_url):\n",
    "    html = BeautifulSoup(requests.get(main_url).text,'html')\n",
    "    return [link.get('href') for link in html.find_all('a',href=True) if 'telegraaf' in link.get('href')]\n",
    "    \n",
    "def open_zip(main_url, url):\n",
    "    zipfile = gzip.GzipFile(fileobj=StringIO(urlopen(main_url+url).read()))\n",
    "    \n",
    "    print zipfile.read()[:100].encode('utf-8')\n",
    "    \n",
    "main_url = 'http://data.politicalmashup.nl/arjan/telegraaf/'\n",
    "zips = get_zips(main_url)\n",
    "\n",
    "print zips[0][:-3]\n",
    "print open_zip(main_url,zips[0])\n"
   ]
  },
  {
   "cell_type": "markdown",
   "metadata": {},
   "source": [
    "## Populate ES database"
   ]
  },
  {
   "cell_type": "code",
   "execution_count": 386,
   "metadata": {
    "collapsed": false
   },
   "outputs": [
    {
     "name": "stdout",
     "output_type": "stream",
     "text": [
      "health status index                   pri rep docs.count docs.deleted store.size pri.store.size \r\n",
      "yellow open   .marvel-es-data-1         1   1          2            0      4.1kb          4.1kb \r\n",
      "yellow open   telegraaf                 5   1        228            0    369.4kb        369.4kb \r\n",
      "yellow open   .marvel-es-1-2016.10.20   1   1       8025           98      2.6mb          2.6mb \r\n"
     ]
    }
   ],
   "source": [
    "# List of all indices\n",
    "! curl 'localhost:9200/_cat/indices?v'"
   ]
  },
  {
   "cell_type": "code",
   "execution_count": 358,
   "metadata": {
    "collapsed": false
   },
   "outputs": [
    {
     "data": {
      "text/plain": [
       "{u'acknowledged': True}"
      ]
     },
     "execution_count": 358,
     "metadata": {},
     "output_type": "execute_result"
    }
   ],
   "source": [
    "# Create the telegraaf index in our telegraaf node\n",
    "es.indices.create(index='telegraaf', ignore=400)"
   ]
  },
  {
   "cell_type": "code",
   "execution_count": 360,
   "metadata": {
    "collapsed": false
   },
   "outputs": [
    {
     "data": {
      "text/plain": [
       "(228, [])"
      ]
     },
     "execution_count": 360,
     "metadata": {},
     "output_type": "execute_result"
    }
   ],
   "source": [
    "# Import the information into the database\n",
    "# The generator can only be used once. So this code will only work once. \n",
    "helpers.bulk(es,k)"
   ]
  },
  {
   "cell_type": "markdown",
   "metadata": {},
   "source": [
    "## Query system \n",
    "\n",
    "* Normalise query\n",
    "* Get right tokens from the query. Use patterns to split up the query in parts? \n",
    "* Put them in the right representation for ES search"
   ]
  },
  {
   "cell_type": "code",
   "execution_count": 438,
   "metadata": {
    "collapsed": false
   },
   "outputs": [],
   "source": [
    "def search(query, advanced=False):\n",
    "    '''\n",
    "    Given a query it returns a SERP with rakings based on the score\n",
    "    '''\n",
    "    if advanced:\n",
    "        print \"Advanced search not yet implemented.\"\n",
    "        print \"please wait till further notice! ;)\"\n",
    "    else:\n",
    "        # filter_path can help reduce the amount of data that is returned by the es.search\n",
    "        # The query context is for how well the document fits the query\n",
    "        # The filter context is a boolean context. Does it match or not.\n",
    "        # example: Does this timestamp fall into the range 2015 to 2016?\n",
    "        #\n",
    "        \n",
    "        # The outer 'query': is necessary to show that this is the query.  \n",
    "        q = {'query':\n",
    "                {'multi_match':\n",
    "                    {'query' : query,\n",
    "                     'type' : 'cross_fields',  # with 'and' operator \n",
    "                     'fields' : ['title', 'text'],\n",
    "                     'operator' : 'and'\n",
    "                     }\n",
    "                 }\n",
    "             }\n",
    "        # In other words, all terms must be present in at least one field for a document to match.\n",
    "        \n",
    "        # Very simple query search of a single word:\n",
    "#         q = {'query':\n",
    "#                  {'match':\n",
    "#                   {'title': 'stoomschip'}\n",
    "#                  }\n",
    "#             }\n",
    "        # size shows the top number of results\n",
    "        res = es.search(index='telegraaf', size=10, body=q)\n",
    "        print res\n",
    "    "
   ]
  },
  {
   "cell_type": "code",
   "execution_count": 439,
   "metadata": {
    "collapsed": false
   },
   "outputs": [
    {
     "name": "stdout",
     "output_type": "stream",
     "text": [
      "{u'hits': {u'hits': [{u'_score': 1.2368431, u'_type': u'artikel', u'_id': u'AVfio6_4YswG1S9go2MY', u'_source': {u'date': u'03-01', u'text': u't', u'year': u'1923', u'title': u'HEVIGE STORM AAN DE ENGELSCHE KUST. Een stoomschip door de hemanning verlaten.'}, u'_index': u'telegraaf'}], u'total': 1, u'max_score': 1.2368431}, u'_shards': {u'successful': 5, u'failed': 0, u'total': 5}, u'took': 2, u'timed_out': False}\n"
     ]
    }
   ],
   "source": [
    "search('stoomschip engelsche')"
   ]
  },
  {
   "cell_type": "markdown",
   "metadata": {},
   "source": [
    "## Result page function\n",
    "\n",
    "* Take query output and use score to order result on a Search Engine Result Page (SERP).\n",
    "* Return title, link, and description of each hit\n",
    "\n",
    "-> The description can be a word cloud of 20-25 most informative words. Represent the hits of a query with a wordcloud of 25-50 informative words. The wordcloud should somehow summarise what the collection has to say about the query. You may think of these words as words that you could add to the query in order to improve recall (blind relevance feedback/query expansion). \n",
    "\n",
    "\n",
    "Additions\n",
    "* A timeline with the amount of hits over time\n",
    "* A table with the number of hits for each political party. Link the party names, which should result in only selecting the hits \"ingediend\" by members of that party. (Faceted Search) (For the \"Telegraaf\" collectie, use the dc:subject element as facet values.)"
   ]
  },
  {
   "cell_type": "code",
   "execution_count": null,
   "metadata": {
    "collapsed": true
   },
   "outputs": [],
   "source": []
  },
  {
   "cell_type": "markdown",
   "metadata": {},
   "source": [
    "## Advanced Search\n",
    "\n",
    "The query system will have to be changed to implement this\n",
    "\n",
    "* Make multiple fields searchable:\n",
    "    * Title \n",
    "    * Tekst\n",
    "    * Year?\n",
    "    \n",
    "Let a user be able to search in several fields, also in several fields simulteanously. Queries like \"return kamervragen by Wilders about XXX with an answer about YYY in the period ZZZ\" should be possible. (For the \"Telegraaf\" collectie, let the user search in both title and tekst fields)"
   ]
  },
  {
   "cell_type": "code",
   "execution_count": null,
   "metadata": {
    "collapsed": true
   },
   "outputs": [],
   "source": []
  },
  {
   "cell_type": "markdown",
   "metadata": {},
   "source": [
    "## Result page function\n",
    "\n",
    "* Take query output and use score to order result on a Search Engine Result Page (SERP).\n",
    "* Return title, link, and description of each hit"
   ]
  },
  {
   "cell_type": "code",
   "execution_count": null,
   "metadata": {
    "collapsed": true
   },
   "outputs": [],
   "source": []
  },
  {
   "cell_type": "markdown",
   "metadata": {},
   "source": [
    "## Evaluation\n",
    "\n",
    "* Manual relevance check\n",
    "* P@10\n",
    "* Change the ranking of the system + explain what is going on and why it is improving/decreasing\n",
    "\n",
    "Evaluate your results Let 2 persons assess the relevancy of the top 10 documents for 5 different queries. Compute Cohen's kappa. Determine the average precision at 10 for your system based on these 10 queries, and the two relevance assesments. Also plot the P@10 (for both judges) for each query, showing differences in hard and easy queries. Describe clearly how you solved differences in judgements. \n",
    "So, both provide the actual query, and a description of the information need that was behind the query.\n",
    "Give a small set of clear guidelines for judging the results, and let your judges follow these guidelines.\n",
    "It is far more interesting to have difficult queries (both for the search engine and for the judges) than to have queries on which all ten retrieved documents are relevant. So, try to create a good list of information needs.\n"
   ]
  },
  {
   "cell_type": "code",
   "execution_count": null,
   "metadata": {
    "collapsed": true
   },
   "outputs": [],
   "source": []
  },
  {
   "cell_type": "markdown",
   "metadata": {},
   "source": [
    "# REFERENCE CODE:\n",
    "\n",
    "* Now just follow the guide and learn\n",
    "* Instead of using the sense plugin or curl, you can talk to elastic search using the python API"
   ]
  },
  {
   "cell_type": "code",
   "execution_count": null,
   "metadata": {
    "collapsed": true
   },
   "outputs": [],
   "source": [
    "# Here are some curl commands to check stuff about the elasticsearch service\n",
    "# These can be rewritten to python code. -> Check the documentation at ElasticSearch for them. "
   ]
  },
  {
   "cell_type": "code",
   "execution_count": 182,
   "metadata": {
    "collapsed": false,
    "scrolled": false
   },
   "outputs": [
    {
     "name": "stdout",
     "output_type": "stream",
     "text": [
      "epoch      timestamp cluster       status node.total node.data shards pri relo init unassign pending_tasks max_task_wait_time active_shards_percent \r\n",
      "1476967177 14:39:37  elasticsearch yellow          1         1      7   7    0    0        7             0                  -                 50.0% \r\n"
     ]
    }
   ],
   "source": [
    "# Cluster Health\n",
    "! curl 'localhost:9200/_cat/health?v'"
   ]
  },
  {
   "cell_type": "code",
   "execution_count": 183,
   "metadata": {
    "collapsed": false
   },
   "outputs": [
    {
     "name": "stdout",
     "output_type": "stream",
     "text": [
      "host      ip        heap.percent ram.percent load node.role master name      \r\n",
      "127.0.0.1 127.0.0.1            8         100 1.46 d         *      telegraaf \r\n"
     ]
    }
   ],
   "source": [
    "# List of nodes and their name\n",
    "! curl 'localhost:9200/_cat/nodes?v'"
   ]
  },
  {
   "cell_type": "code",
   "execution_count": 189,
   "metadata": {
    "collapsed": false
   },
   "outputs": [
    {
     "name": "stdout",
     "output_type": "stream",
     "text": [
      "health status index                   pri rep docs.count docs.deleted store.size pri.store.size \r\n",
      "yellow open   .marvel-es-data-1         1   1          2            0        4kb            4kb \r\n",
      "yellow open   .marvel-es-1-2016.10.20   1   1        201           22    300.1kb        300.1kb \r\n"
     ]
    }
   ],
   "source": [
    "# List of all indices\n",
    "! curl 'localhost:9200/_cat/indices?v'"
   ]
  },
  {
   "cell_type": "code",
   "execution_count": 168,
   "metadata": {
    "collapsed": false
   },
   "outputs": [
    {
     "data": {
      "text/plain": [
       "{u'acknowledged': True}"
      ]
     },
     "execution_count": 168,
     "metadata": {},
     "output_type": "execute_result"
    }
   ],
   "source": [
    "# Creating a new index:\n",
    "# ignore 400 cause by IndexAlreadyExistsException when creating an index\n",
    "es.indices.create(index='test-index', ignore=400)"
   ]
  },
  {
   "cell_type": "code",
   "execution_count": 188,
   "metadata": {
    "collapsed": false
   },
   "outputs": [
    {
     "data": {
      "text/plain": [
       "{u'acknowledged': True}"
      ]
     },
     "execution_count": 188,
     "metadata": {},
     "output_type": "execute_result"
    }
   ],
   "source": [
    "# Delete index:\n",
    "# ignore 404 and 400\n",
    "es.indices.delete(index='telegraaf', ignore=[400, 404])"
   ]
  },
  {
   "cell_type": "code",
   "execution_count": 98,
   "metadata": {
    "collapsed": false
   },
   "outputs": [
    {
     "name": "stdout",
     "output_type": "stream",
     "text": [
      "<generator object <genexpr> at 0x10685aaf0>\n"
     ]
    }
   ],
   "source": [
    "# Import bulk data:\n",
    "k = ({'_type':'foo', '_index':'test2','letters':''.join(letters)} for letters in itertools.permutations(string.letters,2))\n",
    "helpers.bulk(es,k)"
   ]
  },
  {
   "cell_type": "code",
   "execution_count": null,
   "metadata": {
    "collapsed": true
   },
   "outputs": [],
   "source": [
    "# Create an index\n",
    "es.index(index='megacorp', doc_type='employee', id=1, body=employee1)"
   ]
  },
  {
   "cell_type": "code",
   "execution_count": null,
   "metadata": {
    "collapsed": true
   },
   "outputs": [],
   "source": [
    "# Count the number of items in an index\n",
    "es.count(index='test2')"
   ]
  },
  {
   "cell_type": "code",
   "execution_count": 106,
   "metadata": {
    "collapsed": false
   },
   "outputs": [
    {
     "ename": "ImportError",
     "evalue": "No module named xmltodict",
     "output_type": "error",
     "traceback": [
      "\u001b[0;31m---------------------------------------------------------------------------\u001b[0m",
      "\u001b[0;31mImportError\u001b[0m                               Traceback (most recent call last)",
      "\u001b[0;32m<ipython-input-106-fdcdcabaf2a4>\u001b[0m in \u001b[0;36m<module>\u001b[0;34m()\u001b[0m\n\u001b[1;32m      5\u001b[0m \u001b[0;32mfrom\u001b[0m \u001b[0melasticsearch\u001b[0m \u001b[0;32mimport\u001b[0m \u001b[0mElasticsearch\u001b[0m\u001b[0;34m,\u001b[0m \u001b[0mhelpers\u001b[0m\u001b[0;34m\u001b[0m\u001b[0m\n\u001b[1;32m      6\u001b[0m \u001b[0;32mfrom\u001b[0m \u001b[0mbs4\u001b[0m \u001b[0;32mimport\u001b[0m \u001b[0mBeautifulSoup\u001b[0m\u001b[0;34m\u001b[0m\u001b[0m\n\u001b[0;32m----> 7\u001b[0;31m \u001b[0;32mimport\u001b[0m \u001b[0mxmltodict\u001b[0m\u001b[0;34m\u001b[0m\u001b[0m\n\u001b[0m\u001b[1;32m      8\u001b[0m \u001b[0;34m\u001b[0m\u001b[0m\n\u001b[1;32m      9\u001b[0m \u001b[0mHOST\u001b[0m \u001b[0;34m=\u001b[0m \u001b[0;34m'http://localhost:9200/'\u001b[0m\u001b[0;34m\u001b[0m\u001b[0m\n",
      "\u001b[0;31mImportError\u001b[0m: No module named xmltodict"
     ]
    }
   ],
   "source": [
    "# Verna's read doc\n",
    "import sys\n",
    "import time\n",
    "import json\n",
    "from elasticsearch import Elasticsearch, helpers\n",
    "from bs4 import BeautifulSoup\n",
    "import xmltodict\n",
    "\n",
    "HOST = 'http://localhost:9200/'\n",
    "es = Elasticsearch(hosts=[HOST])\n",
    "\n",
    "xml = BeautifulSoup(open('Telegraaf/telegraaf-1994.xml', 'r'),\"xml\")\n",
    "\n",
    "start = time.time()\n",
    "documents = xml.find_all('root')\n",
    "\n",
    "json_docs = []\n",
    "\n",
    "for i, doc in enumerate(documents):\n",
    "    doc_type = doc.subject.get_text()\n",
    "    year = doc.date.get_text()[:4]\n",
    "    document_dict = dict()\n",
    "    document_dict['body'] = xmltodict.parse(str(doc), xml_attribs=True)\n",
    "    document_dict['doc_type'] = doc_type\n",
    "    document_dict['year'] = year\n",
    "    json_docs.append(json.loads(json.dumps(document_dict, indent=4)))\n",
    "    #es.index(index='telegraaf', doc_type='document', id=i, body=json_doc)\n",
    "    \n",
    "k = ({'_type':'document', '_index':'telegraaf','_source':doc}\n",
    "    for doc in json_docs)"
   ]
  },
  {
   "cell_type": "markdown",
   "metadata": {},
   "source": [
    "# Using the Python elastic search api\n",
    "\n",
    "* Documentation: <https://elasticsearch-py.readthedocs.org/en/master/>"
   ]
  },
  {
   "cell_type": "code",
   "execution_count": 22,
   "metadata": {
    "collapsed": false,
    "scrolled": true
   },
   "outputs": [
    {
     "data": {
      "text/plain": [
       "{u'_shards': {u'failed': 0, u'successful': 2, u'total': 2},\n",
       " u'hits': {u'hits': [{u'_id': u'AVfhc1hy09KZ5fwZ_NQX',\n",
       "    u'_index': u'.marvel-es-1-2016.10.20',\n",
       "    u'_score': 1.0,\n",
       "    u'_source': {u'cluster_uuid': u'qkSNHqQ6QMqEo9fljsFQzQ',\n",
       "     u'indices_stats': {u'_all': {u'primaries': {u'docs': {u'count': 79},\n",
       "        u'indexing': {u'index_time_in_millis': 366,\n",
       "         u'index_total': 119,\n",
       "         u'is_throttled': False,\n",
       "         u'throttle_time_in_millis': 0},\n",
       "        u'search': {u'query_time_in_millis': 10, u'query_total': 2},\n",
       "        u'store': {u'size_in_bytes': 390749}},\n",
       "       u'total': {u'docs': {u'count': 79},\n",
       "        u'indexing': {u'index_time_in_millis': 366,\n",
       "         u'index_total': 119,\n",
       "         u'is_throttled': False,\n",
       "         u'throttle_time_in_millis': 0},\n",
       "        u'search': {u'query_time_in_millis': 10, u'query_total': 2},\n",
       "        u'store': {u'size_in_bytes': 390749}}}},\n",
       "     u'source_node': {u'attributes': {},\n",
       "      u'host': u'127.0.0.1',\n",
       "      u'ip': u'127.0.0.1',\n",
       "      u'name': u'Empath',\n",
       "      u'transport_address': u'127.0.0.1:9300',\n",
       "      u'uuid': u'QGgCpy5rQTKSwV7nUtwE2w'},\n",
       "     u'timestamp': u'2016-10-20T09:36:55.399Z'},\n",
       "    u'_type': u'indices_stats'},\n",
       "   {u'_id': u'AVfhc1hy09KZ5fwZ_NQY',\n",
       "    u'_index': u'.marvel-es-1-2016.10.20',\n",
       "    u'_score': 1.0,\n",
       "    u'_source': {u'cluster_stats': {u'indices': {u'count': 2,\n",
       "       u'docs': {u'count': 79},\n",
       "       u'shards': {u'index': {u'replication': {u'min': 0.0}}, u'total': 2},\n",
       "       u'store': {u'size_in_bytes': 390749}},\n",
       "      u'nodes': {u'count': {u'total': 1},\n",
       "       u'fs': {u'available_in_bytes': 213468364800,\n",
       "        u'free_in_bytes': 213730508800,\n",
       "        u'total_in_bytes': 798345134080},\n",
       "       u'jvm': {u'max_uptime_in_millis': 104573,\n",
       "        u'mem': {u'heap_max_in_bytes': 1037959168,\n",
       "         u'heap_used_in_bytes': 41157224}},\n",
       "       u'versions': [u'2.4.1']}},\n",
       "     u'cluster_uuid': u'qkSNHqQ6QMqEo9fljsFQzQ',\n",
       "     u'source_node': {u'attributes': {},\n",
       "      u'host': u'127.0.0.1',\n",
       "      u'ip': u'127.0.0.1',\n",
       "      u'name': u'Empath',\n",
       "      u'transport_address': u'127.0.0.1:9300',\n",
       "      u'uuid': u'QGgCpy5rQTKSwV7nUtwE2w'},\n",
       "     u'timestamp': u'2016-10-20T09:36:55.401Z'},\n",
       "    u'_type': u'cluster_stats'},\n",
       "   {u'_id': u'AVfhc1hy09KZ5fwZ_NQZ',\n",
       "    u'_index': u'.marvel-es-1-2016.10.20',\n",
       "    u'_score': 1.0,\n",
       "    u'_source': {u'cluster_uuid': u'qkSNHqQ6QMqEo9fljsFQzQ',\n",
       "     u'index_recovery': {u'shards': [{u'id': 0,\n",
       "        u'index': {u'files': {u'percent': u'0.0%',\n",
       "          u'recovered': 0,\n",
       "          u'reused': 0,\n",
       "          u'total': 0},\n",
       "         u'size': {u'percent': u'0.0%',\n",
       "          u'recovered_in_bytes': 0,\n",
       "          u'reused_in_bytes': 0,\n",
       "          u'total_in_bytes': 0},\n",
       "         u'source_throttle_time_in_millis': 0,\n",
       "         u'target_throttle_time_in_millis': 0,\n",
       "         u'total_time_in_millis': 3},\n",
       "        u'index_name': u'.marvel-es-data-1',\n",
       "        u'primary': True,\n",
       "        u'source': {u'host': u'127.0.0.1',\n",
       "         u'id': u'QGgCpy5rQTKSwV7nUtwE2w',\n",
       "         u'ip': u'127.0.0.1',\n",
       "         u'name': u'Empath',\n",
       "         u'transport_address': u'127.0.0.1:9300'},\n",
       "        u'stage': u'DONE',\n",
       "        u'start_time_in_millis': 1476956124656,\n",
       "        u'stop_time_in_millis': 1476956124797,\n",
       "        u'target': {u'host': u'127.0.0.1',\n",
       "         u'id': u'QGgCpy5rQTKSwV7nUtwE2w',\n",
       "         u'ip': u'127.0.0.1',\n",
       "         u'name': u'Empath',\n",
       "         u'transport_address': u'127.0.0.1:9300'},\n",
       "        u'total_time_in_millis': 140,\n",
       "        u'translog': {u'percent': u'100.0%',\n",
       "         u'recovered': 0,\n",
       "         u'total': 0,\n",
       "         u'total_on_start': 0,\n",
       "         u'total_time_in_millis': 134},\n",
       "        u'type': u'STORE',\n",
       "        u'verify_index': {u'check_index_time_in_millis': 0,\n",
       "         u'total_time_in_millis': 0}},\n",
       "       {u'id': 0,\n",
       "        u'index': {u'files': {u'percent': u'0.0%',\n",
       "          u'recovered': 0,\n",
       "          u'reused': 0,\n",
       "          u'total': 0},\n",
       "         u'size': {u'percent': u'0.0%',\n",
       "          u'recovered_in_bytes': 0,\n",
       "          u'reused_in_bytes': 0,\n",
       "          u'total_in_bytes': 0},\n",
       "         u'source_throttle_time_in_millis': 0,\n",
       "         u'target_throttle_time_in_millis': 0,\n",
       "         u'total_time_in_millis': 0},\n",
       "        u'index_name': u'.marvel-es-1-2016.10.20',\n",
       "        u'primary': True,\n",
       "        u'source': {u'host': u'127.0.0.1',\n",
       "         u'id': u'QGgCpy5rQTKSwV7nUtwE2w',\n",
       "         u'ip': u'127.0.0.1',\n",
       "         u'name': u'Empath',\n",
       "         u'transport_address': u'127.0.0.1:9300'},\n",
       "        u'stage': u'DONE',\n",
       "        u'start_time_in_millis': 1476956124808,\n",
       "        u'stop_time_in_millis': 1476956124819,\n",
       "        u'target': {u'host': u'127.0.0.1',\n",
       "         u'id': u'QGgCpy5rQTKSwV7nUtwE2w',\n",
       "         u'ip': u'127.0.0.1',\n",
       "         u'name': u'Empath',\n",
       "         u'transport_address': u'127.0.0.1:9300'},\n",
       "        u'total_time_in_millis': 11,\n",
       "        u'translog': {u'percent': u'100.0%',\n",
       "         u'recovered': 0,\n",
       "         u'total': 0,\n",
       "         u'total_on_start': 0,\n",
       "         u'total_time_in_millis': 10},\n",
       "        u'type': u'STORE',\n",
       "        u'verify_index': {u'check_index_time_in_millis': 0,\n",
       "         u'total_time_in_millis': 0}}]},\n",
       "     u'source_node': {u'attributes': {},\n",
       "      u'host': u'127.0.0.1',\n",
       "      u'ip': u'127.0.0.1',\n",
       "      u'name': u'Empath',\n",
       "      u'transport_address': u'127.0.0.1:9300',\n",
       "      u'uuid': u'QGgCpy5rQTKSwV7nUtwE2w'},\n",
       "     u'timestamp': u'2016-10-20T09:36:55.402Z'},\n",
       "    u'_type': u'index_recovery'},\n",
       "   {u'_id': u'AVfhc1hy09KZ5fwZ_NQa',\n",
       "    u'_index': u'.marvel-es-1-2016.10.20',\n",
       "    u'_score': 1.0,\n",
       "    u'_source': {u'cluster_state': {u'master_node': u'QGgCpy5rQTKSwV7nUtwE2w',\n",
       "      u'nodes': {u'QGgCpy5rQTKSwV7nUtwE2w': {u'attributes': {},\n",
       "        u'name': u'Empath',\n",
       "        u'transport_address': u'127.0.0.1:9300'}},\n",
       "      u'state_uuid': u'gsKt2ZDWRhCbI3vLt4cO4g',\n",
       "      u'status': u'yellow',\n",
       "      u'version': 13},\n",
       "     u'cluster_uuid': u'qkSNHqQ6QMqEo9fljsFQzQ',\n",
       "     u'source_node': {u'attributes': {},\n",
       "      u'host': u'127.0.0.1',\n",
       "      u'ip': u'127.0.0.1',\n",
       "      u'name': u'Empath',\n",
       "      u'transport_address': u'127.0.0.1:9300',\n",
       "      u'uuid': u'QGgCpy5rQTKSwV7nUtwE2w'},\n",
       "     u'timestamp': u'2016-10-20T09:36:55.403Z'},\n",
       "    u'_type': u'cluster_state'},\n",
       "   {u'_id': u'AVfhc1hy09KZ5fwZ_NQb',\n",
       "    u'_index': u'.marvel-es-1-2016.10.20',\n",
       "    u'_score': 1.0,\n",
       "    u'_source': {u'cluster_uuid': u'qkSNHqQ6QMqEo9fljsFQzQ',\n",
       "     u'node': {u'id': u'QGgCpy5rQTKSwV7nUtwE2w'},\n",
       "     u'source_node': {u'attributes': {},\n",
       "      u'host': u'127.0.0.1',\n",
       "      u'ip': u'127.0.0.1',\n",
       "      u'name': u'Empath',\n",
       "      u'transport_address': u'127.0.0.1:9300',\n",
       "      u'uuid': u'QGgCpy5rQTKSwV7nUtwE2w'},\n",
       "     u'state_uuid': u'gsKt2ZDWRhCbI3vLt4cO4g',\n",
       "     u'timestamp': u'2016-10-20T09:36:55.403Z'},\n",
       "    u'_type': u'node'},\n",
       "   {u'_id': u'AVfhc1hy09KZ5fwZ_NQc',\n",
       "    u'_index': u'.marvel-es-1-2016.10.20',\n",
       "    u'_score': 1.0,\n",
       "    u'_source': {u'cluster_uuid': u'qkSNHqQ6QMqEo9fljsFQzQ',\n",
       "     u'node_stats': {u'disk_threshold_enabled': True,\n",
       "      u'disk_threshold_watermark_high': 90.0,\n",
       "      u'fs': {u'total': {u'available_in_bytes': 213468364800,\n",
       "        u'free_in_bytes': 213730508800,\n",
       "        u'total_in_bytes': 798345134080}},\n",
       "      u'indices': {u'docs': {u'count': 79},\n",
       "       u'indexing': {u'index_time_in_millis': 366,\n",
       "        u'index_total': 119,\n",
       "        u'throttle_time_in_millis': 0},\n",
       "       u'search': {u'query_time_in_millis': 10, u'query_total': 2},\n",
       "       u'segments': {u'count': 10},\n",
       "       u'store': {u'size_in_bytes': 390749, u'throttle_time_in_millis': 0}},\n",
       "      u'jvm': {u'gc': {u'collectors': {u'old': {u'collection_count': 1,\n",
       "          u'collection_time_in_millis': 15},\n",
       "         u'young': {u'collection_count': 9,\n",
       "          u'collection_time_in_millis': 102}}},\n",
       "       u'mem': {u'heap_used_in_bytes': 41157224, u'heap_used_percent': 3}},\n",
       "      u'mlockall': False,\n",
       "      u'node_id': u'QGgCpy5rQTKSwV7nUtwE2w',\n",
       "      u'node_master': True,\n",
       "      u'os': {u'load_average': 2.10888671875},\n",
       "      u'process': {u'cpu': {u'percent': 0},\n",
       "       u'max_file_descriptors': 10240,\n",
       "       u'open_file_descriptors': 257},\n",
       "      u'thread_pool': {u'bulk': {u'rejected': 0},\n",
       "       u'index': {u'rejected': 0},\n",
       "       u'search': {u'rejected': 0}}},\n",
       "     u'source_node': {u'attributes': {},\n",
       "      u'host': u'127.0.0.1',\n",
       "      u'ip': u'127.0.0.1',\n",
       "      u'name': u'Empath',\n",
       "      u'transport_address': u'127.0.0.1:9300',\n",
       "      u'uuid': u'QGgCpy5rQTKSwV7nUtwE2w'},\n",
       "     u'timestamp': u'2016-10-20T09:36:55.406Z'},\n",
       "    u'_type': u'node_stats'},\n",
       "   {u'_id': u'AVfhc1hy09KZ5fwZ_NQd',\n",
       "    u'_index': u'.marvel-es-1-2016.10.20',\n",
       "    u'_score': 1.0,\n",
       "    u'_source': {u'cluster_uuid': u'qkSNHqQ6QMqEo9fljsFQzQ',\n",
       "     u'index_stats': {u'index': u'.marvel-es-data-1',\n",
       "      u'primaries': {u'docs': {u'count': 2},\n",
       "       u'fielddata': {u'memory_size_in_bytes': 0},\n",
       "       u'indexing': {u'index_time_in_millis': 111,\n",
       "        u'index_total': 18,\n",
       "        u'throttle_time_in_millis': 0},\n",
       "       u'merges': {u'total_size_in_bytes': 0},\n",
       "       u'refresh': {u'total_time_in_millis': 406},\n",
       "       u'search': {u'query_time_in_millis': 5, u'query_total': 1},\n",
       "       u'segments': {u'memory_in_bytes': 1399},\n",
       "       u'store': {u'size_in_bytes': 4176, u'throttle_time_in_millis': 0}},\n",
       "      u'total': {u'docs': {u'count': 2},\n",
       "       u'fielddata': {u'memory_size_in_bytes': 0},\n",
       "       u'indexing': {u'index_time_in_millis': 111,\n",
       "        u'index_total': 18,\n",
       "        u'throttle_time_in_millis': 0},\n",
       "       u'merges': {u'total_size_in_bytes': 0},\n",
       "       u'refresh': {u'total_time_in_millis': 406},\n",
       "       u'search': {u'query_time_in_millis': 5, u'query_total': 1},\n",
       "       u'segments': {u'memory_in_bytes': 1399},\n",
       "       u'store': {u'size_in_bytes': 4176, u'throttle_time_in_millis': 0}}},\n",
       "     u'source_node': {u'attributes': {},\n",
       "      u'host': u'127.0.0.1',\n",
       "      u'ip': u'127.0.0.1',\n",
       "      u'name': u'Empath',\n",
       "      u'transport_address': u'127.0.0.1:9300',\n",
       "      u'uuid': u'QGgCpy5rQTKSwV7nUtwE2w'},\n",
       "     u'timestamp': u'2016-10-20T09:36:55.408Z'},\n",
       "    u'_type': u'index_stats'},\n",
       "   {u'_id': u'AVfhc1hy09KZ5fwZ_NQe',\n",
       "    u'_index': u'.marvel-es-1-2016.10.20',\n",
       "    u'_score': 1.0,\n",
       "    u'_source': {u'cluster_uuid': u'qkSNHqQ6QMqEo9fljsFQzQ',\n",
       "     u'index_stats': {u'index': u'.marvel-es-1-2016.10.20',\n",
       "      u'primaries': {u'docs': {u'count': 77},\n",
       "       u'fielddata': {u'memory_size_in_bytes': 0},\n",
       "       u'indexing': {u'index_time_in_millis': 255,\n",
       "        u'index_total': 101,\n",
       "        u'throttle_time_in_millis': 0},\n",
       "       u'merges': {u'total_size_in_bytes': 0},\n",
       "       u'refresh': {u'total_time_in_millis': 464},\n",
       "       u'search': {u'query_time_in_millis': 5, u'query_total': 1},\n",
       "       u'segments': {u'memory_in_bytes': 230982},\n",
       "       u'store': {u'size_in_bytes': 386573, u'throttle_time_in_millis': 0}},\n",
       "      u'total': {u'docs': {u'count': 77},\n",
       "       u'fielddata': {u'memory_size_in_bytes': 0},\n",
       "       u'indexing': {u'index_time_in_millis': 255,\n",
       "        u'index_total': 101,\n",
       "        u'throttle_time_in_millis': 0},\n",
       "       u'merges': {u'total_size_in_bytes': 0},\n",
       "       u'refresh': {u'total_time_in_millis': 464},\n",
       "       u'search': {u'query_time_in_millis': 5, u'query_total': 1},\n",
       "       u'segments': {u'memory_in_bytes': 230982},\n",
       "       u'store': {u'size_in_bytes': 386573, u'throttle_time_in_millis': 0}}},\n",
       "     u'source_node': {u'attributes': {},\n",
       "      u'host': u'127.0.0.1',\n",
       "      u'ip': u'127.0.0.1',\n",
       "      u'name': u'Empath',\n",
       "      u'transport_address': u'127.0.0.1:9300',\n",
       "      u'uuid': u'QGgCpy5rQTKSwV7nUtwE2w'},\n",
       "     u'timestamp': u'2016-10-20T09:36:55.408Z'},\n",
       "    u'_type': u'index_stats'},\n",
       "   {u'_id': u'AVfhch5E09KZ5fwZ_NPX',\n",
       "    u'_index': u'.marvel-es-1-2016.10.20',\n",
       "    u'_score': 1.0,\n",
       "    u'_source': {u'cluster_uuid': u'qkSNHqQ6QMqEo9fljsFQzQ',\n",
       "     u'indices_stats': {u'_all': {u'primaries': {u'docs': {u'count': 7},\n",
       "        u'indexing': {u'index_time_in_millis': 150,\n",
       "         u'index_total': 7,\n",
       "         u'is_throttled': False,\n",
       "         u'throttle_time_in_millis': 0},\n",
       "        u'search': {u'query_time_in_millis': 0, u'query_total': 0},\n",
       "        u'store': {u'size_in_bytes': 28197}},\n",
       "       u'total': {u'docs': {u'count': 7},\n",
       "        u'indexing': {u'index_time_in_millis': 150,\n",
       "         u'index_total': 7,\n",
       "         u'is_throttled': False,\n",
       "         u'throttle_time_in_millis': 0},\n",
       "        u'search': {u'query_time_in_millis': 0, u'query_total': 0},\n",
       "        u'store': {u'size_in_bytes': 28197}}}},\n",
       "     u'source_node': {u'attributes': {},\n",
       "      u'host': u'127.0.0.1',\n",
       "      u'ip': u'127.0.0.1',\n",
       "      u'name': u'Empath',\n",
       "      u'transport_address': u'127.0.0.1:9300',\n",
       "      u'uuid': u'QGgCpy5rQTKSwV7nUtwE2w'},\n",
       "     u'timestamp': u'2016-10-20T09:35:34.959Z'},\n",
       "    u'_type': u'indices_stats'},\n",
       "   {u'_id': u'AVfhch5E09KZ5fwZ_NPY',\n",
       "    u'_index': u'.marvel-es-1-2016.10.20',\n",
       "    u'_score': 1.0,\n",
       "    u'_source': {u'cluster_stats': {u'indices': {u'count': 2,\n",
       "       u'docs': {u'count': 7},\n",
       "       u'shards': {u'index': {u'replication': {u'min': 0.0}}, u'total': 2},\n",
       "       u'store': {u'size_in_bytes': 28197}},\n",
       "      u'nodes': {u'count': {u'total': 1},\n",
       "       u'fs': {u'available_in_bytes': 213469007872,\n",
       "        u'free_in_bytes': 213731151872,\n",
       "        u'total_in_bytes': 798345134080},\n",
       "       u'jvm': {u'max_uptime_in_millis': 24133,\n",
       "        u'mem': {u'heap_max_in_bytes': 1037959168,\n",
       "         u'heap_used_in_bytes': 64256568}},\n",
       "       u'versions': [u'2.4.1']}},\n",
       "     u'cluster_uuid': u'qkSNHqQ6QMqEo9fljsFQzQ',\n",
       "     u'source_node': {u'attributes': {},\n",
       "      u'host': u'127.0.0.1',\n",
       "      u'ip': u'127.0.0.1',\n",
       "      u'name': u'Empath',\n",
       "      u'transport_address': u'127.0.0.1:9300',\n",
       "      u'uuid': u'QGgCpy5rQTKSwV7nUtwE2w'},\n",
       "     u'timestamp': u'2016-10-20T09:35:34.963Z'},\n",
       "    u'_type': u'cluster_stats'}],\n",
       "  u'max_score': 1.0,\n",
       "  u'total': 103},\n",
       " u'timed_out': False,\n",
       " u'took': 4}"
      ]
     },
     "execution_count": 22,
     "metadata": {},
     "output_type": "execute_result"
    }
   ],
   "source": [
    "import sys\n",
    "import json\n",
    "from elasticsearch import Elasticsearch\n",
    "\n",
    "HOST = 'http://localhost:9200/'\n",
    "es = Elasticsearch(hosts=[HOST])\n",
    "\n",
    "query={\n",
    "  \"query\": {\n",
    "    \"match_all\": {}\n",
    "  }\n",
    "}\n",
    "\n",
    "es.search(body=query)"
   ]
  },
  {
   "cell_type": "code",
   "execution_count": 23,
   "metadata": {
    "collapsed": false
   },
   "outputs": [
    {
     "data": {
      "text/plain": [
       "{u'_shards': {u'failed': 0, u'successful': 2, u'total': 2}, u'count': 135}"
      ]
     },
     "execution_count": 23,
     "metadata": {},
     "output_type": "execute_result"
    }
   ],
   "source": [
    "# The example from https://www.elastic.co/guide/en/elasticsearch/guide/current/_talking_to_elasticsearch.html\n",
    "es.count(body=query)"
   ]
  },
  {
   "cell_type": "markdown",
   "metadata": {},
   "source": [
    "# Putting information in the DB\n",
    "\n",
    "* We follow <https://www.elastic.co/guide/en/elasticsearch/guide/current/_indexing_employee_documents.html>\n",
    "\n",
    "* Notice that the path /megacorp/employee/1 contains three pieces of information:\n",
    "    * megacorp: The index name\n",
    "    * employee: The type name\n",
    "    * 1 : The ID of this particular employee\n",
    "    \n",
    "* We use the `es.index` method "
   ]
  },
  {
   "cell_type": "code",
   "execution_count": 24,
   "metadata": {
    "collapsed": false
   },
   "outputs": [
    {
     "data": {
      "text/plain": [
       "{u'_id': u'1',\n",
       " u'_index': u'megacorp',\n",
       " u'_shards': {u'failed': 0, u'successful': 1, u'total': 2},\n",
       " u'_type': u'employee',\n",
       " u'_version': 1,\n",
       " u'created': True}"
      ]
     },
     "execution_count": 24,
     "metadata": {},
     "output_type": "execute_result"
    }
   ],
   "source": [
    "employee1= {\n",
    "    \"first_name\" : \"John\",\n",
    "    \"last_name\" :  \"Smith\",\n",
    "    \"age\" :        25,\n",
    "    \"about\" :      \"I love to go rock climbing\",\n",
    "    \"interests\": [ \"sports\", \"music\" ]\n",
    "}\n",
    "\n",
    "es.index(index='megacorp', doc_type='employee', id=1, body=employee1)\n"
   ]
  },
  {
   "cell_type": "code",
   "execution_count": null,
   "metadata": {
    "collapsed": false
   },
   "outputs": [],
   "source": []
  },
  {
   "cell_type": "code",
   "execution_count": 28,
   "metadata": {
    "collapsed": false
   },
   "outputs": [
    {
     "name": "stdout",
     "output_type": "stream",
     "text": [
      "{u'_type': u'employee', u'_source': {u'interests': [u'sports', u'music'], u'age': 25, u'about': u'I love to go rock climbing', u'last_name': u'Smith', u'first_name': u'John'}, u'_index': u'megacorp', u'_version': 1, u'found': True, u'_id': u'1'}\n",
      "{u'interests': [u'sports', u'music'], u'age': 25, u'about': u'I love to go rock climbing', u'last_name': u'Smith', u'first_name': u'John'}\n"
     ]
    }
   ],
   "source": [
    "res = es.get(index='megacorp', doc_type='employee', id=1)\n",
    "print res\n",
    "print(res['_source'])"
   ]
  },
  {
   "cell_type": "code",
   "execution_count": 31,
   "metadata": {
    "collapsed": false
   },
   "outputs": [
    {
     "name": "stdout",
     "output_type": "stream",
     "text": [
      "{u'hits': {u'hits': [{u'_score': 1.0, u'_type': u'employee', u'_id': u'1', u'_source': {u'interests': [u'sports', u'music'], u'age': 25, u'about': u'I love to go rock climbing', u'last_name': u'Smith', u'first_name': u'John'}, u'_index': u'megacorp'}], u'total': 1, u'max_score': 1.0}, u'_shards': {u'successful': 5, u'failed': 0, u'total': 5}, u'took': 1, u'timed_out': False}\n",
      "Got 1 Hits:\n",
      "John Smith is  25 years old\n"
     ]
    }
   ],
   "source": [
    "es.indices.refresh(index=\"megacorp\")\n",
    "\n",
    "res = es.search(index=\"megacorp\", body={\"query\": {\"match_all\": {}}})\n",
    "print res\n",
    "print(\"Got %d Hits:\" % res['hits']['total'])\n",
    "for hit in res['hits']['hits']:\n",
    "    print(\"%(first_name)s %(last_name)s is  %(age)d years old\" % hit[\"_source\"])"
   ]
  },
  {
   "cell_type": "code",
   "execution_count": 32,
   "metadata": {
    "collapsed": false
   },
   "outputs": [
    {
     "data": {
      "text/plain": [
       "{u'_shards': {u'failed': 0, u'successful': 5, u'total': 5},\n",
       " u'hits': {u'hits': [{u'_id': u'1',\n",
       "    u'_index': u'megacorp',\n",
       "    u'_score': 0.30685282,\n",
       "    u'_source': {u'about': u'I love to go rock climbing',\n",
       "     u'age': 25,\n",
       "     u'first_name': u'John',\n",
       "     u'interests': [u'sports', u'music'],\n",
       "     u'last_name': u'Smith'},\n",
       "    u'_type': u'employee'}],\n",
       "  u'max_score': 0.30685282,\n",
       "  u'total': 1},\n",
       " u'timed_out': False,\n",
       " u'took': 114}"
      ]
     },
     "execution_count": 32,
     "metadata": {},
     "output_type": "execute_result"
    }
   ],
   "source": [
    "# Example from https://www.elastic.co/guide/en/elasticsearch/guide/current/_search_lite.html\n",
    "# GET /megacorp/employee/_search?q=last_name:Smith\n",
    "# View the query in sense to see the specific JSON way of writing it\n",
    "\n",
    "q= {\n",
    "  \"query\": {\n",
    "    \"match\": {\n",
    "      \"last_name\": \"smith\"\n",
    "    }\n",
    "  }\n",
    "}\n",
    "res = es.search(index=\"megacorp\", body=q)\n",
    "res"
   ]
  },
  {
   "cell_type": "code",
   "execution_count": 33,
   "metadata": {
    "collapsed": false
   },
   "outputs": [
    {
     "data": {
      "text/plain": [
       "[{u'_id': u'1',\n",
       "  u'_index': u'megacorp',\n",
       "  u'_score': 0.30685282,\n",
       "  u'_source': {u'about': u'I love to go rock climbing',\n",
       "   u'age': 25,\n",
       "   u'first_name': u'John',\n",
       "   u'interests': [u'sports', u'music'],\n",
       "   u'last_name': u'Smith'},\n",
       "  u'_type': u'employee'}]"
      ]
     },
     "execution_count": 33,
     "metadata": {},
     "output_type": "execute_result"
    }
   ],
   "source": [
    "# res is a dict\n",
    "res['hits']['hits']"
   ]
  },
  {
   "cell_type": "code",
   "execution_count": 34,
   "metadata": {
    "collapsed": false
   },
   "outputs": [
    {
     "data": {
      "text/plain": [
       "0.30685282"
      ]
     },
     "execution_count": 34,
     "metadata": {},
     "output_type": "execute_result"
    }
   ],
   "source": [
    "# score of first hit \n",
    "res['hits']['hits'][0]['_score']"
   ]
  },
  {
   "cell_type": "markdown",
   "metadata": {},
   "source": [
    "# Bulk indexing\n",
    "\n",
    "If you index a lot of documents you need to use the bulk index methods.\n",
    "\n",
    "See \n",
    "* <https://www.elastic.co/guide/en/elasticsearch/guide/current/bulk.html> for the explanation in the guide\n",
    "* <http://unroutable.blogspot.nl/2015/03/quick-example-elasticsearch-bulk-index.html> for the Python way"
   ]
  },
  {
   "cell_type": "code",
   "execution_count": 97,
   "metadata": {
    "collapsed": false
   },
   "outputs": [
    {
     "data": {
      "text/plain": [
       "{'_index': 'test2', '_type': 'foo', 'letters': 'AB'}"
      ]
     },
     "execution_count": 97,
     "metadata": {},
     "output_type": "execute_result"
    }
   ],
   "source": [
    ">>> import itertools\n",
    ">>> import string\n",
    ">>> from elasticsearch import  helpers\n",
    " \n",
    ">>> # k is a generator expression that produces\n",
    "... # a series of dictionaries containing test data.\n",
    "... # The test data are just letter permutations\n",
    "... # created with itertools.permutations.\n",
    "... #\n",
    "... # We then reference k as the iterator that's\n",
    "... # consumed by the elasticsearch.helpers.bulk method.\n",
    ">>> k = ({'_type':'foo', '_index':'test2','letters':''.join(letters)}\n",
    "...      for letters in itertools.permutations(string.letters,2))\n",
    "\n",
    ">>> # calling k.next() shows examples\n",
    "... # (while consuming the generator, of course)\n",
    ">>> # each dict contains a doc type, index, and data (at minimum)\n",
    ">>> k.next()"
   ]
  },
  {
   "cell_type": "code",
   "execution_count": 38,
   "metadata": {
    "collapsed": false
   },
   "outputs": [
    {
     "data": {
      "text/plain": [
       "(6497400,\n",
       " [('A', 'B', 'C', 'D'),\n",
       "  ('A', 'B', 'C', 'E'),\n",
       "  ('A', 'B', 'C', 'F'),\n",
       "  ('A', 'B', 'C', 'G'),\n",
       "  ('A', 'B', 'C', 'H')])"
      ]
     },
     "execution_count": 38,
     "metadata": {},
     "output_type": "execute_result"
    }
   ],
   "source": [
    "# What is this k generator?\n",
    "\n",
    "letters=  [letters for letters in itertools.permutations(string.letters,4)]\n",
    "\n",
    "len(letters),letters[:5]"
   ]
  },
  {
   "cell_type": "code",
   "execution_count": 39,
   "metadata": {
    "collapsed": false
   },
   "outputs": [
    {
     "data": {
      "text/plain": [
       "{'_index': 'test2', '_type': 'foo', 'letters': 'AC'}"
      ]
     },
     "execution_count": 39,
     "metadata": {},
     "output_type": "execute_result"
    }
   ],
   "source": [
    "k.next()"
   ]
  },
  {
   "cell_type": "code",
   "execution_count": 40,
   "metadata": {
    "collapsed": false
   },
   "outputs": [
    {
     "data": {
      "text/plain": [
       "{u'acknowledged': True}"
      ]
     },
     "execution_count": 40,
     "metadata": {},
     "output_type": "execute_result"
    }
   ],
   "source": [
    ">>> # create our test index\n",
    ">>> es.indices.create('test2')"
   ]
  },
  {
   "cell_type": "code",
   "execution_count": 41,
   "metadata": {
    "collapsed": false
   },
   "outputs": [
    {
     "data": {
      "text/plain": [
       "(2650, [])"
      ]
     },
     "execution_count": 41,
     "metadata": {},
     "output_type": "execute_result"
    }
   ],
   "source": [
    "\n",
    ">>> helpers.bulk(es,k)"
   ]
  },
  {
   "cell_type": "code",
   "execution_count": 66,
   "metadata": {
    "collapsed": false
   },
   "outputs": [
    {
     "name": "stdout",
     "output_type": "stream",
     "text": [
      "health status index                   pri rep docs.count docs.deleted store.size pri.store.size \r\n",
      "yellow open   megacorp                  5   1          1            0      4.7kb          4.7kb \r\n",
      "yellow open   test2                     5   1       2650            0    107.7kb        107.7kb \r\n",
      "yellow open   .marvel-es-data-1         1   1          2            0        4kb            4kb \r\n",
      "yellow open   .marvel-es-1-2016.10.20   1   1       1447           24    452.1kb        452.1kb \r\n"
     ]
    }
   ],
   "source": [
    "!curl 'localhost:9200/_cat/indices?v'\n",
    "# res = es.search(body={\"query\":{ 'match_all':{}}})\n",
    "# for i in res:\n",
    "#     print i \n",
    "#     for j in res[i]:\n",
    "#         print '-',j\n",
    "#         for k in res[i][j]:\n",
    "#             for l in k:\n",
    "#                 print '--', l\n",
    "#                 print k[l]"
   ]
  },
  {
   "cell_type": "code",
   "execution_count": 100,
   "metadata": {
    "collapsed": false
   },
   "outputs": [
    {
     "data": {
      "text/plain": [
       "{u'_shards': {u'failed': 0, u'successful': 5, u'total': 5}, u'count': 2650}"
      ]
     },
     "execution_count": 100,
     "metadata": {},
     "output_type": "execute_result"
    }
   ],
   "source": [
    ">>> # check to make sure we got what we expected...\n",
    ">>> es.count(index='test2')"
   ]
  },
  {
   "cell_type": "markdown",
   "metadata": {},
   "source": [
    "# Your turn\n",
    "* Make quite a bit more documents by changing the 2 in the definition of k to 3, or 4...\n",
    "* index them again and query, and notice performance\n",
    "* find out how you can delete an index ;-)"
   ]
  },
  {
   "cell_type": "markdown",
   "metadata": {},
   "source": []
  },
  {
   "cell_type": "code",
   "execution_count": 47,
   "metadata": {
    "collapsed": false
   },
   "outputs": [
    {
     "name": "stdout",
     "output_type": "stream",
     "text": [
      "0.000593900680542\n",
      "0.0020489692688\n"
     ]
    }
   ],
   "source": [
    "import time\n",
    "\n",
    "import json, xmljson\n",
    "from lxml.etree import fromstring, tostring\n",
    "\n",
    "\n",
    "\n",
    "start = time.time()\n",
    "xml = fromstring(open('Telegraaf/mini.xml','r').read())\n",
    "xml_done = time.time()\n",
    "print xml_done - start\n",
    "\n",
    "json_data = json.loads(json.dumps(xmljson.parker.data(xml)))\n",
    "json_done = time.time()\n",
    "print json_done - xml_done"
   ]
  },
  {
   "cell_type": "code",
   "execution_count": 54,
   "metadata": {
    "collapsed": false
   },
   "outputs": [
    {
     "name": "stdout",
     "output_type": "stream",
     "text": [
      "{u'{http://www.politicalmashup.nl}meta': {u'{http://purl.org/dc/elements/1.1/}subject': u'advertentie', u'{http://purl.org/dc/elements/1.1/}date': u'1918-04-02', u'{http://purl.org/dc/elements/1.1/}identifier': u'ddd:011211202:mpeg21:p001:a0001', u'{http://purl.org/dc/elements/1.1/}source': {u'{http://purl.org/dc/elements/1.1/}source': {u'{http://www.politicalmashup.nl}link': None}}}, u'{http://www.politicalmashup.nl}docinfo': None, u'{http://www.politicalmashup.nl}content': {u'text': {u'p': u'I;L * .-\\u25a0\\u2022\\u25a0 -.\"\\u25a0 4,1 ffii \\' \\'\\u2022\\'\\u2022^*V*t \\'S ~fr\\u2022-\\'K\\'j\\',-^; r \\u25a0&*!* ff\\' r- AMSTERDAM. v: >\\u2022\\u2022 . C-. _.:\\u2022\\u2022\\'\\u2022 \\u2022 - .:-\\'.v- - -\\u2022\\u2022 ;-V->- \\'t-\\'-\\'S- .\\u25a0\\u2022\\u25a0 V \\u25a0\\u25a0:\\u25a0 \\u2022 -\\'\\u25a0 \\\\v^,> > *_. . \\u2022\\u2022 | - \\' \\'\\u25a0- --\\u2022-f \\\\- .\\xbb\\'-\\'\\u25a0 v*-\\': \\u2022 \\u2022+**\\u2022\\u25a0\\u25a0*\\'\\u25a0;\\u25a0- ;---\" *\\u2022 \\u2022 \\u2022\\'.\\u2022 \\u2022\\xbb,.. ** .\\u25a0 i\\'i \\'/ \\u2022 \\u2022\\u2022 SSC :\\'\\u25a0 I/- v.A-.C\\xbb* vVrv\\'*Xj<?\\'\\xbb\\'L\\u2022 i;1\\' V?/ \\'r+*~rfi- \\u25a0*;:\\' fl , \",r *;1 \",\\' :,. ,\\':* \\'\\' \" \\' * \"\\'\\' \\'\\xc8djZ;|TCLEFOON INTERCOMMUNAAL LETTE* |\\xa7'}, u'title': None}}\n",
      "{u'{http://www.politicalmashup.nl}meta': {u'{http://purl.org/dc/elements/1.1/}subject': u'advertentie', u'{http://purl.org/dc/elements/1.1/}date': u'1918-04-02', u'{http://purl.org/dc/elements/1.1/}identifier': u'ddd:011211202:mpeg21:p001:a0002', u'{http://purl.org/dc/elements/1.1/}source': {u'{http://purl.org/dc/elements/1.1/}source': {u'{http://www.politicalmashup.nl}link': None}}}, u'{http://www.politicalmashup.nl}docinfo': None, u'{http://www.politicalmashup.nl}content': {u'text': {u'p': u'koffiehuis i-,2 \\u2022 \\'\\u25a0:> \" H\\xab4\\xabn-2 April, >\\' 6avuld< \\' . W^S\\xd6NO\\xc9\\xcf)EBgEIt: &***j2er.osserib,komkommersalade ww\\xc9S^\\xd6\\xd6M; t.Heden: Hollandaebe Hutspot T iNederlandsche flunt. BoJHbcu meeat gevilde 10 oent Sigaar. C \\u2022.\\u2022\\xab\\u2022.\" \\u2022 i -v. \\u2022\\' \\u2022\\u2022\\u2022 - \\'T'}, u'title': None}}\n",
      "{u'{http://www.politicalmashup.nl}meta': {u'{http://purl.org/dc/elements/1.1/}subject': u'advertentie', u'{http://purl.org/dc/elements/1.1/}date': u'1918-04-02', u'{http://purl.org/dc/elements/1.1/}identifier': u'ddd:011211202:mpeg21:p001:a0003', u'{http://purl.org/dc/elements/1.1/}source': {u'{http://purl.org/dc/elements/1.1/}source': {u'{http://www.politicalmashup.nl}link': None}}}, u'{http://www.politicalmashup.nl}docinfo': None, u'{http://www.politicalmashup.nl}content': {u'text': {u'p': u'-J^^DIRECTTE-EN-ADMINISTRATIEiS^St , \\xbbt- \\u25a0\\u25a0\\u25a0\\' \\xbbj \\u25a0 yy~ -\\'*\" *** \\'\" \"\\u2022*\\u2022*\\'\\' \"\\'* *\"-\\u0192 ,-y _. \\u25a0-\\'\\u25a0\\u2022|x r.;\\' -\\'.* -Xr*%\"r:^-2 _45.Z~ \\'*fl-\\'\\' \"\" firn- I\"i> % i\\',+T >\\u25a0 \\u2022 .\\u2022\"\\u25a0\\'.\\xa3\\u2022 \\'\\' \\'\\u25a0\"\\'*\"*~r\\'\\'k\\'\":\" ~ \\'*y-V\\'-\\xbb-. 7* -* \\xa3 *\\u2014\\u2022\\' -1-<*- -\\'1 , r * \\\\ .\\' VAN HET ABOWWEMPfT. ,\\u25a0 . . \\u25a0\\u25a0 Wj , \" * ~ j \\u2022 , Vtrho\\xab|dmct7B cenu~oorioptooUg;ea S cent\\xbb :J:i\\' \\u2022/\\u2022 \\u2022-.;.;.^7'}, u'title': None}}\n"
     ]
    }
   ],
   "source": [
    "# i = 0\n",
    "\n",
    "# for root in json_data:\n",
    "#     for document in json_data[root]:\n",
    "#         if json_data[root][document]:\n",
    "#             for j, ding in enumerate(json_data[root][document]):\n",
    "#                 i += 1\n",
    "#                 print(json_data[root][document][j])\n",
    "#                 print i\n",
    "\n",
    "for root in json_data:\n",
    "    for i, document in enumerate(json_data[root]):\n",
    "        print json_data[root][i]"
   ]
  },
  {
   "cell_type": "code",
   "execution_count": null,
   "metadata": {
    "collapsed": true
   },
   "outputs": [],
   "source": []
  }
 ],
 "metadata": {
  "anaconda-cloud": {},
  "kernelspec": {
   "display_name": "Python [NLTK]",
   "language": "python",
   "name": "Python [NLTK]"
  },
  "language_info": {
   "codemirror_mode": {
    "name": "ipython",
    "version": 2
   },
   "file_extension": ".py",
   "mimetype": "text/x-python",
   "name": "python",
   "nbconvert_exporter": "python",
   "pygments_lexer": "ipython2",
   "version": "2.7.12"
  }
 },
 "nbformat": 4,
 "nbformat_minor": 0
}
