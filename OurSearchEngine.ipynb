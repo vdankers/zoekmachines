{
 "cells": [
  {
   "cell_type": "markdown",
   "metadata": {
    "slideshow": {
     "slide_type": "slide"
    }
   },
   "source": [
    "# ElasticSearch\n",
    "\n",
    "* Literature: <https://www.elastic.co/guide/en/elasticsearch/guide/current/index.html>\n",
    "* In this notebook we follow the steps in this guide\n",
    "* Java JDK 8 is strongly recommended, so you may need to upgrade your Java\n",
    "    (on my mac with java 1.6 elasticsearch did not work)"
   ]
  },
  {
   "cell_type": "code",
   "execution_count": 8,
   "metadata": {
    "collapsed": false
   },
   "outputs": [
    {
     "name": "stdout",
     "output_type": "stream",
     "text": [
      "java version \"1.8.0_60\"\r\n",
      "Java(TM) SE Runtime Environment (build 1.8.0_60-b27)\r\n",
      "Java HotSpot(TM) 64-Bit Server VM (build 25.60-b23, mixed mode)\r\n"
     ]
    }
   ],
   "source": [
    "! java -version"
   ]
  },
  {
   "cell_type": "markdown",
   "metadata": {},
   "source": []
  },
  {
   "cell_type": "code",
   "execution_count": null,
   "metadata": {
    "collapsed": false
   },
   "outputs": [],
   "source": [
    "# download elastic search\n",
    "# https://www.elastic.co/guide/en/elasticsearch/guide/current/_installing_elasticsearch.html\n",
    "\n",
    "% cd /Applications/\n",
    "! curl -L -O https://download.elastic.co/elasticsearch/elasticsearch/elasticsearch-1.7.1.zip\n",
    "! unzip    elasticsearch-1.7.1.zip\n"
   ]
  },
  {
   "cell_type": "code",
   "execution_count": 2,
   "metadata": {
    "collapsed": false
   },
   "outputs": [
    {
     "name": "stdout",
     "output_type": "stream",
     "text": [
      "/Applications/elasticsearch-1.7.1\n",
      "total 56\r\n",
      "-rw-rw-r--   1 admin  admin  11358 Mar 23 14:00 LICENSE.txt\r\n",
      "-rw-rw-r--   1 admin  admin    150 Jun  9 12:31 NOTICE.txt\r\n",
      "-rw-rw-r--   1 admin  admin   8700 Jun  9 12:31 README.textile\r\n",
      "drwxr-xr-x  12 admin  admin    408 Jul 29 09:56 \u001b[34mbin\u001b[m\u001b[m\r\n",
      "drwxr-xr-x   4 admin  admin    136 Jul 29 09:56 \u001b[34mconfig\u001b[m\u001b[m\r\n",
      "drwxr-xr-x  26 admin  admin    884 Jul 29 09:56 \u001b[34mlib\u001b[m\u001b[m\r\n"
     ]
    }
   ],
   "source": [
    "! rm elasticsearch-1.7.1.zip\n",
    "% cd elasticsearch-1.7.1\n",
    "!ls -l"
   ]
  },
  {
   "cell_type": "code",
   "execution_count": 9,
   "metadata": {
    "collapsed": false
   },
   "outputs": [
    {
     "name": "stdout",
     "output_type": "stream",
     "text": [
      "-> Installing elasticsearch/marvel/latest...\n",
      "Trying http://download.elasticsearch.org/elasticsearch/marvel/marvel-latest.zip...\n",
      "Downloading .....................................................................................................................................................................................................................................................................................................................................................................................................................................................................................................................................................................................DONE\n",
      "Installed elasticsearch/marvel/latest into /Applications/elasticsearch-1.7.1/plugins/marvel\n"
     ]
    }
   ],
   "source": [
    "# installing marvel\n",
    "! ./bin/plugin -i elasticsearch/marvel/latest\n",
    "! echo 'marvel.agent.enabled: false' >> ./config/elasticsearch.yml"
   ]
  },
  {
   "cell_type": "code",
   "execution_count": 12,
   "metadata": {
    "collapsed": false
   },
   "outputs": [],
   "source": [
    "# running eleastic search\n",
    "# https://www.elastic.co/guide/en/elasticsearch/guide/current/running-elasticsearch.html\n",
    "# In a notebook you should add the -d option otherwise you cannot run other cells\n",
    "\n",
    "!./bin/elasticsearch -d"
   ]
  },
  {
   "cell_type": "code",
   "execution_count": 43,
   "metadata": {
    "collapsed": false
   },
   "outputs": [
    {
     "name": "stdout",
     "output_type": "stream",
     "text": [
      "{\r\n",
      "  \"status\" : 200,\r\n",
      "  \"name\" : \"Winky Man\",\r\n",
      "  \"cluster_name\" : \"elasticsearch\",\r\n",
      "  \"version\" : {\r\n",
      "    \"number\" : \"1.7.1\",\r\n",
      "    \"build_hash\" : \"b88f43fc40b0bcd7f173a1f9ee2e97816de80b19\",\r\n",
      "    \"build_timestamp\" : \"2015-07-29T09:54:16Z\",\r\n",
      "    \"build_snapshot\" : false,\r\n",
      "    \"lucene_version\" : \"4.10.4\"\r\n",
      "  },\r\n",
      "  \"tagline\" : \"You Know, for Search\"\r\n",
      "}\r\n"
     ]
    }
   ],
   "source": [
    "!curl 'http://localhost:9200/?pretty'"
   ]
  },
  {
   "cell_type": "markdown",
   "metadata": {},
   "source": [
    "## Shutting down\n",
    "* <https://www.elastic.co/guide/en/elasticsearch/reference/current/cluster-nodes-shutdown.html>"
   ]
  },
  {
   "cell_type": "code",
   "execution_count": 76,
   "metadata": {
    "collapsed": false
   },
   "outputs": [
    {
     "name": "stdout",
     "output_type": "stream",
     "text": [
      "{\"cluster_name\":\"elasticsearch\",\"nodes\":{\"8VID4RMQSzO2ipAFfnzTLQ\":{\"name\":\"Winky Man\"}}}"
     ]
    }
   ],
   "source": [
    "!  curl -XPOST 'http://localhost:9200/_shutdown'"
   ]
  },
  {
   "cell_type": "code",
   "execution_count": 77,
   "metadata": {
    "collapsed": false
   },
   "outputs": [
    {
     "name": "stdout",
     "output_type": "stream",
     "text": [
      "curl: (7) Failed to connect to localhost port 9200: Connection refused\r\n"
     ]
    }
   ],
   "source": [
    "# Check whether it worked\n",
    "!curl 'http://localhost:9200/?pretty'"
   ]
  },
  {
   "cell_type": "markdown",
   "metadata": {},
   "source": [
    "# We start elastic search again\n",
    "* Now just follow the guide and learn\n",
    "* Instead of using the sense plugin or curl, you can talk to elastic search using the python API"
   ]
  },
  {
   "cell_type": "code",
   "execution_count": 20,
   "metadata": {
    "collapsed": true
   },
   "outputs": [],
   "source": [
    "!./bin/elasticsearch -d"
   ]
  },
  {
   "cell_type": "markdown",
   "metadata": {},
   "source": [
    "# Using the Python elastic search api\n",
    "\n",
    "* Documentation: <https://elasticsearch-py.readthedocs.org/en/master/>"
   ]
  },
  {
   "cell_type": "code",
   "execution_count": 26,
   "metadata": {
    "collapsed": false
   },
   "outputs": [
    {
     "data": {
      "text/plain": [
       "{u'_shards': {u'failed': 0, u'successful': 5, u'total': 5},\n",
       " u'hits': {u'hits': [{u'_id': u'marvelOpts',\n",
       "    u'_index': u'.marvel-kibana',\n",
       "    u'_score': 1.0,\n",
       "    u'_source': {u'report': True,\n",
       "     u'status': u'trial',\n",
       "     u'version': u'1.3.1-b725888'},\n",
       "    u'_type': u'appdata'}],\n",
       "  u'max_score': 1.0,\n",
       "  u'total': 1},\n",
       " u'timed_out': False,\n",
       " u'took': 1}"
      ]
     },
     "execution_count": 26,
     "metadata": {},
     "output_type": "execute_result"
    }
   ],
   "source": [
    "import sys\n",
    "import json\n",
    "from elasticsearch import Elasticsearch\n",
    "\n",
    "HOST = 'http://localhost:9200/'\n",
    "es = Elasticsearch(hosts=[HOST])\n",
    "\n",
    "\n",
    "query={\n",
    "  \"query\": {\n",
    "    \"match_all\": {}\n",
    "  }\n",
    "}\n",
    "\n",
    "es.search(body=query)"
   ]
  },
  {
   "cell_type": "code",
   "execution_count": 44,
   "metadata": {
    "collapsed": false
   },
   "outputs": [
    {
     "data": {
      "text/plain": [
       "{u'_shards': {u'failed': 0, u'successful': 10, u'total': 10}, u'count': 2}"
      ]
     },
     "execution_count": 44,
     "metadata": {},
     "output_type": "execute_result"
    }
   ],
   "source": [
    "# The example from https://www.elastic.co/guide/en/elasticsearch/guide/current/_talking_to_elasticsearch.html\n",
    "es.count(body=query)"
   ]
  },
  {
   "cell_type": "markdown",
   "metadata": {},
   "source": [
    "# Putting information in the DB\n",
    "\n",
    "* We follow <https://www.elastic.co/guide/en/elasticsearch/guide/current/_indexing_employee_documents.html>\n",
    "\n",
    "* Notice that the path /megacorp/employee/1 contains three pieces of information:\n",
    "    * megacorp: The index name\n",
    "    * employee: The type name\n",
    "    * 1 : The ID of this particular employee\n",
    "    \n",
    "* We use the `es.index` method "
   ]
  },
  {
   "cell_type": "code",
   "execution_count": 37,
   "metadata": {
    "collapsed": false
   },
   "outputs": [
    {
     "data": {
      "text/plain": [
       "{u'_id': u'1',\n",
       " u'_index': u'megacorp',\n",
       " u'_type': u'employee',\n",
       " u'_version': 2,\n",
       " u'created': False}"
      ]
     },
     "execution_count": 37,
     "metadata": {},
     "output_type": "execute_result"
    }
   ],
   "source": [
    "employee1= {\n",
    "    \"first_name\" : \"John\",\n",
    "    \"last_name\" :  \"Smith\",\n",
    "    \"age\" :        25,\n",
    "    \"about\" :      \"I love to go rock climbing\",\n",
    "    \"interests\": [ \"sports\", \"music\" ]\n",
    "}\n",
    "\n",
    "es.index(index='megacorp', doc_type='employee', id=1, body=employee1)"
   ]
  },
  {
   "cell_type": "code",
   "execution_count": 39,
   "metadata": {
    "collapsed": false
   },
   "outputs": [
    {
     "name": "stdout",
     "output_type": "stream",
     "text": [
      "{u'interests': [u'sports', u'music'], u'age': 25, u'about': u'I love to go rock climbing', u'last_name': u'Smith', u'first_name': u'John'}\n"
     ]
    }
   ],
   "source": [
    "res = es.get(index='megacorp', doc_type='employee', id=1)\n",
    "print(res['_source'])"
   ]
  },
  {
   "cell_type": "code",
   "execution_count": 42,
   "metadata": {
    "collapsed": false
   },
   "outputs": [
    {
     "name": "stdout",
     "output_type": "stream",
     "text": [
      "Got 1 Hits:\n",
      "John Smith is  25 years old\n"
     ]
    }
   ],
   "source": [
    "es.indices.refresh(index=\"megacorp\")\n",
    "\n",
    "res = es.search(index=\"megacorp\", body={\"query\": {\"match_all\": {}}})\n",
    "print(\"Got %d Hits:\" % res['hits']['total'])\n",
    "for hit in res['hits']['hits']:\n",
    "    print(\"%(first_name)s %(last_name)s is  %(age)d years old\" % hit[\"_source\"])"
   ]
  },
  {
   "cell_type": "code",
   "execution_count": 50,
   "metadata": {
    "collapsed": false
   },
   "outputs": [
    {
     "data": {
      "text/plain": [
       "{u'_shards': {u'failed': 0, u'successful': 5, u'total': 5},\n",
       " u'hits': {u'hits': [{u'_id': u'1',\n",
       "    u'_index': u'megacorp',\n",
       "    u'_score': 0.30685282,\n",
       "    u'_source': {u'about': u'I love to go rock climbing',\n",
       "     u'age': 25,\n",
       "     u'first_name': u'John',\n",
       "     u'interests': [u'sports', u'music'],\n",
       "     u'last_name': u'Smith'},\n",
       "    u'_type': u'employee'}],\n",
       "  u'max_score': 0.30685282,\n",
       "  u'total': 1},\n",
       " u'timed_out': False,\n",
       " u'took': 2}"
      ]
     },
     "execution_count": 50,
     "metadata": {},
     "output_type": "execute_result"
    }
   ],
   "source": [
    "# Example from https://www.elastic.co/guide/en/elasticsearch/guide/current/_search_lite.html\n",
    "# GET /megacorp/employee/_search?q=last_name:Smith\n",
    "# View the query in sense to see the specific JSON way of writing it\n",
    "\n",
    "q= {\n",
    "  \"query\": {\n",
    "    \"match\": {\n",
    "      \"last_name\": \"smith\"\n",
    "    }\n",
    "  }\n",
    "}\n",
    "res = es.search(index=\"megacorp\", body=q)\n",
    "res"
   ]
  },
  {
   "cell_type": "code",
   "execution_count": 53,
   "metadata": {
    "collapsed": false
   },
   "outputs": [
    {
     "data": {
      "text/plain": [
       "[{u'_id': u'1',\n",
       "  u'_index': u'megacorp',\n",
       "  u'_score': 0.30685282,\n",
       "  u'_source': {u'about': u'I love to go rock climbing',\n",
       "   u'age': 25,\n",
       "   u'first_name': u'John',\n",
       "   u'interests': [u'sports', u'music'],\n",
       "   u'last_name': u'Smith'},\n",
       "  u'_type': u'employee'}]"
      ]
     },
     "execution_count": 53,
     "metadata": {},
     "output_type": "execute_result"
    }
   ],
   "source": [
    "# res is a dict\n",
    "res['hits']['hits']"
   ]
  },
  {
   "cell_type": "code",
   "execution_count": 54,
   "metadata": {
    "collapsed": false
   },
   "outputs": [
    {
     "data": {
      "text/plain": [
       "0.30685282"
      ]
     },
     "execution_count": 54,
     "metadata": {},
     "output_type": "execute_result"
    }
   ],
   "source": [
    "# score of first hit \n",
    "res['hits']['hits'][0]['_score']"
   ]
  },
  {
   "cell_type": "markdown",
   "metadata": {},
   "source": [
    "# Bulk indexing\n",
    "\n",
    "If you index a lot of documents you need to use the bulk index methods.\n",
    "\n",
    "See \n",
    "* <https://www.elastic.co/guide/en/elasticsearch/guide/current/bulk.html> for the explanation in the guide\n",
    "* <http://unroutable.blogspot.nl/2015/03/quick-example-elasticsearch-bulk-index.html> for the Python way"
   ]
  },
  {
   "cell_type": "code",
   "execution_count": 65,
   "metadata": {
    "collapsed": false
   },
   "outputs": [
    {
     "data": {
      "text/plain": [
       "{'_index': 'test2', '_type': 'foo', 'letters': 'AB'}"
      ]
     },
     "execution_count": 65,
     "metadata": {},
     "output_type": "execute_result"
    }
   ],
   "source": [
    ">>> import itertools\n",
    ">>> import string\n",
    ">>> from elasticsearch import  helpers\n",
    " \n",
    ">>> # k is a generator expression that produces\n",
    "... # a series of dictionaries containing test data.\n",
    "... # The test data are just letter permutations\n",
    "... # created with itertools.permutations.\n",
    "... #\n",
    "... # We then reference k as the iterator that's\n",
    "... # consumed by the elasticsearch.helpers.bulk method.\n",
    ">>> k = ({'_type':'foo', '_index':'test2','letters':''.join(letters)}\n",
    "...      for letters in itertools.permutations(string.letters,2))\n",
    "\n",
    ">>> # calling k.next() shows examples\n",
    "... # (while consuming the generator, of course)\n",
    ">>> # each dict contains a doc type, index, and data (at minimum)\n",
    ">>> k.next()"
   ]
  },
  {
   "cell_type": "code",
   "execution_count": 73,
   "metadata": {
    "collapsed": false
   },
   "outputs": [
    {
     "data": {
      "text/plain": [
       "(6497400,\n",
       " [('A', 'B', 'C', 'D'),\n",
       "  ('A', 'B', 'C', 'E'),\n",
       "  ('A', 'B', 'C', 'F'),\n",
       "  ('A', 'B', 'C', 'G'),\n",
       "  ('A', 'B', 'C', 'H')])"
      ]
     },
     "execution_count": 73,
     "metadata": {},
     "output_type": "execute_result"
    }
   ],
   "source": [
    "# What is this k generator?\n",
    "\n",
    "letters=  [letters for letters in itertools.permutations(string.letters,4)]\n",
    "\n",
    "len(letters),letters[:5]"
   ]
  },
  {
   "cell_type": "code",
   "execution_count": 66,
   "metadata": {
    "collapsed": false
   },
   "outputs": [
    {
     "data": {
      "text/plain": [
       "{'_index': 'test2', '_type': 'foo', 'letters': 'AC'}"
      ]
     },
     "execution_count": 66,
     "metadata": {},
     "output_type": "execute_result"
    }
   ],
   "source": [
    "k.next()"
   ]
  },
  {
   "cell_type": "code",
   "execution_count": 64,
   "metadata": {
    "collapsed": false
   },
   "outputs": [
    {
     "data": {
      "text/plain": [
       "{u'acknowledged': True}"
      ]
     },
     "execution_count": 64,
     "metadata": {},
     "output_type": "execute_result"
    }
   ],
   "source": [
    ">>> # create our test index\n",
    ">>> es.indices.create('test2')"
   ]
  },
  {
   "cell_type": "code",
   "execution_count": 67,
   "metadata": {
    "collapsed": false
   },
   "outputs": [
    {
     "data": {
      "text/plain": [
       "(2650, [])"
      ]
     },
     "execution_count": 67,
     "metadata": {},
     "output_type": "execute_result"
    }
   ],
   "source": [
    "\n",
    ">>> helpers.bulk(es,k)"
   ]
  },
  {
   "cell_type": "code",
   "execution_count": 68,
   "metadata": {
    "collapsed": false
   },
   "outputs": [
    {
     "data": {
      "text/plain": [
       "{u'_shards': {u'failed': 0, u'successful': 5, u'total': 5}, u'count': 2651}"
      ]
     },
     "execution_count": 68,
     "metadata": {},
     "output_type": "execute_result"
    }
   ],
   "source": [
    ">>> # check to make sure we got what we expected...\n",
    ">>> es.count(index='test')"
   ]
  },
  {
   "cell_type": "markdown",
   "metadata": {},
   "source": [
    "# Your turn\n",
    "* Make quite a bit more documents by changing the 2 in the definition of k to 3, or 4...\n",
    "* index them again and query, and notice performance\n",
    "* find out how you can delete an index ;-)"
   ]
  },
  {
   "cell_type": "code",
   "execution_count": 75,
   "metadata": {
    "collapsed": true
   },
   "outputs": [],
   "source": []
  },
  {
   "cell_type": "code",
   "execution_count": null,
   "metadata": {
    "collapsed": true
   },
   "outputs": [],
   "source": []
  }
 ],
 "metadata": {
  "kernelspec": {
   "display_name": "Python 2",
   "language": "python",
   "name": "python2"
  },
  "language_info": {
   "codemirror_mode": {
    "name": "ipython",
    "version": 2
   },
   "file_extension": ".py",
   "mimetype": "text/x-python",
   "name": "python",
   "nbconvert_exporter": "python",
   "pygments_lexer": "ipython2",
   "version": "2.7.10"
  }
 },
 "nbformat": 4,
 "nbformat_minor": 0
}
